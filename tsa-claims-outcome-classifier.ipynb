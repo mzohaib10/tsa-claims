{
 "cells": [
  {
   "cell_type": "code",
   "execution_count": 83,
   "metadata": {
    "collapsed": false
   },
   "outputs": [
    {
     "name": "stdout",
     "output_type": "stream",
     "text": [
      "scipy: 0.18.1\n",
      "numpy: 1.11.3\n",
      "matplotlib: 2.0.0\n",
      "pandas: 0.19.2\n",
      "sklearn: 0.18.1\n"
     ]
    }
   ],
   "source": [
    "# Load all the libraries and packages and output which version is being loaded\n",
    "import scipy\n",
    "print('scipy: {}'.format(scipy.__version__)) # numpy\n",
    "import numpy as np\n",
    "print('numpy: {}'.format(np.__version__))\n",
    "# matplotlib\n",
    "import matplotlib \n",
    "import matplotlib.pyplot as plt\n",
    "print('matplotlib: {}'.format(matplotlib.__version__)) # pandas\n",
    "import pandas as pd\n",
    "print('pandas: {}'.format(pd.__version__))\n",
    "# scikit-learn\n",
    "import sklearn\n",
    "print('sklearn: {}'.format(sklearn.__version__))\n",
    "\n",
    "import datetime\n",
    "import xgboost as xgb\n",
    "from sklearn.metrics import accuracy_score\n",
    "from sklearn.preprocessing import LabelEncoder\n",
    "from sklearn.preprocessing import OneHotEncoder\n",
    "from sklearn.preprocessing import Imputer\n",
    "from sklearn.cross_validation import train_test_split\n",
    "from sklearn.feature_selection import RFE\n",
    "from sklearn.feature_selection import SelectKBest\n",
    "from sklearn.feature_selection import chi2\n",
    "from sklearn.decomposition import PCA\n",
    "from sklearn.linear_model import Ridge, RidgeCV, ElasticNet, LassoCV, LassoLarsCV\n",
    "from sklearn.linear_model import LogisticRegression\n",
    "from sklearn.discriminant_analysis import LinearDiscriminantAnalysis\n",
    "from sklearn.naive_bayes import GaussianNB\n",
    "from sklearn.ensemble import VotingClassifier\n",
    "#import ml_metrics as metrics\n",
    "from sklearn import cross_validation\n",
    "from sklearn.metrics import classification_report\n",
    "import seaborn as sns\n",
    "import warnings\n",
    "#warnings.filterwarnings('ignore')\n",
    "%matplotlib inline"
   ]
  },
  {
   "cell_type": "code",
   "execution_count": 84,
   "metadata": {
    "collapsed": false
   },
   "outputs": [
    {
     "name": "stdout",
     "output_type": "stream",
     "text": [
      "PK\u0003\u0004\u0014\u0000\u0006\u0000\b\u0000\u0000\u0000!\u000071���\u0001\u0000\u0000�\u0005\u0000\u0000\u0013\u0000\b\u0002[Content_Types].xml �\u0004\u0002(�\u0000\u0002\u0000\u0000\u0000\u0000\u0000\u0000\u0000\u0000\u0000\u0000\u0000\u0000\u0000\u0000\u0000\u0000\u0000\u0000\u0000\u0000\u0000\u0000\u0000\u0000\u0000\u0000\u0000\u0000\u0000\u0000\u0000\u0000\u0000\u0000\u0000\u0000\u0000\u0000\u0000\u0000\u0000\u0000\u0000\u0000\u0000\u0000\u0000\u0000\u0000\u0000\u0000\u0000\u0000\u0000\u0000\u0000\u0000\u0000\u0000\u0000\u0000\u0000\u0000\u0000\u0000\u0000\u0000\u0000\u0000\u0000\u0000\u0000\u0000\u0000\u0000\u0000\u0000\u0000\u0000\u0000\u0000\u0000\u0000\u0000\u0000\u0000\u0000\u0000\u0000\u0000\u0000\u0000\u0000\u0000\u0000\u0000\u0000\u0000\u0000\u0000\u0000\u0000\u0000\u0000\u0000\u0000\u0000\u0000\u0000\u0000\u0000\u0000\u0000\u0000\u0000\u0000\u0000\u0000\u0000\u0000\u0000\u0000\u0000\u0000\u0000\u0000\u0000\u0000\u0000\u0000\u0000\u0000\u0000\u0000\u0000\u0000\u0000\u0000\u0000\u0000\u0000\u0000\u0000\u0000\u0000\u0000\u0000\u0000\u0000\u0000\u0000\u0000\u0000\u0000\u0000\u0000\u0000\u0000\u0000\u0000\u0000\u0000\u0000\u0000\u0000\u0000\u0000\u0000\u0000\u0000\u0000\u0000\u0000\u0000\u0000\u0000\u0000\u0000\u0000\u0000\u0000\u0000\u0000\u0000\u0000\u0000\u0000\u0000\u0000\u0000\u0000\u0000\u0000\u0000\u0000\u0000\u0000\u0000\u0000\u0000\u0000\u0000\u0000\u0000\u0000\u0000\u0000\u0000\u0000\u0000\u0000\u0000\u0000\u0000\u0000\u0000\u0000\u0000\u0000\u0000\u0000\u0000\u0000\u0000\u0000\u0000\u0000\u0000\u0000\u0000\u0000\u0000\u0000\u0000\u0000\u0000\u0000\u0000\u0000\u0000\u0000\u0000\u0000\u0000\u0000\u0000\u0000\u0000\u0000\u0000\u0000\u0000\u0000\u0000\u0000\u0000\u0000\u0000\u0000\u0000\u0000\u0000\u0000\u0000\u0000\u0000\u0000\u0000\u0000\u0000\u0000\u0000\u0000\u0000\u0000\u0000\u0000\u0000\u0000\u0000\u0000\u0000\u0000\u0000\u0000\u0000\u0000\u0000\u0000\u0000\u0000\u0000\u0000\u0000\u0000\u0000\u0000\u0000\u0000\u0000\u0000\u0000\u0000\u0000\u0000\u0000\u0000\u0000\u0000\u0000\u0000\u0000\u0000\u0000\u0000\u0000\u0000\u0000\u0000\u0000\u0000\u0000\u0000\u0000\u0000\u0000\u0000\u0000\u0000\u0000\u0000\u0000\u0000\u0000\u0000\u0000\u0000\u0000\u0000\u0000\u0000\u0000\u0000\u0000\u0000\u0000\u0000\u0000\u0000\u0000\u0000\u0000\u0000\u0000\u0000\u0000\u0000\u0000\u0000\u0000\u0000\u0000\u0000\u0000\u0000\u0000\u0000\u0000\u0000\u0000\u0000\u0000\u0000\u0000\u0000\u0000\u0000\u0000\u0000\u0000\u0000\u0000\u0000\u0000\u0000\u0000\u0000\u0000\u0000\u0000\u0000\u0000\u0000\u0000\u0000\u0000\u0000\u0000\u0000\u0000\u0000\u0000\u0000\u0000\u0000\u0000\u0000\u0000\u0000\u0000\u0000\u0000\u0000\u0000\u0000\u0000\u0000\u0000\u0000\u0000\u0000\u0000\u0000\u0000\u0000\u0000\u0000\u0000\u0000\u0000\u0000\u0000\u0000\u0000\u0000\u0000\u0000\u0000\u0000\u0000\u0000\u0000\u0000\u0000\u0000\u0000\u0000\u0000\u0000\u0000\u0000\u0000\u0000\u0000\u0000\u0000\u0000\u0000\u0000\u0000\u0000\u0000\u0000\u0000\u0000\u0000\u0000\u0000\u0000\u0000\u0000\u0000\u0000\u0000\u0000\u0000\u0000\u0000\u0000\u0000\u0000\u0000\u0000\u0000\u0000\u0000\u0000\u0000\u0000\u0000\u0000\u0000\u0000\u0000\u0000\u0000\u0000\u0000\u0000\u0000\u0000\u0000\u0000\u0000\u0000\u0000\u0000\u0000\u0000\u0000\u0000\u0000�TKo�0\f",
      "�O��r���\u000e�4Q8�qܐ`? 4�F�I\u0014\u001b\u0006�~nxhC@��ҨI�=\u001c",
      "۽����%\u00044�梛uD\u0002�p��Y.��\u001f�H��ժr\u0016r�\u0006\u0014���]o���\tG[�EI�_�Ģ�Za�<X>��P+��0�^\u0015s5\u0003���<��Y\u0002K)5\u0018��{��ZT���x{�db�H^7�\u001a�\\(�+S(b�ri�\u0001I�SS�vŢf�\f",
      "}\u0000��\u0004���|0�\u0018F@��Pȣ�\u0001*��t�*��(\f",
      "K�񁭟`hNN���}�s\u0004�!\u0019�@��f�rU�\u001f\u0017�\u0013���y�KS\u0013S���؝�3��2ʸto,��\u0017�[t\u0010�\u0018���^B�i!DZW�7v�\u0001mc.U\u0000=\"����\u0005��n�Aj�\u0019�q�>��[3����\u001e",
      "\u0006瑧F��_aעMt�\u0019\b\u0002\u0019�7�b�3�ȹ��`\u0010A3�4�#�2���/\u0000\u0000\u0000��\u0003\u0000PK\u0003\u0004\u0014\u0000\u0006\u0000\b\u0000\u0000\u0000!\u0000�U0#�\u0000\u0000\u0000L\u0002\u0000\u0000\u000b",
      "\u0000\b\u0002_rels/.rels �\u0004\u0002(�\u0000\u0002\u0000\u0000\u0000\u0000\u0000\u0000\u0000\u0000\u0000\u0000\u0000\u0000\u0000\u0000\u0000\u0000\u0000\u0000\u0000\u0000\u0000\u0000\u0000\u0000\u0000\u0000\u0000\u0000\u0000\u0000\u0000\u0000\u0000\u0000\u0000\u0000\u0000\u0000\u0000\u0000\u0000\u0000\u0000\u0000\u0000\u0000\u0000\u0000\u0000\u0000\u0000\u0000\u0000\u0000\u0000\u0000\u0000\u0000\u0000\u0000\u0000\u0000\u0000\u0000\u0000\u0000\u0000\u0000\u0000\u0000\u0000\u0000\u0000\u0000\u0000\u0000\u0000\u0000\u0000\u0000\u0000\u0000\u0000\u0000\u0000\u0000\u0000\u0000\u0000\u0000\u0000\u0000\u0000\u0000\u0000\u0000\u0000\u0000\u0000\u0000\u0000\u0000\u0000\u0000\u0000\u0000\u0000\u0000\u0000\u0000\u0000\u0000\u0000\u0000\u0000\u0000\u0000\u0000\u0000\u0000\u0000\u0000\u0000\u0000\u0000\u0000\u0000\u0000\u0000\u0000\u0000\u0000\u0000\u0000\u0000\u0000\u0000\u0000\u0000\u0000\u0000\u0000\u0000\u0000\u0000\u0000\u0000\u0000\u0000\u0000\u0000\u0000\u0000\u0000\u0000\u0000\u0000\u0000\u0000\u0000\u0000\u0000\u0000\u0000\u0000\u0000\u0000\u0000\u0000\u0000\u0000\u0000\u0000\u0000\u0000\u0000\u0000\u0000\u0000\u0000\u0000\u0000\u0000\u0000\u0000\u0000\u0000\u0000\u0000\u0000\u0000\u0000\u0000\u0000\u0000\u0000\u0000\u0000\u0000\u0000\u0000\u0000\u0000\u0000\u0000\u0000\u0000\u0000\u0000\u0000\u0000\u0000\u0000\u0000\u0000\u0000\u0000\u0000\u0000\u0000\u0000\u0000\u0000\u0000\u0000\u0000\u0000\u0000\u0000\u0000\u0000\u0000\u0000\u0000\u0000\u0000\u0000\u0000\u0000\u0000\u0000\u0000\u0000\u0000\u0000\u0000\u0000\u0000\u0000\u0000\u0000\u0000\u0000\u0000\u0000\u0000\u0000\u0000\u0000\u0000\u0000\u0000\u0000\u0000\u0000\u0000\u0000\u0000\u0000\u0000\u0000\u0000\u0000\u0000\u0000\u0000\u0000\u0000\u0000\u0000\u0000\u0000\u0000\u0000\u0000\u0000\u0000\u0000\u0000\u0000\u0000\u0000\u0000\u0000\u0000\u0000\u0000\u0000\u0000\u0000\u0000\u0000\u0000\u0000\u0000\u0000\u0000\u0000\u0000\u0000\u0000\u0000\u0000\u0000\u0000\u0000\u0000\u0000\u0000\u0000\u0000\u0000\u0000\u0000\u0000\u0000\u0000\u0000\u0000\u0000\u0000\u0000\u0000\u0000\u0000\u0000\u0000\u0000\u0000\u0000\u0000\u0000\u0000\u0000\u0000\u0000\u0000\u0000\u0000\u0000\u0000\u0000\u0000\u0000\u0000\u0000\u0000\u0000\u0000\u0000\u0000\u0000\u0000\u0000\u0000\u0000\u0000\u0000\u0000\u0000\u0000\u0000\u0000\u0000\u0000\u0000\u0000\u0000\u0000\u0000\u0000\u0000\u0000\u0000\u0000\u0000\u0000\u0000\u0000\u0000\u0000\u0000\u0000\u0000\u0000\u0000\u0000\u0000\u0000\u0000\u0000\u0000\u0000\u0000\u0000\u0000\u0000\u0000\u0000\u0000\u0000\u0000\u0000\u0000\u0000\u0000\u0000\u0000\u0000\u0000\u0000\u0000\u0000\u0000\u0000\u0000\u0000\u0000\u0000\u0000\u0000\u0000\u0000\u0000\u0000\u0000\u0000\u0000\u0000\u0000\u0000\u0000\u0000\u0000\u0000\u0000\u0000\u0000\u0000\u0000\u0000\u0000\u0000\u0000\u0000\u0000\u0000\u0000\u0000\u0000\u0000\u0000\u0000\u0000\u0000\u0000\u0000\u0000\u0000\u0000\u0000\u0000\u0000\u0000\u0000\u0000\u0000\u0000\u0000\u0000\u0000\u0000\u0000\u0000\u0000\u0000\u0000\u0000\u0000\u0000\u0000\u0000\u0000\u0000\u0000\u0000\u0000\u0000\u0000\u0000\u0000\u0000\u0000\u0000\u0000\u0000\u0000\u0000\u0000\u0000\u0000\u0000���N�0\f",
      "��H�C���nH\b���LH�!T\u001e",
      "�$�\u001f���$@���\u0003�Jc�����?[���iT\u001f\u001c",
      "b/Nú(A�3b{�jx��V\u000f�b\"gi\u0014�\u001a�\u001c",
      "aW��l_x���b������\u001a���#b4\u001d",
      "O\u0014\u000b",
      "��r��0Q�ahѓ\u0019�eܔ�=��\u001e",
      "P-<��j\b\u0007{\u0007�>�<���4Mox/�}b�N�@�\u0013;�v�Cf\u000b",
      "��ۨ�B�I�\u0015��\u0011��\"c\u0003�&�\\O���8q\"K��H��<ߊs@��.�h����<⧄�Md�a��\u000fT_\u0000\u0000\u0000��\u0003\u0000PK\u0003\u0004\u0014\u0000\u0006\u0000\b\u0000\u0000\u0000!\u0000�>���\u0000\u0000\u0000�\u0002\u0000\u0000\u001a\u0000\b\u0001xl/_rels/workbook.xml.rels �\u0004\u0001(�\u0000\u0001\u0000\u0000\u0000\u0000\u0000\u0000\u0000\u0000\u0000\u0000\u0000\u0000\u0000\u0000\u0000\u0000\u0000\u0000\u0000\u0000\u0000\u0000\u0000\u0000\u0000\u0000\u0000\u0000\u0000\u0000\u0000\u0000\u0000\u0000\u0000\u0000\u0000\u0000\u0000\u0000\u0000\u0000\u0000\u0000\u0000\u0000\u0000\u0000\u0000\u0000\u0000\u0000\u0000\u0000\u0000\u0000\u0000\u0000\u0000\u0000\u0000\u0000\u0000\u0000\u0000\u0000\u0000\u0000\u0000\u0000\u0000\u0000\u0000\u0000\u0000\u0000\u0000\u0000\u0000\u0000\u0000\u0000\u0000\u0000\u0000\u0000\u0000\u0000\u0000\u0000\u0000\u0000\u0000\u0000\u0000\u0000\u0000\u0000\u0000\u0000\u0000\u0000\u0000\u0000\u0000\u0000\u0000\u0000\u0000\u0000\u0000\u0000\u0000\u0000\u0000\u0000\u0000\u0000\u0000\u0000\u0000\u0000\u0000\u0000\u0000\u0000\u0000\u0000\u0000\u0000\u0000\u0000\u0000\u0000\u0000\u0000\u0000\u0000\u0000\u0000\u0000\u0000\u0000\u0000\u0000\u0000\u0000\u0000\u0000\u0000\u0000\u0000\u0000\u0000\u0000\u0000\u0000\u0000\u0000\u0000\u0000\u0000\u0000\u0000\u0000\u0000\u0000\u0000\u0000\u0000\u0000\u0000\u0000\u0000\u0000\u0000\u0000\u0000\u0000\u0000\u0000\u0000\u0000\u0000\u0000\u0000\u0000\u0000\u0000\u0000\u0000\u0000\u0000\u0000\u0000\u0000\u0000\u0000\u0000\u0000\u0000\u0000\u0000\u0000\u0000\u0000\u0000\u0000\u0000\u0000\u0000\u0000\u0000\u0000\u0000\u0000\u0000\u0000\u0000\u0000\u0000\u0000\u0000\u0000\u0000\u0000\u0000\u0000\u0000\u0000\u0000\u0000\u0000\u0000\u0000\u0000\u0000\u0000\u0000\u0000\u0000\u0000\u0000\u0000\u0000\u0000\u0000\u0000\u0000\u0000\u0000\u0000\u0000\u0000\u0000\u0000���J�0\u0010���\u0010�nӮ\"\"��E��j}��L��m\u00122㟾���ۅe��\u0012�f���2���k\u001c",
      "�\u0007&�WP\u0015%\b�&��w\r\n",
      "ޚ�\u0007\u0010��[=\u0004�\r\n"
     ]
    }
   ],
   "source": [
    "!head -n2 datasets/claims-2002-2006_0.xls"
   ]
  },
  {
   "cell_type": "code",
   "execution_count": 85,
   "metadata": {
    "collapsed": false
   },
   "outputs": [
    {
     "data": {
      "text/html": [
       "<div>\n",
       "<table border=\"1\" class=\"dataframe\">\n",
       "  <thead>\n",
       "    <tr style=\"text-align: right;\">\n",
       "      <th></th>\n",
       "      <th>Claim Number</th>\n",
       "      <th>Date Received</th>\n",
       "      <th>Incident Date</th>\n",
       "      <th>Airport Code</th>\n",
       "      <th>Airport Name</th>\n",
       "      <th>Airline Name</th>\n",
       "      <th>Claim Type</th>\n",
       "      <th>Claim Site</th>\n",
       "      <th>Item</th>\n",
       "      <th>Claim Amount</th>\n",
       "      <th>Status</th>\n",
       "      <th>Close Amount</th>\n",
       "      <th>Disposition</th>\n",
       "    </tr>\n",
       "  </thead>\n",
       "  <tbody>\n",
       "    <tr>\n",
       "      <th>0</th>\n",
       "      <td>0909802M</td>\n",
       "      <td>2002-01-04 00:00:00</td>\n",
       "      <td>2002-12-12 00:00:00</td>\n",
       "      <td>EWR</td>\n",
       "      <td>Newark International Airport</td>\n",
       "      <td>Continental Airlines</td>\n",
       "      <td>Property Damage</td>\n",
       "      <td>Checkpoint</td>\n",
       "      <td>Other</td>\n",
       "      <td>350.0</td>\n",
       "      <td>Approved</td>\n",
       "      <td>350.0</td>\n",
       "      <td>Approve in Full</td>\n",
       "    </tr>\n",
       "    <tr>\n",
       "      <th>1</th>\n",
       "      <td>0202417M</td>\n",
       "      <td>2002-02-02 00:00:00</td>\n",
       "      <td>2004-01-16 00:00:00</td>\n",
       "      <td>SEA</td>\n",
       "      <td>Seattle-Tacoma International</td>\n",
       "      <td>NaN</td>\n",
       "      <td>Property Damage</td>\n",
       "      <td>Checked Baggage</td>\n",
       "      <td>Luggage (all types including footlockers)</td>\n",
       "      <td>100.0</td>\n",
       "      <td>Settled</td>\n",
       "      <td>50.0</td>\n",
       "      <td>Settle</td>\n",
       "    </tr>\n",
       "  </tbody>\n",
       "</table>\n",
       "</div>"
      ],
      "text/plain": [
       "  Claim Number        Date Received        Incident Date Airport Code  \\\n",
       "0     0909802M  2002-01-04 00:00:00  2002-12-12 00:00:00          EWR   \n",
       "1     0202417M  2002-02-02 00:00:00  2004-01-16 00:00:00          SEA   \n",
       "\n",
       "                   Airport Name          Airline Name       Claim Type  \\\n",
       "0  Newark International Airport  Continental Airlines  Property Damage   \n",
       "1  Seattle-Tacoma International                   NaN  Property Damage   \n",
       "\n",
       "        Claim Site                                       Item  Claim Amount  \\\n",
       "0       Checkpoint                                      Other         350.0   \n",
       "1  Checked Baggage  Luggage (all types including footlockers)         100.0   \n",
       "\n",
       "     Status  Close Amount      Disposition  \n",
       "0  Approved         350.0  Approve in Full  \n",
       "1   Settled          50.0           Settle  "
      ]
     },
     "execution_count": 85,
     "metadata": {},
     "output_type": "execute_result"
    }
   ],
   "source": [
    "df1 = pd.read_excel('datasets/claims-2002-2006_0.xls')\n",
    "df1.head(2)"
   ]
  },
  {
   "cell_type": "code",
   "execution_count": 86,
   "metadata": {
    "collapsed": false
   },
   "outputs": [
    {
     "data": {
      "text/html": [
       "<div>\n",
       "<table border=\"1\" class=\"dataframe\">\n",
       "  <thead>\n",
       "    <tr style=\"text-align: right;\">\n",
       "      <th></th>\n",
       "      <th>Claim Number</th>\n",
       "      <th>Date Received</th>\n",
       "      <th>Incident Date</th>\n",
       "      <th>Airport Code</th>\n",
       "      <th>Airport Name</th>\n",
       "      <th>Airline Name</th>\n",
       "      <th>Claim Type</th>\n",
       "      <th>Claim Site</th>\n",
       "      <th>Item</th>\n",
       "      <th>Claim Amount</th>\n",
       "      <th>Status</th>\n",
       "      <th>Close Amount</th>\n",
       "      <th>Disposition</th>\n",
       "    </tr>\n",
       "  </thead>\n",
       "  <tbody>\n",
       "    <tr>\n",
       "      <th>0</th>\n",
       "      <td>2007010518383</td>\n",
       "      <td>2007-01-01</td>\n",
       "      <td>2006-11-25 00:00:00</td>\n",
       "      <td>PHX</td>\n",
       "      <td>Phoenix Sky Harbor International</td>\n",
       "      <td>Southwest Airlines</td>\n",
       "      <td>Passenger Property Loss</td>\n",
       "      <td>Checked Baggage</td>\n",
       "      <td>Automobile Parts; Other</td>\n",
       "      <td>319.73</td>\n",
       "      <td>Denied</td>\n",
       "      <td>0.0</td>\n",
       "      <td>Deny</td>\n",
       "    </tr>\n",
       "    <tr>\n",
       "      <th>1</th>\n",
       "      <td>2007020620282</td>\n",
       "      <td>2007-01-02</td>\n",
       "      <td>2007-01-02 00:00:00</td>\n",
       "      <td>RDU</td>\n",
       "      <td>Raleigh-Durham International</td>\n",
       "      <td>Delta Air Lines</td>\n",
       "      <td>Passenger Property Loss</td>\n",
       "      <td>Checkpoint</td>\n",
       "      <td>Watches - Expensive more than $100</td>\n",
       "      <td>1995.00</td>\n",
       "      <td>Denied</td>\n",
       "      <td>0.0</td>\n",
       "      <td>Deny</td>\n",
       "    </tr>\n",
       "  </tbody>\n",
       "</table>\n",
       "</div>"
      ],
      "text/plain": [
       "    Claim Number Date Received        Incident Date Airport Code  \\\n",
       "0  2007010518383    2007-01-01  2006-11-25 00:00:00          PHX   \n",
       "1  2007020620282    2007-01-02  2007-01-02 00:00:00          RDU   \n",
       "\n",
       "                       Airport Name        Airline Name  \\\n",
       "0  Phoenix Sky Harbor International  Southwest Airlines   \n",
       "1      Raleigh-Durham International     Delta Air Lines   \n",
       "\n",
       "                Claim Type       Claim Site  \\\n",
       "0  Passenger Property Loss  Checked Baggage   \n",
       "1  Passenger Property Loss       Checkpoint   \n",
       "\n",
       "                                 Item  Claim Amount  Status  Close Amount  \\\n",
       "0             Automobile Parts; Other        319.73  Denied           0.0   \n",
       "1  Watches - Expensive more than $100       1995.00  Denied           0.0   \n",
       "\n",
       "  Disposition  \n",
       "0        Deny  \n",
       "1        Deny  "
      ]
     },
     "execution_count": 86,
     "metadata": {},
     "output_type": "execute_result"
    }
   ],
   "source": [
    "df2 = pd.read_excel('datasets/claims-2007-2009_0.xls')\n",
    "df2.head(2)"
   ]
  },
  {
   "cell_type": "code",
   "execution_count": 87,
   "metadata": {
    "collapsed": true
   },
   "outputs": [],
   "source": [
    "# UDF for adding underscore between column_names of two words or more\n",
    "def addUnderscore(current_columns):\n",
    "    new_columns = []\n",
    "    for item in current_columns:\n",
    "        segments = item.split()\n",
    "        new_columns.append('_'.join(segments))\n",
    "    return new_columns"
   ]
  },
  {
   "cell_type": "code",
   "execution_count": 88,
   "metadata": {
    "collapsed": false
   },
   "outputs": [],
   "source": [
    "# Replace black space in columns names with underscore\n",
    "df1.rename(columns=dict(zip(df1.columns.tolist(),addUnderscore(df1.columns.tolist()))), inplace=True)\n",
    "df2.rename(columns=dict(zip(df2.columns.tolist(),addUnderscore(df2.columns.tolist()))), inplace=True)"
   ]
  },
  {
   "cell_type": "code",
   "execution_count": 89,
   "metadata": {
    "collapsed": false
   },
   "outputs": [
    {
     "data": {
      "text/html": [
       "<div>\n",
       "<table border=\"1\" class=\"dataframe\">\n",
       "  <thead>\n",
       "    <tr style=\"text-align: right;\">\n",
       "      <th></th>\n",
       "      <th>Claim_Number</th>\n",
       "      <th>Date_Received</th>\n",
       "      <th>Incident_Date</th>\n",
       "      <th>Airport_Code</th>\n",
       "      <th>Airport_Name</th>\n",
       "      <th>Airline_Name</th>\n",
       "      <th>Claim_Type</th>\n",
       "      <th>Claim_Site</th>\n",
       "      <th>Item</th>\n",
       "      <th>Claim_Amount</th>\n",
       "      <th>Status</th>\n",
       "      <th>Close_Amount</th>\n",
       "      <th>Disposition</th>\n",
       "    </tr>\n",
       "  </thead>\n",
       "  <tbody>\n",
       "    <tr>\n",
       "      <th>0</th>\n",
       "      <td>0909802M</td>\n",
       "      <td>2002-01-04 00:00:00</td>\n",
       "      <td>2002-12-12 00:00:00</td>\n",
       "      <td>EWR</td>\n",
       "      <td>Newark International Airport</td>\n",
       "      <td>Continental Airlines</td>\n",
       "      <td>Property Damage</td>\n",
       "      <td>Checkpoint</td>\n",
       "      <td>Other</td>\n",
       "      <td>350.00</td>\n",
       "      <td>Approved</td>\n",
       "      <td>350.00</td>\n",
       "      <td>Approve in Full</td>\n",
       "    </tr>\n",
       "    <tr>\n",
       "      <th>1</th>\n",
       "      <td>0202417M</td>\n",
       "      <td>2002-02-02 00:00:00</td>\n",
       "      <td>2004-01-16 00:00:00</td>\n",
       "      <td>SEA</td>\n",
       "      <td>Seattle-Tacoma International</td>\n",
       "      <td>NaN</td>\n",
       "      <td>Property Damage</td>\n",
       "      <td>Checked Baggage</td>\n",
       "      <td>Luggage (all types including footlockers)</td>\n",
       "      <td>100.00</td>\n",
       "      <td>Settled</td>\n",
       "      <td>50.00</td>\n",
       "      <td>Settle</td>\n",
       "    </tr>\n",
       "    <tr>\n",
       "      <th>2</th>\n",
       "      <td>0202445M</td>\n",
       "      <td>2002-02-04 00:00:00</td>\n",
       "      <td>2003-11-26 00:00:00</td>\n",
       "      <td>STL</td>\n",
       "      <td>Lambert St. Louis International</td>\n",
       "      <td>American Airlines</td>\n",
       "      <td>Property Damage</td>\n",
       "      <td>Checked Baggage</td>\n",
       "      <td>Cell Phones</td>\n",
       "      <td>278.88</td>\n",
       "      <td>Settled</td>\n",
       "      <td>227.92</td>\n",
       "      <td>Settle</td>\n",
       "    </tr>\n",
       "    <tr>\n",
       "      <th>3</th>\n",
       "      <td>0909816M</td>\n",
       "      <td>2002-02-07 00:00:00</td>\n",
       "      <td>2003-01-06 00:00:00</td>\n",
       "      <td>MIA</td>\n",
       "      <td>Miami International Airport</td>\n",
       "      <td>American Airlines</td>\n",
       "      <td>Property Damage</td>\n",
       "      <td>Checkpoint</td>\n",
       "      <td>Luggage (all types including footlockers)</td>\n",
       "      <td>50.00</td>\n",
       "      <td>Approved</td>\n",
       "      <td>50.00</td>\n",
       "      <td>Approve in Full</td>\n",
       "    </tr>\n",
       "    <tr>\n",
       "      <th>4</th>\n",
       "      <td>2005032379513</td>\n",
       "      <td>2002-02-18 00:00:00</td>\n",
       "      <td>2005-02-05 00:00:00</td>\n",
       "      <td>MCO</td>\n",
       "      <td>Orlando International Airport</td>\n",
       "      <td>Delta (Song)</td>\n",
       "      <td>Property Damage</td>\n",
       "      <td>Checkpoint</td>\n",
       "      <td>Baby - Strollers, car seats, playpen, etc.</td>\n",
       "      <td>84.79</td>\n",
       "      <td>Approved</td>\n",
       "      <td>84.79</td>\n",
       "      <td>Approve in Full</td>\n",
       "    </tr>\n",
       "  </tbody>\n",
       "</table>\n",
       "</div>"
      ],
      "text/plain": [
       "    Claim_Number        Date_Received        Incident_Date Airport_Code  \\\n",
       "0       0909802M  2002-01-04 00:00:00  2002-12-12 00:00:00          EWR   \n",
       "1       0202417M  2002-02-02 00:00:00  2004-01-16 00:00:00          SEA   \n",
       "2       0202445M  2002-02-04 00:00:00  2003-11-26 00:00:00          STL   \n",
       "3       0909816M  2002-02-07 00:00:00  2003-01-06 00:00:00          MIA   \n",
       "4  2005032379513  2002-02-18 00:00:00  2005-02-05 00:00:00          MCO   \n",
       "\n",
       "                      Airport_Name          Airline_Name       Claim_Type  \\\n",
       "0     Newark International Airport  Continental Airlines  Property Damage   \n",
       "1     Seattle-Tacoma International                   NaN  Property Damage   \n",
       "2  Lambert St. Louis International     American Airlines  Property Damage   \n",
       "3      Miami International Airport     American Airlines  Property Damage   \n",
       "4    Orlando International Airport          Delta (Song)  Property Damage   \n",
       "\n",
       "        Claim_Site                                        Item  Claim_Amount  \\\n",
       "0       Checkpoint                                       Other        350.00   \n",
       "1  Checked Baggage   Luggage (all types including footlockers)        100.00   \n",
       "2  Checked Baggage                                 Cell Phones        278.88   \n",
       "3       Checkpoint   Luggage (all types including footlockers)         50.00   \n",
       "4       Checkpoint  Baby - Strollers, car seats, playpen, etc.         84.79   \n",
       "\n",
       "     Status  Close_Amount      Disposition  \n",
       "0  Approved        350.00  Approve in Full  \n",
       "1   Settled         50.00           Settle  \n",
       "2   Settled        227.92           Settle  \n",
       "3  Approved         50.00  Approve in Full  \n",
       "4  Approved         84.79  Approve in Full  "
      ]
     },
     "execution_count": 89,
     "metadata": {},
     "output_type": "execute_result"
    }
   ],
   "source": [
    "df1.head()"
   ]
  },
  {
   "cell_type": "code",
   "execution_count": 90,
   "metadata": {
    "collapsed": false
   },
   "outputs": [
    {
     "data": {
      "text/html": [
       "<div>\n",
       "<table border=\"1\" class=\"dataframe\">\n",
       "  <thead>\n",
       "    <tr style=\"text-align: right;\">\n",
       "      <th></th>\n",
       "      <th>Claim_Number</th>\n",
       "      <th>Date_Received</th>\n",
       "      <th>Incident_Date</th>\n",
       "      <th>Airport_Code</th>\n",
       "      <th>Airport_Name</th>\n",
       "      <th>Airline_Name</th>\n",
       "      <th>Claim_Type</th>\n",
       "      <th>Claim_Site</th>\n",
       "      <th>Item</th>\n",
       "      <th>Claim_Amount</th>\n",
       "      <th>Status</th>\n",
       "      <th>Close_Amount</th>\n",
       "      <th>Disposition</th>\n",
       "    </tr>\n",
       "  </thead>\n",
       "  <tbody>\n",
       "    <tr>\n",
       "      <th>0</th>\n",
       "      <td>2007010518383</td>\n",
       "      <td>2007-01-01</td>\n",
       "      <td>2006-11-25 00:00:00</td>\n",
       "      <td>PHX</td>\n",
       "      <td>Phoenix Sky Harbor International</td>\n",
       "      <td>Southwest Airlines</td>\n",
       "      <td>Passenger Property Loss</td>\n",
       "      <td>Checked Baggage</td>\n",
       "      <td>Automobile Parts; Other</td>\n",
       "      <td>319.73</td>\n",
       "      <td>Denied</td>\n",
       "      <td>0.0</td>\n",
       "      <td>Deny</td>\n",
       "    </tr>\n",
       "    <tr>\n",
       "      <th>1</th>\n",
       "      <td>2007020620282</td>\n",
       "      <td>2007-01-02</td>\n",
       "      <td>2007-01-02 00:00:00</td>\n",
       "      <td>RDU</td>\n",
       "      <td>Raleigh-Durham International</td>\n",
       "      <td>Delta Air Lines</td>\n",
       "      <td>Passenger Property Loss</td>\n",
       "      <td>Checkpoint</td>\n",
       "      <td>Watches - Expensive more than $100</td>\n",
       "      <td>1995.00</td>\n",
       "      <td>Denied</td>\n",
       "      <td>0.0</td>\n",
       "      <td>Deny</td>\n",
       "    </tr>\n",
       "    <tr>\n",
       "      <th>2</th>\n",
       "      <td>2007020620284</td>\n",
       "      <td>2007-01-02</td>\n",
       "      <td>2006-12-05 00:00:00</td>\n",
       "      <td>BOS</td>\n",
       "      <td>Boston (Logan) International Airport</td>\n",
       "      <td>Jet Blue</td>\n",
       "      <td>Passenger Property Loss</td>\n",
       "      <td>Checked Baggage</td>\n",
       "      <td>Computer - Laptop</td>\n",
       "      <td>850.00</td>\n",
       "      <td>Denied</td>\n",
       "      <td>0.0</td>\n",
       "      <td>Deny</td>\n",
       "    </tr>\n",
       "    <tr>\n",
       "      <th>3</th>\n",
       "      <td>2008010937576</td>\n",
       "      <td>2007-01-02</td>\n",
       "      <td>2007-12-04 00:00:00</td>\n",
       "      <td>SJC</td>\n",
       "      <td>Norman Y Mineta San Jose International</td>\n",
       "      <td>Continental Airlines</td>\n",
       "      <td>Passenger Property Loss</td>\n",
       "      <td>Checked Baggage</td>\n",
       "      <td>Eyeglasses - (including contact lenses)</td>\n",
       "      <td>350.00</td>\n",
       "      <td>Denied</td>\n",
       "      <td>0.0</td>\n",
       "      <td>Deny</td>\n",
       "    </tr>\n",
       "    <tr>\n",
       "      <th>4</th>\n",
       "      <td>2008010437392</td>\n",
       "      <td>2007-01-02</td>\n",
       "      <td>2007-12-22 00:00:00</td>\n",
       "      <td>LAS</td>\n",
       "      <td>McCarran International</td>\n",
       "      <td>Alaska Airlines</td>\n",
       "      <td>Property Damage</td>\n",
       "      <td>Checked Baggage</td>\n",
       "      <td>Luggage (all types including footlockers)</td>\n",
       "      <td>NaN</td>\n",
       "      <td>Insufficient, one of the following items requi...</td>\n",
       "      <td>NaN</td>\n",
       "      <td>NaN</td>\n",
       "    </tr>\n",
       "  </tbody>\n",
       "</table>\n",
       "</div>"
      ],
      "text/plain": [
       "    Claim_Number Date_Received        Incident_Date Airport_Code  \\\n",
       "0  2007010518383    2007-01-01  2006-11-25 00:00:00          PHX   \n",
       "1  2007020620282    2007-01-02  2007-01-02 00:00:00          RDU   \n",
       "2  2007020620284    2007-01-02  2006-12-05 00:00:00          BOS   \n",
       "3  2008010937576    2007-01-02  2007-12-04 00:00:00          SJC   \n",
       "4  2008010437392    2007-01-02  2007-12-22 00:00:00          LAS   \n",
       "\n",
       "                             Airport_Name          Airline_Name  \\\n",
       "0        Phoenix Sky Harbor International    Southwest Airlines   \n",
       "1            Raleigh-Durham International       Delta Air Lines   \n",
       "2    Boston (Logan) International Airport              Jet Blue   \n",
       "3  Norman Y Mineta San Jose International  Continental Airlines   \n",
       "4                  McCarran International       Alaska Airlines   \n",
       "\n",
       "                Claim_Type       Claim_Site  \\\n",
       "0  Passenger Property Loss  Checked Baggage   \n",
       "1  Passenger Property Loss       Checkpoint   \n",
       "2  Passenger Property Loss  Checked Baggage   \n",
       "3  Passenger Property Loss  Checked Baggage   \n",
       "4          Property Damage  Checked Baggage   \n",
       "\n",
       "                                        Item  Claim_Amount  \\\n",
       "0                    Automobile Parts; Other        319.73   \n",
       "1         Watches - Expensive more than $100       1995.00   \n",
       "2                          Computer - Laptop        850.00   \n",
       "3    Eyeglasses - (including contact lenses)        350.00   \n",
       "4  Luggage (all types including footlockers)           NaN   \n",
       "\n",
       "                                              Status  Close_Amount Disposition  \n",
       "0                                             Denied           0.0        Deny  \n",
       "1                                             Denied           0.0        Deny  \n",
       "2                                             Denied           0.0        Deny  \n",
       "3                                             Denied           0.0        Deny  \n",
       "4  Insufficient, one of the following items requi...           NaN         NaN  "
      ]
     },
     "execution_count": 90,
     "metadata": {},
     "output_type": "execute_result"
    }
   ],
   "source": [
    "df2.head()"
   ]
  },
  {
   "cell_type": "code",
   "execution_count": 91,
   "metadata": {
    "collapsed": false
   },
   "outputs": [
    {
     "data": {
      "text/plain": [
       "Index([], dtype='object')"
      ]
     },
     "execution_count": 91,
     "metadata": {},
     "output_type": "execute_result"
    }
   ],
   "source": [
    "# Check to make sure both dataframe have the same columns\n",
    "df2.columns.difference(df1.columns)"
   ]
  },
  {
   "cell_type": "code",
   "execution_count": 92,
   "metadata": {
    "collapsed": false
   },
   "outputs": [
    {
     "data": {
      "text/plain": [
       "(97231, 13)"
      ]
     },
     "execution_count": 92,
     "metadata": {},
     "output_type": "execute_result"
    }
   ],
   "source": [
    "df1.shape"
   ]
  },
  {
   "cell_type": "code",
   "execution_count": 93,
   "metadata": {
    "collapsed": false
   },
   "outputs": [
    {
     "data": {
      "text/plain": [
       "RangeIndex(start=0, stop=145143, step=1)"
      ]
     },
     "execution_count": 93,
     "metadata": {},
     "output_type": "execute_result"
    }
   ],
   "source": [
    "# Combine both df1 and df2 into one dataframe df12\n",
    "df12 = pd.concat([df1,df2])\n",
    "df12.reset_index(drop=True, inplace=True)\n",
    "df12.index"
   ]
  },
  {
   "cell_type": "code",
   "execution_count": 94,
   "metadata": {
    "collapsed": false
   },
   "outputs": [
    {
     "data": {
      "text/plain": [
       "(145143, 13)"
      ]
     },
     "execution_count": 94,
     "metadata": {},
     "output_type": "execute_result"
    }
   ],
   "source": [
    "df12.shape"
   ]
  },
  {
   "cell_type": "markdown",
   "metadata": {},
   "source": [
    "## Drop Rows Missing Target Variable"
   ]
  },
  {
   "cell_type": "code",
   "execution_count": 95,
   "metadata": {
    "collapsed": false
   },
   "outputs": [
    {
     "data": {
      "text/plain": [
       "Deny               68382\n",
       "Approve in Full    35010\n",
       "Settle             27967\n",
       "NaN                13784\n",
       "Name: Disposition, dtype: int64"
      ]
     },
     "execution_count": 95,
     "metadata": {},
     "output_type": "execute_result"
    }
   ],
   "source": [
    "df12.Disposition.value_counts(dropna=False)"
   ]
  },
  {
   "cell_type": "code",
   "execution_count": 96,
   "metadata": {
    "collapsed": false
   },
   "outputs": [
    {
     "data": {
      "text/plain": [
       "Deny               68382\n",
       "Approve in Full    35010\n",
       "Settle             27967\n",
       "Name: Disposition, dtype: int64"
      ]
     },
     "execution_count": 96,
     "metadata": {},
     "output_type": "execute_result"
    }
   ],
   "source": [
    "df12.drop(df12[df12.Disposition.isnull()].index).Disposition.value_counts()"
   ]
  },
  {
   "cell_type": "code",
   "execution_count": 97,
   "metadata": {
    "collapsed": true
   },
   "outputs": [],
   "source": [
    "df12 = df12.drop(df12[df12.Disposition.isnull()].index)"
   ]
  },
  {
   "cell_type": "code",
   "execution_count": 98,
   "metadata": {
    "collapsed": false
   },
   "outputs": [
    {
     "data": {
      "text/plain": [
       "Deny               68382\n",
       "Approve in Full    35010\n",
       "Settle             27967\n",
       "Name: Disposition, dtype: int64"
      ]
     },
     "execution_count": 98,
     "metadata": {},
     "output_type": "execute_result"
    }
   ],
   "source": [
    "df12.Disposition.value_counts()"
   ]
  },
  {
   "cell_type": "code",
   "execution_count": 99,
   "metadata": {
    "collapsed": false
   },
   "outputs": [
    {
     "data": {
      "text/plain": [
       "Deny               0.520573\n",
       "Approve in Full    0.266522\n",
       "Settle             0.212905\n",
       "Name: Disposition, dtype: float64"
      ]
     },
     "execution_count": 99,
     "metadata": {},
     "output_type": "execute_result"
    }
   ],
   "source": [
    "df12.Disposition.value_counts(normalize=True)"
   ]
  },
  {
   "cell_type": "code",
   "execution_count": 100,
   "metadata": {
    "collapsed": false
   },
   "outputs": [
    {
     "data": {
      "text/plain": [
       "(131359, 13)"
      ]
     },
     "execution_count": 100,
     "metadata": {},
     "output_type": "execute_result"
    }
   ],
   "source": [
    "df12.shape"
   ]
  },
  {
   "cell_type": "code",
   "execution_count": 101,
   "metadata": {
    "collapsed": false
   },
   "outputs": [
    {
     "data": {
      "text/plain": [
       "Claim_Number         0\n",
       "Date_Received      119\n",
       "Incident_Date      771\n",
       "Airport_Code      4181\n",
       "Airport_Name      4181\n",
       "Airline_Name     28310\n",
       "Claim_Type        5887\n",
       "Claim_Site         277\n",
       "Item              2893\n",
       "Claim_Amount       766\n",
       "Status               0\n",
       "Close_Amount      1473\n",
       "Disposition          0\n",
       "dtype: int64"
      ]
     },
     "execution_count": 101,
     "metadata": {},
     "output_type": "execute_result"
    }
   ],
   "source": [
    "df12.isnull().sum()"
   ]
  },
  {
   "cell_type": "markdown",
   "metadata": {},
   "source": [
    "## Review Record Missing Airline_Name"
   ]
  },
  {
   "cell_type": "markdown",
   "metadata": {},
   "source": [
    "Review pattern of records missing airline_name to see if there's a trend that could help fill in those values. And whether most of these records are only missing Airline_Name"
   ]
  },
  {
   "cell_type": "code",
   "execution_count": 102,
   "metadata": {
    "collapsed": false
   },
   "outputs": [
    {
     "data": {
      "text/plain": [
       "Claim_Number         0\n",
       "Date_Received       42\n",
       "Incident_Date      632\n",
       "Airport_Code      2642\n",
       "Airport_Name      2642\n",
       "Airline_Name     28310\n",
       "Claim_Type        2390\n",
       "Claim_Site         109\n",
       "Item               498\n",
       "Claim_Amount       571\n",
       "Status               0\n",
       "Close_Amount       566\n",
       "Disposition          0\n",
       "dtype: int64"
      ]
     },
     "execution_count": 102,
     "metadata": {},
     "output_type": "execute_result"
    }
   ],
   "source": [
    "df_missing_airline = df12[df12.Airline_Name.isnull()]\n",
    "df_missing_airline.isnull().sum()"
   ]
  },
  {
   "cell_type": "code",
   "execution_count": 103,
   "metadata": {
    "collapsed": false
   },
   "outputs": [
    {
     "data": {
      "text/html": [
       "<div>\n",
       "<table border=\"1\" class=\"dataframe\">\n",
       "  <thead>\n",
       "    <tr style=\"text-align: right;\">\n",
       "      <th></th>\n",
       "      <th>count</th>\n",
       "      <th>mean</th>\n",
       "      <th>std</th>\n",
       "      <th>min</th>\n",
       "      <th>25%</th>\n",
       "      <th>50%</th>\n",
       "      <th>75%</th>\n",
       "      <th>max</th>\n",
       "    </tr>\n",
       "    <tr>\n",
       "      <th>Disposition</th>\n",
       "      <th></th>\n",
       "      <th></th>\n",
       "      <th></th>\n",
       "      <th></th>\n",
       "      <th></th>\n",
       "      <th></th>\n",
       "      <th></th>\n",
       "      <th></th>\n",
       "    </tr>\n",
       "  </thead>\n",
       "  <tbody>\n",
       "    <tr>\n",
       "      <th>Approve in Full</th>\n",
       "      <td>9670.0</td>\n",
       "      <td>1.546760e+02</td>\n",
       "      <td>3.899540e+02</td>\n",
       "      <td>0.0</td>\n",
       "      <td>30.000</td>\n",
       "      <td>62.495</td>\n",
       "      <td>146.975</td>\n",
       "      <td>1.167223e+04</td>\n",
       "    </tr>\n",
       "    <tr>\n",
       "      <th>Settle</th>\n",
       "      <td>7329.0</td>\n",
       "      <td>9.678612e+02</td>\n",
       "      <td>2.493934e+04</td>\n",
       "      <td>0.0</td>\n",
       "      <td>100.000</td>\n",
       "      <td>199.980</td>\n",
       "      <td>400.000</td>\n",
       "      <td>2.000000e+06</td>\n",
       "    </tr>\n",
       "    <tr>\n",
       "      <th>Deny</th>\n",
       "      <td>10740.0</td>\n",
       "      <td>2.800338e+08</td>\n",
       "      <td>2.894808e+10</td>\n",
       "      <td>0.0</td>\n",
       "      <td>94.255</td>\n",
       "      <td>229.855</td>\n",
       "      <td>625.000</td>\n",
       "      <td>3.000000e+12</td>\n",
       "    </tr>\n",
       "  </tbody>\n",
       "</table>\n",
       "</div>"
      ],
      "text/plain": [
       "                   count          mean           std  min      25%      50%  \\\n",
       "Disposition                                                                   \n",
       "Approve in Full   9670.0  1.546760e+02  3.899540e+02  0.0   30.000   62.495   \n",
       "Settle            7329.0  9.678612e+02  2.493934e+04  0.0  100.000  199.980   \n",
       "Deny             10740.0  2.800338e+08  2.894808e+10  0.0   94.255  229.855   \n",
       "\n",
       "                     75%           max  \n",
       "Disposition                             \n",
       "Approve in Full  146.975  1.167223e+04  \n",
       "Settle           400.000  2.000000e+06  \n",
       "Deny             625.000  3.000000e+12  "
      ]
     },
     "execution_count": 103,
     "metadata": {},
     "output_type": "execute_result"
    }
   ],
   "source": [
    "df_missing_airline.groupby('Disposition').Claim_Amount.describe()\\\n",
    "                    .unstack()\\\n",
    "                    .reindex(index = ['Approve in Full','Settle','Deny'])"
   ]
  },
  {
   "cell_type": "code",
   "execution_count": 104,
   "metadata": {
    "collapsed": false
   },
   "outputs": [
    {
     "data": {
      "text/plain": [
       "Disposition\n",
       "Approve in Full    Axes(0.125,0.125;0.775x0.755)\n",
       "Deny               Axes(0.125,0.125;0.775x0.755)\n",
       "Settle             Axes(0.125,0.125;0.775x0.755)\n",
       "Name: Claim_Amount, dtype: object"
      ]
     },
     "execution_count": 104,
     "metadata": {},
     "output_type": "execute_result"
    },
    {
     "data": {
      "image/png": "[encoded data removed]",
      "text/plain": [
       "<matplotlib.figure.Figure at 0x11ca7f250>"
      ]
     },
     "metadata": {},
     "output_type": "display_data"
    }
   ],
   "source": [
    "df_missing_airline.groupby('Disposition').Claim_Amount.plot(kind='hist',bins=np.linspace(0,500,10))"
   ]
  },
  {
   "cell_type": "code",
   "execution_count": 105,
   "metadata": {
    "collapsed": false
   },
   "outputs": [
    {
     "data": {
      "text/plain": [
       "LAX    1560\n",
       "ORD     952\n",
       "MIA     849\n",
       "EWR     820\n",
       "JFK     820\n",
       "Name: Airport_Code, dtype: int64"
      ]
     },
     "execution_count": 105,
     "metadata": {},
     "output_type": "execute_result"
    }
   ],
   "source": [
    "df_missing_airline.Airport_Code.value_counts().head()"
   ]
  },
  {
   "cell_type": "code",
   "execution_count": 106,
   "metadata": {
    "collapsed": false
   },
   "outputs": [
    {
     "data": {
      "text/plain": [
       "Property Damage            13622\n",
       "Passenger Property Loss    11807\n",
       "Personal Injury              196\n",
       "Motor Vehicle                129\n",
       "Employee Loss (MPCECA)        89\n",
       "Passenger Theft               77\n",
       "Name: Claim_Type, dtype: int64"
      ]
     },
     "execution_count": 106,
     "metadata": {},
     "output_type": "execute_result"
    }
   ],
   "source": [
    "df_missing_airline.Claim_Type.value_counts()"
   ]
  },
  {
   "cell_type": "code",
   "execution_count": 107,
   "metadata": {
    "collapsed": false
   },
   "outputs": [
    {
     "data": {
      "text/plain": [
       "Checked Baggage    18917\n",
       "Checkpoint          8237\n",
       "Other                883\n",
       "Motor Vehicle        163\n",
       "Bus Station            1\n",
       "Name: Claim_Site, dtype: int64"
      ]
     },
     "execution_count": 107,
     "metadata": {},
     "output_type": "execute_result"
    }
   ],
   "source": [
    "df_missing_airline.Claim_Site.value_counts()"
   ]
  },
  {
   "cell_type": "code",
   "execution_count": 108,
   "metadata": {
    "collapsed": false,
    "scrolled": false
   },
   "outputs": [
    {
     "data": {
      "text/html": [
       "<div>\n",
       "<table border=\"1\" class=\"dataframe\">\n",
       "  <thead>\n",
       "    <tr style=\"text-align: right;\">\n",
       "      <th></th>\n",
       "      <th>index</th>\n",
       "      <th>Item</th>\n",
       "    </tr>\n",
       "  </thead>\n",
       "  <tbody>\n",
       "    <tr>\n",
       "      <th>0</th>\n",
       "      <td>Other</td>\n",
       "      <td>7616</td>\n",
       "    </tr>\n",
       "    <tr>\n",
       "      <th>1</th>\n",
       "      <td>Luggage (all types including footlockers)</td>\n",
       "      <td>4866</td>\n",
       "    </tr>\n",
       "    <tr>\n",
       "      <th>2</th>\n",
       "      <td>Clothing - Shoes, belts, accessories, etc.</td>\n",
       "      <td>3268</td>\n",
       "    </tr>\n",
       "    <tr>\n",
       "      <th>3</th>\n",
       "      <td>Jewelry - Fine</td>\n",
       "      <td>1977</td>\n",
       "    </tr>\n",
       "    <tr>\n",
       "      <th>4</th>\n",
       "      <td>Locks</td>\n",
       "      <td>1718</td>\n",
       "    </tr>\n",
       "    <tr>\n",
       "      <th>5</th>\n",
       "      <td>Cameras - Digital</td>\n",
       "      <td>1615</td>\n",
       "    </tr>\n",
       "    <tr>\n",
       "      <th>6</th>\n",
       "      <td>Computer - Laptop</td>\n",
       "      <td>1574</td>\n",
       "    </tr>\n",
       "    <tr>\n",
       "      <th>7</th>\n",
       "      <td>Eyeglasses - (including contact lenses)</td>\n",
       "      <td>1108</td>\n",
       "    </tr>\n",
       "    <tr>\n",
       "      <th>8</th>\n",
       "      <td>Cosmetics - Perfume, toilet articles, medicine...</td>\n",
       "      <td>611</td>\n",
       "    </tr>\n",
       "    <tr>\n",
       "      <th>9</th>\n",
       "      <td>Cell Phones</td>\n",
       "      <td>560</td>\n",
       "    </tr>\n",
       "    <tr>\n",
       "      <th>10</th>\n",
       "      <td>Currency</td>\n",
       "      <td>470</td>\n",
       "    </tr>\n",
       "    <tr>\n",
       "      <th>11</th>\n",
       "      <td>DVD/CD Players</td>\n",
       "      <td>293</td>\n",
       "    </tr>\n",
       "    <tr>\n",
       "      <th>12</th>\n",
       "      <td>Baby - Strollers, car seats, playpen, etc.</td>\n",
       "      <td>209</td>\n",
       "    </tr>\n",
       "    <tr>\n",
       "      <th>13</th>\n",
       "      <td>Medicines</td>\n",
       "      <td>155</td>\n",
       "    </tr>\n",
       "    <tr>\n",
       "      <th>14</th>\n",
       "      <td>PDA - Personal Data Assistants</td>\n",
       "      <td>114</td>\n",
       "    </tr>\n",
       "    <tr>\n",
       "      <th>15</th>\n",
       "      <td>Stereo Items &amp; Accessories</td>\n",
       "      <td>110</td>\n",
       "    </tr>\n",
       "    <tr>\n",
       "      <th>16</th>\n",
       "      <td>Watches - Expensive more than $100</td>\n",
       "      <td>90</td>\n",
       "    </tr>\n",
       "    <tr>\n",
       "      <th>17</th>\n",
       "      <td>Fish/Game</td>\n",
       "      <td>83</td>\n",
       "    </tr>\n",
       "    <tr>\n",
       "      <th>18</th>\n",
       "      <td>Photographic Film</td>\n",
       "      <td>83</td>\n",
       "    </tr>\n",
       "    <tr>\n",
       "      <th>19</th>\n",
       "      <td>Musical Instruments - Other - Over $250</td>\n",
       "      <td>63</td>\n",
       "    </tr>\n",
       "    <tr>\n",
       "      <th>20</th>\n",
       "      <td>Jewelry - Costume</td>\n",
       "      <td>45</td>\n",
       "    </tr>\n",
       "    <tr>\n",
       "      <th>21</th>\n",
       "      <td>MP3 Players-(iPods, etc)</td>\n",
       "      <td>44</td>\n",
       "    </tr>\n",
       "    <tr>\n",
       "      <th>22</th>\n",
       "      <td>Sporting Equipment &amp; Supplies (footballs, para...</td>\n",
       "      <td>40</td>\n",
       "    </tr>\n",
       "    <tr>\n",
       "      <th>23</th>\n",
       "      <td>Handbags &amp; Purses (leather or fabric)</td>\n",
       "      <td>38</td>\n",
       "    </tr>\n",
       "    <tr>\n",
       "      <th>24</th>\n",
       "      <td>Locks; Luggage (all types including footlockers)</td>\n",
       "      <td>31</td>\n",
       "    </tr>\n",
       "    <tr>\n",
       "      <th>25</th>\n",
       "      <td>Automobile Parts</td>\n",
       "      <td>27</td>\n",
       "    </tr>\n",
       "    <tr>\n",
       "      <th>26</th>\n",
       "      <td>Bags - Fabric, plastic, etc. (not purses)</td>\n",
       "      <td>26</td>\n",
       "    </tr>\n",
       "    <tr>\n",
       "      <th>27</th>\n",
       "      <td>Cameras - Non-electronic (Camera supplies, len...</td>\n",
       "      <td>24</td>\n",
       "    </tr>\n",
       "    <tr>\n",
       "      <th>28</th>\n",
       "      <td>Clothing - Shoes, belts, accessories, etc.; Co...</td>\n",
       "      <td>24</td>\n",
       "    </tr>\n",
       "    <tr>\n",
       "      <th>29</th>\n",
       "      <td>Clothing - Shoes, belts, accessories, etc.; Other</td>\n",
       "      <td>23</td>\n",
       "    </tr>\n",
       "    <tr>\n",
       "      <th>...</th>\n",
       "      <td>...</td>\n",
       "      <td>...</td>\n",
       "    </tr>\n",
       "    <tr>\n",
       "      <th>405</th>\n",
       "      <td>Clothing - Shoes, belts, accessories, etc.; Cu...</td>\n",
       "      <td>1</td>\n",
       "    </tr>\n",
       "    <tr>\n",
       "      <th>406</th>\n",
       "      <td>Cosmetics - Perfume, toilet articles, medicine...</td>\n",
       "      <td>1</td>\n",
       "    </tr>\n",
       "    <tr>\n",
       "      <th>407</th>\n",
       "      <td>Batteries - Dry cell only; Other</td>\n",
       "      <td>1</td>\n",
       "    </tr>\n",
       "    <tr>\n",
       "      <th>408</th>\n",
       "      <td>Clothing - Shoes, belts, accessories, etc.; Fi...</td>\n",
       "      <td>1</td>\n",
       "    </tr>\n",
       "    <tr>\n",
       "      <th>409</th>\n",
       "      <td>Cameras - Digital; MP3 Players-(iPods, etc); W...</td>\n",
       "      <td>1</td>\n",
       "    </tr>\n",
       "    <tr>\n",
       "      <th>410</th>\n",
       "      <td>Cosmetics - Perfume, toilet articles, medicine...</td>\n",
       "      <td>1</td>\n",
       "    </tr>\n",
       "    <tr>\n",
       "      <th>411</th>\n",
       "      <td>Baby - Strollers, car seats, playpen, etc.; Lu...</td>\n",
       "      <td>1</td>\n",
       "    </tr>\n",
       "    <tr>\n",
       "      <th>412</th>\n",
       "      <td>Luggage (all types including footlockers); Too...</td>\n",
       "      <td>1</td>\n",
       "    </tr>\n",
       "    <tr>\n",
       "      <th>413</th>\n",
       "      <td>Cosmetics - Perfume, toilet articles, medicine...</td>\n",
       "      <td>1</td>\n",
       "    </tr>\n",
       "    <tr>\n",
       "      <th>414</th>\n",
       "      <td>Cameras - Non-electronic (Camera supplies, len...</td>\n",
       "      <td>1</td>\n",
       "    </tr>\n",
       "    <tr>\n",
       "      <th>415</th>\n",
       "      <td>Luggage (all types including footlockers); Lug...</td>\n",
       "      <td>1</td>\n",
       "    </tr>\n",
       "    <tr>\n",
       "      <th>416</th>\n",
       "      <td>Dishes, Pottery, Glassware, Plasticware; Eyegl...</td>\n",
       "      <td>1</td>\n",
       "    </tr>\n",
       "    <tr>\n",
       "      <th>417</th>\n",
       "      <td>Dental Equipment and Instruments; Medical Equi...</td>\n",
       "      <td>1</td>\n",
       "    </tr>\n",
       "    <tr>\n",
       "      <th>418</th>\n",
       "      <td>Computer - Laptop; Stereo Items &amp; Accessories</td>\n",
       "      <td>1</td>\n",
       "    </tr>\n",
       "    <tr>\n",
       "      <th>419</th>\n",
       "      <td>Binoculars; Sporting Equipment &amp; Supplies (foo...</td>\n",
       "      <td>1</td>\n",
       "    </tr>\n",
       "    <tr>\n",
       "      <th>420</th>\n",
       "      <td>Barber Supplies - Scissors, shears, elecric ra...</td>\n",
       "      <td>1</td>\n",
       "    </tr>\n",
       "    <tr>\n",
       "      <th>421</th>\n",
       "      <td>Batteries - Dry cell only; Boxes - Jewelry, Ci...</td>\n",
       "      <td>1</td>\n",
       "    </tr>\n",
       "    <tr>\n",
       "      <th>422</th>\n",
       "      <td>Cameras - Digital; Jewelry - Fine; Watches - E...</td>\n",
       "      <td>1</td>\n",
       "    </tr>\n",
       "    <tr>\n",
       "      <th>423</th>\n",
       "      <td>Cameras - Digital; Toys - Other (including gam...</td>\n",
       "      <td>1</td>\n",
       "    </tr>\n",
       "    <tr>\n",
       "      <th>424</th>\n",
       "      <td>Alcoholic beverages; Cameras - Digital; Cell P...</td>\n",
       "      <td>1</td>\n",
       "    </tr>\n",
       "    <tr>\n",
       "      <th>425</th>\n",
       "      <td>Alcoholic beverages; Cameras - Digital; Clothi...</td>\n",
       "      <td>1</td>\n",
       "    </tr>\n",
       "    <tr>\n",
       "      <th>426</th>\n",
       "      <td>Bags - Fabric, plastic, etc. (not purses); Com...</td>\n",
       "      <td>1</td>\n",
       "    </tr>\n",
       "    <tr>\n",
       "      <th>427</th>\n",
       "      <td>Cell Phones; Dental Equipment and Instruments;...</td>\n",
       "      <td>1</td>\n",
       "    </tr>\n",
       "    <tr>\n",
       "      <th>428</th>\n",
       "      <td>Alcoholic beverages; Luggage (all types includ...</td>\n",
       "      <td>1</td>\n",
       "    </tr>\n",
       "    <tr>\n",
       "      <th>429</th>\n",
       "      <td>Computer peripherals</td>\n",
       "      <td>1</td>\n",
       "    </tr>\n",
       "    <tr>\n",
       "      <th>430</th>\n",
       "      <td>Audio - CD's; Locks</td>\n",
       "      <td>1</td>\n",
       "    </tr>\n",
       "    <tr>\n",
       "      <th>431</th>\n",
       "      <td>Cameras - Digital; Cameras - Non-electronic (C...</td>\n",
       "      <td>1</td>\n",
       "    </tr>\n",
       "    <tr>\n",
       "      <th>432</th>\n",
       "      <td>Other; Watches - Inexpensive $100 or less</td>\n",
       "      <td>1</td>\n",
       "    </tr>\n",
       "    <tr>\n",
       "      <th>433</th>\n",
       "      <td>Locks; Luggage (all types including footlocker...</td>\n",
       "      <td>1</td>\n",
       "    </tr>\n",
       "    <tr>\n",
       "      <th>434</th>\n",
       "      <td>Cameras - Digital; Cell Phones; Cell Phones; C...</td>\n",
       "      <td>1</td>\n",
       "    </tr>\n",
       "  </tbody>\n",
       "</table>\n",
       "<p>435 rows × 2 columns</p>\n",
       "</div>"
      ],
      "text/plain": [
       "                                                 index  Item\n",
       "0                                                Other  7616\n",
       "1            Luggage (all types including footlockers)  4866\n",
       "2           Clothing - Shoes, belts, accessories, etc.  3268\n",
       "3                                       Jewelry - Fine  1977\n",
       "4                                                Locks  1718\n",
       "5                                    Cameras - Digital  1615\n",
       "6                                    Computer - Laptop  1574\n",
       "7              Eyeglasses - (including contact lenses)  1108\n",
       "8    Cosmetics - Perfume, toilet articles, medicine...   611\n",
       "9                                          Cell Phones   560\n",
       "10                                            Currency   470\n",
       "11                                      DVD/CD Players   293\n",
       "12          Baby - Strollers, car seats, playpen, etc.   209\n",
       "13                                           Medicines   155\n",
       "14                      PDA - Personal Data Assistants   114\n",
       "15                          Stereo Items & Accessories   110\n",
       "16                  Watches - Expensive more than $100    90\n",
       "17                                           Fish/Game    83\n",
       "18                                   Photographic Film    83\n",
       "19             Musical Instruments - Other - Over $250    63\n",
       "20                                   Jewelry - Costume    45\n",
       "21                            MP3 Players-(iPods, etc)    44\n",
       "22   Sporting Equipment & Supplies (footballs, para...    40\n",
       "23               Handbags & Purses (leather or fabric)    38\n",
       "24    Locks; Luggage (all types including footlockers)    31\n",
       "25                                    Automobile Parts    27\n",
       "26           Bags - Fabric, plastic, etc. (not purses)    26\n",
       "27   Cameras - Non-electronic (Camera supplies, len...    24\n",
       "28   Clothing - Shoes, belts, accessories, etc.; Co...    24\n",
       "29   Clothing - Shoes, belts, accessories, etc.; Other    23\n",
       "..                                                 ...   ...\n",
       "405  Clothing - Shoes, belts, accessories, etc.; Cu...     1\n",
       "406  Cosmetics - Perfume, toilet articles, medicine...     1\n",
       "407                   Batteries - Dry cell only; Other     1\n",
       "408  Clothing - Shoes, belts, accessories, etc.; Fi...     1\n",
       "409  Cameras - Digital; MP3 Players-(iPods, etc); W...     1\n",
       "410  Cosmetics - Perfume, toilet articles, medicine...     1\n",
       "411  Baby - Strollers, car seats, playpen, etc.; Lu...     1\n",
       "412  Luggage (all types including footlockers); Too...     1\n",
       "413  Cosmetics - Perfume, toilet articles, medicine...     1\n",
       "414  Cameras - Non-electronic (Camera supplies, len...     1\n",
       "415  Luggage (all types including footlockers); Lug...     1\n",
       "416  Dishes, Pottery, Glassware, Plasticware; Eyegl...     1\n",
       "417  Dental Equipment and Instruments; Medical Equi...     1\n",
       "418      Computer - Laptop; Stereo Items & Accessories     1\n",
       "419  Binoculars; Sporting Equipment & Supplies (foo...     1\n",
       "420  Barber Supplies - Scissors, shears, elecric ra...     1\n",
       "421  Batteries - Dry cell only; Boxes - Jewelry, Ci...     1\n",
       "422  Cameras - Digital; Jewelry - Fine; Watches - E...     1\n",
       "423  Cameras - Digital; Toys - Other (including gam...     1\n",
       "424  Alcoholic beverages; Cameras - Digital; Cell P...     1\n",
       "425  Alcoholic beverages; Cameras - Digital; Clothi...     1\n",
       "426  Bags - Fabric, plastic, etc. (not purses); Com...     1\n",
       "427  Cell Phones; Dental Equipment and Instruments;...     1\n",
       "428  Alcoholic beverages; Luggage (all types includ...     1\n",
       "429                               Computer peripherals     1\n",
       "430                                Audio - CD's; Locks     1\n",
       "431  Cameras - Digital; Cameras - Non-electronic (C...     1\n",
       "432          Other; Watches - Inexpensive $100 or less     1\n",
       "433  Locks; Luggage (all types including footlocker...     1\n",
       "434  Cameras - Digital; Cell Phones; Cell Phones; C...     1\n",
       "\n",
       "[435 rows x 2 columns]"
      ]
     },
     "execution_count": 108,
     "metadata": {},
     "output_type": "execute_result"
    }
   ],
   "source": [
    "df_missing_airline.Item.value_counts().reset_index()"
   ]
  },
  {
   "cell_type": "code",
   "execution_count": 109,
   "metadata": {
    "collapsed": false
   },
   "outputs": [
    {
     "data": {
      "text/plain": [
       "Claim_Number     28310\n",
       "Date_Received    28268\n",
       "Incident_Date    27678\n",
       "Airport_Code     25668\n",
       "Airport_Name     25668\n",
       "Airline_Name         0\n",
       "Claim_Type       25920\n",
       "Claim_Site       28201\n",
       "Item             27812\n",
       "Claim_Amount     27739\n",
       "Status           28310\n",
       "Close_Amount     27744\n",
       "Disposition      28310\n",
       "dtype: int64"
      ]
     },
     "execution_count": 109,
     "metadata": {},
     "output_type": "execute_result"
    }
   ],
   "source": [
    "df_missing_airline.count()"
   ]
  },
  {
   "cell_type": "markdown",
   "metadata": {},
   "source": [
    "## Drop All Rows Missing Any Features"
   ]
  },
  {
   "cell_type": "code",
   "execution_count": 110,
   "metadata": {
    "collapsed": false
   },
   "outputs": [
    {
     "data": {
      "text/plain": [
       "(94848, 13)"
      ]
     },
     "execution_count": 110,
     "metadata": {},
     "output_type": "execute_result"
    }
   ],
   "source": [
    "df12_final = df12.dropna()\n",
    "df12_final.shape"
   ]
  },
  {
   "cell_type": "code",
   "execution_count": 111,
   "metadata": {
    "collapsed": false
   },
   "outputs": [
    {
     "data": {
      "text/plain": [
       "Claim_Number      object\n",
       "Date_Received     object\n",
       "Incident_Date     object\n",
       "Airport_Code      object\n",
       "Airport_Name      object\n",
       "Airline_Name      object\n",
       "Claim_Type        object\n",
       "Claim_Site        object\n",
       "Item              object\n",
       "Claim_Amount     float64\n",
       "Status            object\n",
       "Close_Amount     float64\n",
       "Disposition       object\n",
       "dtype: object"
      ]
     },
     "execution_count": 111,
     "metadata": {},
     "output_type": "execute_result"
    }
   ],
   "source": [
    "df12_final.dtypes"
   ]
  },
  {
   "cell_type": "code",
   "execution_count": 112,
   "metadata": {
    "collapsed": false
   },
   "outputs": [
    {
     "data": {
      "text/html": [
       "<div>\n",
       "<table border=\"1\" class=\"dataframe\">\n",
       "  <thead>\n",
       "    <tr style=\"text-align: right;\">\n",
       "      <th></th>\n",
       "      <th>Claim_Number</th>\n",
       "      <th>Date_Received</th>\n",
       "      <th>Incident_Date</th>\n",
       "      <th>Airport_Code</th>\n",
       "      <th>Airport_Name</th>\n",
       "      <th>Airline_Name</th>\n",
       "      <th>Claim_Type</th>\n",
       "      <th>Claim_Site</th>\n",
       "      <th>Item</th>\n",
       "      <th>Claim_Amount</th>\n",
       "      <th>Status</th>\n",
       "      <th>Close_Amount</th>\n",
       "      <th>Disposition</th>\n",
       "    </tr>\n",
       "  </thead>\n",
       "  <tbody>\n",
       "    <tr>\n",
       "      <th>0</th>\n",
       "      <td>0909802M</td>\n",
       "      <td>2002-01-04 00:00:00</td>\n",
       "      <td>2002-12-12 00:00:00</td>\n",
       "      <td>EWR</td>\n",
       "      <td>Newark International Airport</td>\n",
       "      <td>Continental Airlines</td>\n",
       "      <td>Property Damage</td>\n",
       "      <td>Checkpoint</td>\n",
       "      <td>Other</td>\n",
       "      <td>350.00</td>\n",
       "      <td>Approved</td>\n",
       "      <td>350.00</td>\n",
       "      <td>Approve in Full</td>\n",
       "    </tr>\n",
       "    <tr>\n",
       "      <th>2</th>\n",
       "      <td>0202445M</td>\n",
       "      <td>2002-02-04 00:00:00</td>\n",
       "      <td>2003-11-26 00:00:00</td>\n",
       "      <td>STL</td>\n",
       "      <td>Lambert St. Louis International</td>\n",
       "      <td>American Airlines</td>\n",
       "      <td>Property Damage</td>\n",
       "      <td>Checked Baggage</td>\n",
       "      <td>Cell Phones</td>\n",
       "      <td>278.88</td>\n",
       "      <td>Settled</td>\n",
       "      <td>227.92</td>\n",
       "      <td>Settle</td>\n",
       "    </tr>\n",
       "  </tbody>\n",
       "</table>\n",
       "</div>"
      ],
      "text/plain": [
       "  Claim_Number        Date_Received        Incident_Date Airport_Code  \\\n",
       "0     0909802M  2002-01-04 00:00:00  2002-12-12 00:00:00          EWR   \n",
       "2     0202445M  2002-02-04 00:00:00  2003-11-26 00:00:00          STL   \n",
       "\n",
       "                      Airport_Name          Airline_Name       Claim_Type  \\\n",
       "0     Newark International Airport  Continental Airlines  Property Damage   \n",
       "2  Lambert St. Louis International     American Airlines  Property Damage   \n",
       "\n",
       "        Claim_Site         Item  Claim_Amount    Status  Close_Amount  \\\n",
       "0       Checkpoint        Other        350.00  Approved        350.00   \n",
       "2  Checked Baggage  Cell Phones        278.88   Settled        227.92   \n",
       "\n",
       "       Disposition  \n",
       "0  Approve in Full  \n",
       "2           Settle  "
      ]
     },
     "execution_count": 112,
     "metadata": {},
     "output_type": "execute_result"
    }
   ],
   "source": [
    "df12_final.head(2)"
   ]
  },
  {
   "cell_type": "code",
   "execution_count": 113,
   "metadata": {
    "collapsed": false
   },
   "outputs": [],
   "source": [
    "#df12_final['Date_Received'] = pd.to_datetime(df12_final.Date_Received)"
   ]
  },
  {
   "cell_type": "code",
   "execution_count": 114,
   "metadata": {
    "collapsed": false
   },
   "outputs": [
    {
     "data": {
      "text/plain": [
       "Claim_Number     22\n",
       "Date_Received    22\n",
       "Incident_Date    22\n",
       "Airport_Code     22\n",
       "Airport_Name     22\n",
       "Airline_Name     22\n",
       "Claim_Type       22\n",
       "Claim_Site       22\n",
       "Item             22\n",
       "Claim_Amount     22\n",
       "Status           22\n",
       "Close_Amount     22\n",
       "Disposition      22\n",
       "dtype: int64"
      ]
     },
     "execution_count": 114,
     "metadata": {},
     "output_type": "execute_result"
    }
   ],
   "source": [
    "df12_final[df12_final.Date_Received >= datetime.datetime(year=2010,month=1,day=1)].count()"
   ]
  },
  {
   "cell_type": "code",
   "execution_count": 115,
   "metadata": {
    "collapsed": false
   },
   "outputs": [
    {
     "data": {
      "text/html": [
       "<div>\n",
       "<table border=\"1\" class=\"dataframe\">\n",
       "  <thead>\n",
       "    <tr style=\"text-align: right;\">\n",
       "      <th></th>\n",
       "      <th>Claim_Number</th>\n",
       "      <th>Date_Received</th>\n",
       "      <th>Incident_Date</th>\n",
       "      <th>Airport_Code</th>\n",
       "      <th>Airport_Name</th>\n",
       "      <th>Airline_Name</th>\n",
       "      <th>Claim_Type</th>\n",
       "      <th>Claim_Site</th>\n",
       "      <th>Item</th>\n",
       "      <th>Claim_Amount</th>\n",
       "      <th>Status</th>\n",
       "      <th>Close_Amount</th>\n",
       "      <th>Disposition</th>\n",
       "    </tr>\n",
       "  </thead>\n",
       "  <tbody>\n",
       "    <tr>\n",
       "      <th>96972</th>\n",
       "      <td>2005110795652</td>\n",
       "      <td>3005-10-27 00:00:00</td>\n",
       "      <td>2005-09-29 00:00:00</td>\n",
       "      <td>IAH</td>\n",
       "      <td>Houston - George Bush Intercontinental Airport</td>\n",
       "      <td>Continental Airlines</td>\n",
       "      <td>Property Damage</td>\n",
       "      <td>Checked Baggage</td>\n",
       "      <td>Other</td>\n",
       "      <td>150.00</td>\n",
       "      <td>Denied</td>\n",
       "      <td>0.00</td>\n",
       "      <td>Deny</td>\n",
       "    </tr>\n",
       "    <tr>\n",
       "      <th>96971</th>\n",
       "      <td>2005050484040</td>\n",
       "      <td>3005-05-03 00:00:00</td>\n",
       "      <td>2005-04-03 00:00:00</td>\n",
       "      <td>PHL</td>\n",
       "      <td>Philadelphia International Airport</td>\n",
       "      <td>USAir</td>\n",
       "      <td>Property Damage</td>\n",
       "      <td>Checkpoint</td>\n",
       "      <td>Other</td>\n",
       "      <td>264.39</td>\n",
       "      <td>Approved</td>\n",
       "      <td>264.39</td>\n",
       "      <td>Approve in Full</td>\n",
       "    </tr>\n",
       "    <tr>\n",
       "      <th>96969</th>\n",
       "      <td>2005040481301</td>\n",
       "      <td>3005-03-30 00:00:00</td>\n",
       "      <td>2005-03-02 00:00:00</td>\n",
       "      <td>MCO</td>\n",
       "      <td>Orlando International Airport</td>\n",
       "      <td>Continental Airlines</td>\n",
       "      <td>Passenger Property Loss</td>\n",
       "      <td>Checked Baggage</td>\n",
       "      <td>Computer - Laptop</td>\n",
       "      <td>2714.08</td>\n",
       "      <td>Denied</td>\n",
       "      <td>0.00</td>\n",
       "      <td>Deny</td>\n",
       "    </tr>\n",
       "    <tr>\n",
       "      <th>96968</th>\n",
       "      <td>2005040481403</td>\n",
       "      <td>3005-03-30 00:00:00</td>\n",
       "      <td>2005-03-20 00:00:00</td>\n",
       "      <td>SHV</td>\n",
       "      <td>Shreveport Regional</td>\n",
       "      <td>Northwest Airlines</td>\n",
       "      <td>Passenger Property Loss</td>\n",
       "      <td>Checked Baggage</td>\n",
       "      <td>Other</td>\n",
       "      <td>45.69</td>\n",
       "      <td>Approved</td>\n",
       "      <td>45.69</td>\n",
       "      <td>Approve in Full</td>\n",
       "    </tr>\n",
       "    <tr>\n",
       "      <th>96966</th>\n",
       "      <td>2006122718021</td>\n",
       "      <td>2996-12-26 00:00:00</td>\n",
       "      <td>2006-12-21 00:00:00</td>\n",
       "      <td>BUR</td>\n",
       "      <td>Bob Hope</td>\n",
       "      <td>Jet Blue</td>\n",
       "      <td>Passenger Property Loss</td>\n",
       "      <td>Checked Baggage</td>\n",
       "      <td>Currency; Other</td>\n",
       "      <td>1120.00</td>\n",
       "      <td>Denied</td>\n",
       "      <td>0.00</td>\n",
       "      <td>Deny</td>\n",
       "    </tr>\n",
       "    <tr>\n",
       "      <th>96964</th>\n",
       "      <td>2007043024691</td>\n",
       "      <td>2900-04-27 00:00:00</td>\n",
       "      <td>2007-02-02 00:00:00</td>\n",
       "      <td>SJC</td>\n",
       "      <td>Norman Y Mineta San Jose International</td>\n",
       "      <td>Continental Airlines</td>\n",
       "      <td>Passenger Property Loss</td>\n",
       "      <td>Checked Baggage</td>\n",
       "      <td>Other</td>\n",
       "      <td>66.95</td>\n",
       "      <td>Denied</td>\n",
       "      <td>0.00</td>\n",
       "      <td>Deny</td>\n",
       "    </tr>\n",
       "    <tr>\n",
       "      <th>96963</th>\n",
       "      <td>2005091992666</td>\n",
       "      <td>2500-09-08 00:00:00</td>\n",
       "      <td>2005-08-02 00:00:00</td>\n",
       "      <td>EWR</td>\n",
       "      <td>Newark International Airport</td>\n",
       "      <td>Continental Airlines</td>\n",
       "      <td>Passenger Property Loss</td>\n",
       "      <td>Checked Baggage</td>\n",
       "      <td>Other</td>\n",
       "      <td>61.64</td>\n",
       "      <td>Settled</td>\n",
       "      <td>35.70</td>\n",
       "      <td>Settle</td>\n",
       "    </tr>\n",
       "    <tr>\n",
       "      <th>96962</th>\n",
       "      <td>2005032379434</td>\n",
       "      <td>2500-02-18 00:00:00</td>\n",
       "      <td>2005-01-29 00:00:00</td>\n",
       "      <td>HPN</td>\n",
       "      <td>Westchester County, White Plains</td>\n",
       "      <td>American Airlines</td>\n",
       "      <td>Property Damage</td>\n",
       "      <td>Checked Baggage</td>\n",
       "      <td>Luggage (all types including footlockers)</td>\n",
       "      <td>550.00</td>\n",
       "      <td>Settled</td>\n",
       "      <td>50.00</td>\n",
       "      <td>Settle</td>\n",
       "    </tr>\n",
       "    <tr>\n",
       "      <th>96961</th>\n",
       "      <td>2008080447940</td>\n",
       "      <td>2208-07-29 00:00:00</td>\n",
       "      <td>2008-07-12 00:00:00</td>\n",
       "      <td>MDW</td>\n",
       "      <td>Midway International Airport</td>\n",
       "      <td>Delta Air Lines</td>\n",
       "      <td>Passenger Property Loss</td>\n",
       "      <td>Checked Baggage</td>\n",
       "      <td>Clothing - Shoes, belts, accessories, etc.</td>\n",
       "      <td>65.00</td>\n",
       "      <td>Denied</td>\n",
       "      <td>0.00</td>\n",
       "      <td>Deny</td>\n",
       "    </tr>\n",
       "    <tr>\n",
       "      <th>96960</th>\n",
       "      <td>2007013119968</td>\n",
       "      <td>2207-01-26 00:00:00</td>\n",
       "      <td>2007-01-19 00:00:00</td>\n",
       "      <td>MIA</td>\n",
       "      <td>Miami International Airport</td>\n",
       "      <td>American Airlines</td>\n",
       "      <td>Property Damage</td>\n",
       "      <td>Checkpoint</td>\n",
       "      <td>Eyeglasses - (including contact lenses)</td>\n",
       "      <td>162.99</td>\n",
       "      <td>Approved</td>\n",
       "      <td>162.99</td>\n",
       "      <td>Approve in Full</td>\n",
       "    </tr>\n",
       "    <tr>\n",
       "      <th>96959</th>\n",
       "      <td>2006030602551</td>\n",
       "      <td>2206-02-28 00:00:00</td>\n",
       "      <td>2006-02-06 00:00:00</td>\n",
       "      <td>CLE</td>\n",
       "      <td>Cleveland Hopkins International</td>\n",
       "      <td>Continental Airlines</td>\n",
       "      <td>Property Damage</td>\n",
       "      <td>Checked Baggage</td>\n",
       "      <td>Other</td>\n",
       "      <td>54.00</td>\n",
       "      <td>Denied</td>\n",
       "      <td>0.00</td>\n",
       "      <td>Deny</td>\n",
       "    </tr>\n",
       "    <tr>\n",
       "      <th>96958</th>\n",
       "      <td>2006021001323</td>\n",
       "      <td>2206-02-07 00:00:00</td>\n",
       "      <td>2006-01-24 00:00:00</td>\n",
       "      <td>MOB</td>\n",
       "      <td>Mobile Regional</td>\n",
       "      <td>USAir</td>\n",
       "      <td>Passenger Property Loss</td>\n",
       "      <td>Checked Baggage</td>\n",
       "      <td>Clothing - Shoes, belts, accessories, etc.</td>\n",
       "      <td>349.99</td>\n",
       "      <td>Settled</td>\n",
       "      <td>210.00</td>\n",
       "      <td>Settle</td>\n",
       "    </tr>\n",
       "    <tr>\n",
       "      <th>96957</th>\n",
       "      <td>2005120897325</td>\n",
       "      <td>2205-11-29 00:00:00</td>\n",
       "      <td>2005-11-07 00:00:00</td>\n",
       "      <td>SLC</td>\n",
       "      <td>Salt Lake City International Airport</td>\n",
       "      <td>Southwest Airlines</td>\n",
       "      <td>Property Damage</td>\n",
       "      <td>Checked Baggage</td>\n",
       "      <td>Cameras - Digital</td>\n",
       "      <td>329.00</td>\n",
       "      <td>Denied</td>\n",
       "      <td>0.00</td>\n",
       "      <td>Deny</td>\n",
       "    </tr>\n",
       "    <tr>\n",
       "      <th>96953</th>\n",
       "      <td>2004122871380</td>\n",
       "      <td>2204-11-04 00:00:00</td>\n",
       "      <td>2004-08-10 00:00:00</td>\n",
       "      <td>HNL</td>\n",
       "      <td>Honolulu International Airport</td>\n",
       "      <td>Air Canada</td>\n",
       "      <td>Passenger Property Loss</td>\n",
       "      <td>Checked Baggage</td>\n",
       "      <td>Clothing - Shoes, belts, accessories, etc.</td>\n",
       "      <td>29.65</td>\n",
       "      <td>Approved</td>\n",
       "      <td>29.65</td>\n",
       "      <td>Approve in Full</td>\n",
       "    </tr>\n",
       "    <tr>\n",
       "      <th>96950</th>\n",
       "      <td>2004090762251</td>\n",
       "      <td>2204-08-05 00:00:00</td>\n",
       "      <td>2004-07-10 00:00:00</td>\n",
       "      <td>MIA</td>\n",
       "      <td>Miami International Airport</td>\n",
       "      <td>American Airlines</td>\n",
       "      <td>Property Damage</td>\n",
       "      <td>Checked Baggage</td>\n",
       "      <td>Luggage (all types including footlockers)</td>\n",
       "      <td>120.00</td>\n",
       "      <td>Denied</td>\n",
       "      <td>0.00</td>\n",
       "      <td>Deny</td>\n",
       "    </tr>\n",
       "    <tr>\n",
       "      <th>96947</th>\n",
       "      <td>2004083061638</td>\n",
       "      <td>2204-07-27 00:00:00</td>\n",
       "      <td>2004-07-16 00:00:00</td>\n",
       "      <td>SAN</td>\n",
       "      <td>San Diego International</td>\n",
       "      <td>Frontier Airlines</td>\n",
       "      <td>Passenger Property Loss</td>\n",
       "      <td>Checked Baggage</td>\n",
       "      <td>Clothing - Shoes, belts, accessories, etc.</td>\n",
       "      <td>166.96</td>\n",
       "      <td>Approved</td>\n",
       "      <td>166.96</td>\n",
       "      <td>Approve in Full</td>\n",
       "    </tr>\n",
       "    <tr>\n",
       "      <th>96946</th>\n",
       "      <td>2006112716247</td>\n",
       "      <td>2200-11-20 00:00:00</td>\n",
       "      <td>2006-11-08 00:00:00</td>\n",
       "      <td>RSW</td>\n",
       "      <td>Southwest Florida International</td>\n",
       "      <td>Southwest Airlines</td>\n",
       "      <td>Property Damage</td>\n",
       "      <td>Checked Baggage</td>\n",
       "      <td>Electrical and Gas Appliances Minor - $200 or ...</td>\n",
       "      <td>120.00</td>\n",
       "      <td>Denied</td>\n",
       "      <td>0.00</td>\n",
       "      <td>Deny</td>\n",
       "    </tr>\n",
       "    <tr>\n",
       "      <th>96945</th>\n",
       "      <td>0105658M</td>\n",
       "      <td>2094-01-05 00:00:00</td>\n",
       "      <td>2003-11-30 00:00:00</td>\n",
       "      <td>JFK</td>\n",
       "      <td>John F. Kennedy International</td>\n",
       "      <td>American Airlines</td>\n",
       "      <td>Property Damage</td>\n",
       "      <td>Checked Baggage</td>\n",
       "      <td>Luggage (all types including footlockers)</td>\n",
       "      <td>135.00</td>\n",
       "      <td>Settled</td>\n",
       "      <td>50.00</td>\n",
       "      <td>Settle</td>\n",
       "    </tr>\n",
       "    <tr>\n",
       "      <th>96944</th>\n",
       "      <td>2005051985108</td>\n",
       "      <td>2055-05-17 00:00:00</td>\n",
       "      <td>2005-04-30 00:00:00</td>\n",
       "      <td>MSP</td>\n",
       "      <td>Minneapolis/ St.Paul International Airport</td>\n",
       "      <td>Northwest Airlines</td>\n",
       "      <td>Property Damage</td>\n",
       "      <td>Checked Baggage</td>\n",
       "      <td>Other</td>\n",
       "      <td>96.58</td>\n",
       "      <td>Denied</td>\n",
       "      <td>0.00</td>\n",
       "      <td>Deny</td>\n",
       "    </tr>\n",
       "    <tr>\n",
       "      <th>96941</th>\n",
       "      <td>2005081190381</td>\n",
       "      <td>2025-08-02 00:00:00</td>\n",
       "      <td>2005-07-02 00:00:00</td>\n",
       "      <td>ORD</td>\n",
       "      <td>Chicago O'Hare International Airport</td>\n",
       "      <td>LOT Polish Airlines</td>\n",
       "      <td>Passenger Property Loss</td>\n",
       "      <td>Checked Baggage</td>\n",
       "      <td>Cameras - Digital</td>\n",
       "      <td>599.00</td>\n",
       "      <td>Denied</td>\n",
       "      <td>0.00</td>\n",
       "      <td>Deny</td>\n",
       "    </tr>\n",
       "    <tr>\n",
       "      <th>96938</th>\n",
       "      <td>2005060785897</td>\n",
       "      <td>2025-05-31 00:00:00</td>\n",
       "      <td>2005-05-06 00:00:00</td>\n",
       "      <td>OAK</td>\n",
       "      <td>Metropolitan Oakland International</td>\n",
       "      <td>Southwest Airlines</td>\n",
       "      <td>Property Damage</td>\n",
       "      <td>Checked Baggage</td>\n",
       "      <td>Luggage (all types including footlockers)</td>\n",
       "      <td>65.00</td>\n",
       "      <td>Denied</td>\n",
       "      <td>0.00</td>\n",
       "      <td>Deny</td>\n",
       "    </tr>\n",
       "    <tr>\n",
       "      <th>96937</th>\n",
       "      <td>2005051985068</td>\n",
       "      <td>2025-05-17 00:00:00</td>\n",
       "      <td>2005-04-18 00:00:00</td>\n",
       "      <td>MCO</td>\n",
       "      <td>Orlando International Airport</td>\n",
       "      <td>AirTran Airlines</td>\n",
       "      <td>Property Damage</td>\n",
       "      <td>Checked Baggage</td>\n",
       "      <td>Musical Instruments - Other - Over $250</td>\n",
       "      <td>100.00</td>\n",
       "      <td>Approved</td>\n",
       "      <td>100.00</td>\n",
       "      <td>Approve in Full</td>\n",
       "    </tr>\n",
       "  </tbody>\n",
       "</table>\n",
       "</div>"
      ],
      "text/plain": [
       "        Claim_Number        Date_Received        Incident_Date Airport_Code  \\\n",
       "96972  2005110795652  3005-10-27 00:00:00  2005-09-29 00:00:00          IAH   \n",
       "96971  2005050484040  3005-05-03 00:00:00  2005-04-03 00:00:00          PHL   \n",
       "96969  2005040481301  3005-03-30 00:00:00  2005-03-02 00:00:00          MCO   \n",
       "96968  2005040481403  3005-03-30 00:00:00  2005-03-20 00:00:00          SHV   \n",
       "96966  2006122718021  2996-12-26 00:00:00  2006-12-21 00:00:00          BUR   \n",
       "96964  2007043024691  2900-04-27 00:00:00  2007-02-02 00:00:00          SJC   \n",
       "96963  2005091992666  2500-09-08 00:00:00  2005-08-02 00:00:00          EWR   \n",
       "96962  2005032379434  2500-02-18 00:00:00  2005-01-29 00:00:00          HPN   \n",
       "96961  2008080447940  2208-07-29 00:00:00  2008-07-12 00:00:00          MDW   \n",
       "96960  2007013119968  2207-01-26 00:00:00  2007-01-19 00:00:00          MIA   \n",
       "96959  2006030602551  2206-02-28 00:00:00  2006-02-06 00:00:00          CLE   \n",
       "96958  2006021001323  2206-02-07 00:00:00  2006-01-24 00:00:00          MOB   \n",
       "96957  2005120897325  2205-11-29 00:00:00  2005-11-07 00:00:00          SLC   \n",
       "96953  2004122871380  2204-11-04 00:00:00  2004-08-10 00:00:00          HNL   \n",
       "96950  2004090762251  2204-08-05 00:00:00  2004-07-10 00:00:00          MIA   \n",
       "96947  2004083061638  2204-07-27 00:00:00  2004-07-16 00:00:00          SAN   \n",
       "96946  2006112716247  2200-11-20 00:00:00  2006-11-08 00:00:00          RSW   \n",
       "96945       0105658M  2094-01-05 00:00:00  2003-11-30 00:00:00          JFK   \n",
       "96944  2005051985108  2055-05-17 00:00:00  2005-04-30 00:00:00          MSP   \n",
       "96941  2005081190381  2025-08-02 00:00:00  2005-07-02 00:00:00          ORD   \n",
       "96938  2005060785897  2025-05-31 00:00:00  2005-05-06 00:00:00          OAK   \n",
       "96937  2005051985068  2025-05-17 00:00:00  2005-04-18 00:00:00          MCO   \n",
       "\n",
       "                                         Airport_Name          Airline_Name  \\\n",
       "96972  Houston - George Bush Intercontinental Airport  Continental Airlines   \n",
       "96971              Philadelphia International Airport                 USAir   \n",
       "96969                   Orlando International Airport  Continental Airlines   \n",
       "96968                             Shreveport Regional    Northwest Airlines   \n",
       "96966                                        Bob Hope              Jet Blue   \n",
       "96964          Norman Y Mineta San Jose International  Continental Airlines   \n",
       "96963                    Newark International Airport  Continental Airlines   \n",
       "96962                Westchester County, White Plains     American Airlines   \n",
       "96961                    Midway International Airport       Delta Air Lines   \n",
       "96960                     Miami International Airport     American Airlines   \n",
       "96959                 Cleveland Hopkins International  Continental Airlines   \n",
       "96958                                 Mobile Regional                 USAir   \n",
       "96957            Salt Lake City International Airport    Southwest Airlines   \n",
       "96953                  Honolulu International Airport            Air Canada   \n",
       "96950                     Miami International Airport     American Airlines   \n",
       "96947                         San Diego International     Frontier Airlines   \n",
       "96946                 Southwest Florida International    Southwest Airlines   \n",
       "96945                   John F. Kennedy International     American Airlines   \n",
       "96944      Minneapolis/ St.Paul International Airport    Northwest Airlines   \n",
       "96941            Chicago O'Hare International Airport   LOT Polish Airlines   \n",
       "96938              Metropolitan Oakland International    Southwest Airlines   \n",
       "96937                   Orlando International Airport      AirTran Airlines   \n",
       "\n",
       "                    Claim_Type       Claim_Site  \\\n",
       "96972          Property Damage  Checked Baggage   \n",
       "96971          Property Damage       Checkpoint   \n",
       "96969  Passenger Property Loss  Checked Baggage   \n",
       "96968  Passenger Property Loss  Checked Baggage   \n",
       "96966  Passenger Property Loss  Checked Baggage   \n",
       "96964  Passenger Property Loss  Checked Baggage   \n",
       "96963  Passenger Property Loss  Checked Baggage   \n",
       "96962          Property Damage  Checked Baggage   \n",
       "96961  Passenger Property Loss  Checked Baggage   \n",
       "96960          Property Damage       Checkpoint   \n",
       "96959          Property Damage  Checked Baggage   \n",
       "96958  Passenger Property Loss  Checked Baggage   \n",
       "96957          Property Damage  Checked Baggage   \n",
       "96953  Passenger Property Loss  Checked Baggage   \n",
       "96950          Property Damage  Checked Baggage   \n",
       "96947  Passenger Property Loss  Checked Baggage   \n",
       "96946          Property Damage  Checked Baggage   \n",
       "96945          Property Damage  Checked Baggage   \n",
       "96944          Property Damage  Checked Baggage   \n",
       "96941  Passenger Property Loss  Checked Baggage   \n",
       "96938          Property Damage  Checked Baggage   \n",
       "96937          Property Damage  Checked Baggage   \n",
       "\n",
       "                                                    Item  Claim_Amount  \\\n",
       "96972                                              Other        150.00   \n",
       "96971                                              Other        264.39   \n",
       "96969                                  Computer - Laptop       2714.08   \n",
       "96968                                              Other         45.69   \n",
       "96966                                    Currency; Other       1120.00   \n",
       "96964                                              Other         66.95   \n",
       "96963                                              Other         61.64   \n",
       "96962          Luggage (all types including footlockers)        550.00   \n",
       "96961         Clothing - Shoes, belts, accessories, etc.         65.00   \n",
       "96960            Eyeglasses - (including contact lenses)        162.99   \n",
       "96959                                              Other         54.00   \n",
       "96958         Clothing - Shoes, belts, accessories, etc.        349.99   \n",
       "96957                                  Cameras - Digital        329.00   \n",
       "96953         Clothing - Shoes, belts, accessories, etc.         29.65   \n",
       "96950          Luggage (all types including footlockers)        120.00   \n",
       "96947         Clothing - Shoes, belts, accessories, etc.        166.96   \n",
       "96946  Electrical and Gas Appliances Minor - $200 or ...        120.00   \n",
       "96945          Luggage (all types including footlockers)        135.00   \n",
       "96944                                              Other         96.58   \n",
       "96941                                  Cameras - Digital        599.00   \n",
       "96938          Luggage (all types including footlockers)         65.00   \n",
       "96937            Musical Instruments - Other - Over $250        100.00   \n",
       "\n",
       "         Status  Close_Amount      Disposition  \n",
       "96972    Denied          0.00             Deny  \n",
       "96971  Approved        264.39  Approve in Full  \n",
       "96969    Denied          0.00             Deny  \n",
       "96968  Approved         45.69  Approve in Full  \n",
       "96966    Denied          0.00             Deny  \n",
       "96964    Denied          0.00             Deny  \n",
       "96963   Settled         35.70           Settle  \n",
       "96962   Settled         50.00           Settle  \n",
       "96961    Denied          0.00             Deny  \n",
       "96960  Approved        162.99  Approve in Full  \n",
       "96959    Denied          0.00             Deny  \n",
       "96958   Settled        210.00           Settle  \n",
       "96957    Denied          0.00             Deny  \n",
       "96953  Approved         29.65  Approve in Full  \n",
       "96950    Denied          0.00             Deny  \n",
       "96947  Approved        166.96  Approve in Full  \n",
       "96946    Denied          0.00             Deny  \n",
       "96945   Settled         50.00           Settle  \n",
       "96944    Denied          0.00             Deny  \n",
       "96941    Denied          0.00             Deny  \n",
       "96938    Denied          0.00             Deny  \n",
       "96937  Approved        100.00  Approve in Full  "
      ]
     },
     "execution_count": 115,
     "metadata": {},
     "output_type": "execute_result"
    }
   ],
   "source": [
    "df12_final[df12_final.Date_Received >= datetime.datetime(2010,1,1,0,0)].sort_values('Date_Received',ascending=False)"
   ]
  },
  {
   "cell_type": "code",
   "execution_count": 116,
   "metadata": {
    "collapsed": true
   },
   "outputs": [],
   "source": [
    "df12_final=df12_final.drop(df12_final[df12_final.Date_Received >= datetime.datetime(year=2010,month=1,day=1)].index)"
   ]
  },
  {
   "cell_type": "code",
   "execution_count": 117,
   "metadata": {
    "collapsed": false
   },
   "outputs": [
    {
     "data": {
      "text/plain": [
       "Claim_Number     0\n",
       "Date_Received    0\n",
       "Incident_Date    0\n",
       "Airport_Code     0\n",
       "Airport_Name     0\n",
       "Airline_Name     0\n",
       "Claim_Type       0\n",
       "Claim_Site       0\n",
       "Item             0\n",
       "Claim_Amount     0\n",
       "Status           0\n",
       "Close_Amount     0\n",
       "Disposition      0\n",
       "dtype: int64"
      ]
     },
     "execution_count": 117,
     "metadata": {},
     "output_type": "execute_result"
    }
   ],
   "source": [
    "df12_final[df12_final.Date_Received >= datetime.datetime(year=2010,month=1,day=1)].count()"
   ]
  },
  {
   "cell_type": "code",
   "execution_count": 118,
   "metadata": {
    "collapsed": false
   },
   "outputs": [],
   "source": [
    "#df12_final['Incident_Date'] = pd.to_datetime(df12_final.Incident_Date)"
   ]
  },
  {
   "cell_type": "code",
   "execution_count": 119,
   "metadata": {
    "collapsed": false
   },
   "outputs": [
    {
     "data": {
      "text/plain": [
       "Claim_Number     118\n",
       "Date_Received    118\n",
       "Incident_Date    118\n",
       "Airport_Code     118\n",
       "Airport_Name     118\n",
       "Airline_Name     118\n",
       "Claim_Type       118\n",
       "Claim_Site       118\n",
       "Item             118\n",
       "Claim_Amount     118\n",
       "Status           118\n",
       "Close_Amount     118\n",
       "Disposition      118\n",
       "dtype: int64"
      ]
     },
     "execution_count": 119,
     "metadata": {},
     "output_type": "execute_result"
    }
   ],
   "source": [
    "df12_final[df12_final.Incident_Date.astype(str).str[:4].str.contains('-')].count()"
   ]
  },
  {
   "cell_type": "code",
   "execution_count": 120,
   "metadata": {
    "collapsed": false
   },
   "outputs": [
    {
     "data": {
      "text/plain": [
       "54198    17-MAR-0201 00:00\n",
       "55085    20-JUN-0209 00:00\n",
       "55218    09-DEC-0200 00:00\n",
       "55887    23-DEC-0204 00:00\n",
       "56041    25-JAN-0201 00:00\n",
       "Name: Incident_Date, dtype: object"
      ]
     },
     "execution_count": 120,
     "metadata": {},
     "output_type": "execute_result"
    }
   ],
   "source": [
    "df12_final[df12_final.Incident_Date.astype(str).str[:4].str.contains('-')].Incident_Date.head()"
   ]
  },
  {
   "cell_type": "code",
   "execution_count": 121,
   "metadata": {
    "collapsed": false
   },
   "outputs": [],
   "source": [
    "df12_final=df12_final.drop(df12_final[df12_final.Incident_Date.astype(str).str[:4].str.contains('-')].index)"
   ]
  },
  {
   "cell_type": "code",
   "execution_count": 122,
   "metadata": {
    "collapsed": false
   },
   "outputs": [
    {
     "data": {
      "text/plain": [
       "Claim_Number     0\n",
       "Date_Received    0\n",
       "Incident_Date    0\n",
       "Airport_Code     0\n",
       "Airport_Name     0\n",
       "Airline_Name     0\n",
       "Claim_Type       0\n",
       "Claim_Site       0\n",
       "Item             0\n",
       "Claim_Amount     0\n",
       "Status           0\n",
       "Close_Amount     0\n",
       "Disposition      0\n",
       "dtype: int64"
      ]
     },
     "execution_count": 122,
     "metadata": {},
     "output_type": "execute_result"
    }
   ],
   "source": [
    "df12_final[df12_final.Incident_Date.astype(str).str[:4].str.contains('-')].count()"
   ]
  },
  {
   "cell_type": "code",
   "execution_count": 123,
   "metadata": {
    "collapsed": false
   },
   "outputs": [],
   "source": [
    "df12_final['Date_Received'] = pd.to_datetime(df12_final.Date_Received)\n",
    "df12_final['Incident_Date'] = pd.to_datetime(df12_final.Incident_Date)"
   ]
  },
  {
   "cell_type": "code",
   "execution_count": 124,
   "metadata": {
    "collapsed": false
   },
   "outputs": [
    {
     "data": {
      "text/plain": [
       "Claim_Number             object\n",
       "Date_Received    datetime64[ns]\n",
       "Incident_Date    datetime64[ns]\n",
       "Airport_Code             object\n",
       "Airport_Name             object\n",
       "Airline_Name             object\n",
       "Claim_Type               object\n",
       "Claim_Site               object\n",
       "Item                     object\n",
       "Claim_Amount            float64\n",
       "Status                   object\n",
       "Close_Amount            float64\n",
       "Disposition              object\n",
       "dtype: object"
      ]
     },
     "execution_count": 124,
     "metadata": {},
     "output_type": "execute_result"
    }
   ],
   "source": [
    "df12_final.dtypes"
   ]
  },
  {
   "cell_type": "code",
   "execution_count": 125,
   "metadata": {
    "collapsed": false
   },
   "outputs": [
    {
     "data": {
      "text/plain": [
       "Claim_Number     94708\n",
       "Date_Received    94708\n",
       "Incident_Date    94708\n",
       "Airport_Code     94708\n",
       "Airport_Name     94708\n",
       "Airline_Name     94708\n",
       "Claim_Type       94708\n",
       "Claim_Site       94708\n",
       "Item             94708\n",
       "Claim_Amount     94708\n",
       "Status           94708\n",
       "Close_Amount     94708\n",
       "Disposition      94708\n",
       "dtype: int64"
      ]
     },
     "execution_count": 125,
     "metadata": {},
     "output_type": "execute_result"
    }
   ],
   "source": [
    "df12_final.count()"
   ]
  },
  {
   "cell_type": "code",
   "execution_count": 126,
   "metadata": {
    "collapsed": false
   },
   "outputs": [],
   "source": [
    "df12_final['Days_Since_Incident'] = (df12_final['Date_Received'] -df12_final['Incident_Date'])/np.timedelta64(1, 'D')"
   ]
  },
  {
   "cell_type": "code",
   "execution_count": 127,
   "metadata": {
    "collapsed": false
   },
   "outputs": [
    {
     "data": {
      "text/plain": [
       "Claim_Number           839\n",
       "Date_Received          839\n",
       "Incident_Date          839\n",
       "Airport_Code           839\n",
       "Airport_Name           839\n",
       "Airline_Name           839\n",
       "Claim_Type             839\n",
       "Claim_Site             839\n",
       "Item                   839\n",
       "Claim_Amount           839\n",
       "Status                 839\n",
       "Close_Amount           839\n",
       "Disposition            839\n",
       "Days_Since_Incident    839\n",
       "dtype: int64"
      ]
     },
     "execution_count": 127,
     "metadata": {},
     "output_type": "execute_result"
    }
   ],
   "source": [
    "df12_final[df12_final.Days_Since_Incident < 0].count()"
   ]
  },
  {
   "cell_type": "code",
   "execution_count": 128,
   "metadata": {
    "collapsed": false
   },
   "outputs": [
    {
     "data": {
      "text/html": [
       "<div>\n",
       "<table border=\"1\" class=\"dataframe\">\n",
       "  <thead>\n",
       "    <tr style=\"text-align: right;\">\n",
       "      <th></th>\n",
       "      <th>Claim_Number</th>\n",
       "      <th>Date_Received</th>\n",
       "      <th>Incident_Date</th>\n",
       "      <th>Airport_Code</th>\n",
       "      <th>Airport_Name</th>\n",
       "      <th>Airline_Name</th>\n",
       "      <th>Claim_Type</th>\n",
       "      <th>Claim_Site</th>\n",
       "      <th>Item</th>\n",
       "      <th>Claim_Amount</th>\n",
       "      <th>Status</th>\n",
       "      <th>Close_Amount</th>\n",
       "      <th>Disposition</th>\n",
       "      <th>Days_Since_Incident</th>\n",
       "    </tr>\n",
       "  </thead>\n",
       "  <tbody>\n",
       "    <tr>\n",
       "      <th>0</th>\n",
       "      <td>0909802M</td>\n",
       "      <td>2002-01-04</td>\n",
       "      <td>2002-12-12</td>\n",
       "      <td>EWR</td>\n",
       "      <td>Newark International Airport</td>\n",
       "      <td>Continental Airlines</td>\n",
       "      <td>Property Damage</td>\n",
       "      <td>Checkpoint</td>\n",
       "      <td>Other</td>\n",
       "      <td>350.00</td>\n",
       "      <td>Approved</td>\n",
       "      <td>350.00</td>\n",
       "      <td>Approve in Full</td>\n",
       "      <td>-342.0</td>\n",
       "    </tr>\n",
       "    <tr>\n",
       "      <th>2</th>\n",
       "      <td>0202445M</td>\n",
       "      <td>2002-02-04</td>\n",
       "      <td>2003-11-26</td>\n",
       "      <td>STL</td>\n",
       "      <td>Lambert St. Louis International</td>\n",
       "      <td>American Airlines</td>\n",
       "      <td>Property Damage</td>\n",
       "      <td>Checked Baggage</td>\n",
       "      <td>Cell Phones</td>\n",
       "      <td>278.88</td>\n",
       "      <td>Settled</td>\n",
       "      <td>227.92</td>\n",
       "      <td>Settle</td>\n",
       "      <td>-660.0</td>\n",
       "    </tr>\n",
       "    <tr>\n",
       "      <th>3</th>\n",
       "      <td>0909816M</td>\n",
       "      <td>2002-02-07</td>\n",
       "      <td>2003-01-06</td>\n",
       "      <td>MIA</td>\n",
       "      <td>Miami International Airport</td>\n",
       "      <td>American Airlines</td>\n",
       "      <td>Property Damage</td>\n",
       "      <td>Checkpoint</td>\n",
       "      <td>Luggage (all types including footlockers)</td>\n",
       "      <td>50.00</td>\n",
       "      <td>Approved</td>\n",
       "      <td>50.00</td>\n",
       "      <td>Approve in Full</td>\n",
       "      <td>-333.0</td>\n",
       "    </tr>\n",
       "    <tr>\n",
       "      <th>4</th>\n",
       "      <td>2005032379513</td>\n",
       "      <td>2002-02-18</td>\n",
       "      <td>2005-02-05</td>\n",
       "      <td>MCO</td>\n",
       "      <td>Orlando International Airport</td>\n",
       "      <td>Delta (Song)</td>\n",
       "      <td>Property Damage</td>\n",
       "      <td>Checkpoint</td>\n",
       "      <td>Baby - Strollers, car seats, playpen, etc.</td>\n",
       "      <td>84.79</td>\n",
       "      <td>Approved</td>\n",
       "      <td>84.79</td>\n",
       "      <td>Approve in Full</td>\n",
       "      <td>-1083.0</td>\n",
       "    </tr>\n",
       "    <tr>\n",
       "      <th>5</th>\n",
       "      <td>2005032479636</td>\n",
       "      <td>2002-02-18</td>\n",
       "      <td>2005-02-17</td>\n",
       "      <td>CAK</td>\n",
       "      <td>Akron-Canton Regional</td>\n",
       "      <td>Air Tran Airlines(do not use)</td>\n",
       "      <td>Passenger Property Loss</td>\n",
       "      <td>Checked Baggage</td>\n",
       "      <td>Other</td>\n",
       "      <td>459.01</td>\n",
       "      <td>Settled</td>\n",
       "      <td>227.00</td>\n",
       "      <td>Settle</td>\n",
       "      <td>-1095.0</td>\n",
       "    </tr>\n",
       "  </tbody>\n",
       "</table>\n",
       "</div>"
      ],
      "text/plain": [
       "    Claim_Number Date_Received Incident_Date Airport_Code  \\\n",
       "0       0909802M    2002-01-04    2002-12-12          EWR   \n",
       "2       0202445M    2002-02-04    2003-11-26          STL   \n",
       "3       0909816M    2002-02-07    2003-01-06          MIA   \n",
       "4  2005032379513    2002-02-18    2005-02-05          MCO   \n",
       "5  2005032479636    2002-02-18    2005-02-17          CAK   \n",
       "\n",
       "                      Airport_Name                   Airline_Name  \\\n",
       "0     Newark International Airport           Continental Airlines   \n",
       "2  Lambert St. Louis International              American Airlines   \n",
       "3      Miami International Airport              American Airlines   \n",
       "4    Orlando International Airport                   Delta (Song)   \n",
       "5            Akron-Canton Regional  Air Tran Airlines(do not use)   \n",
       "\n",
       "                Claim_Type       Claim_Site  \\\n",
       "0          Property Damage       Checkpoint   \n",
       "2          Property Damage  Checked Baggage   \n",
       "3          Property Damage       Checkpoint   \n",
       "4          Property Damage       Checkpoint   \n",
       "5  Passenger Property Loss  Checked Baggage   \n",
       "\n",
       "                                         Item  Claim_Amount    Status  \\\n",
       "0                                       Other        350.00  Approved   \n",
       "2                                 Cell Phones        278.88   Settled   \n",
       "3   Luggage (all types including footlockers)         50.00  Approved   \n",
       "4  Baby - Strollers, car seats, playpen, etc.         84.79  Approved   \n",
       "5                                       Other        459.01   Settled   \n",
       "\n",
       "   Close_Amount      Disposition  Days_Since_Incident  \n",
       "0        350.00  Approve in Full               -342.0  \n",
       "2        227.92           Settle               -660.0  \n",
       "3         50.00  Approve in Full               -333.0  \n",
       "4         84.79  Approve in Full              -1083.0  \n",
       "5        227.00           Settle              -1095.0  "
      ]
     },
     "execution_count": 128,
     "metadata": {},
     "output_type": "execute_result"
    }
   ],
   "source": [
    "df12_final[df12_final.Days_Since_Incident < 0].head()"
   ]
  },
  {
   "cell_type": "code",
   "execution_count": 129,
   "metadata": {
    "collapsed": false
   },
   "outputs": [
    {
     "data": {
      "text/plain": [
       "Deny               33\n",
       "Approve in Full     9\n",
       "Settle              4\n",
       "Name: Disposition, dtype: int64"
      ]
     },
     "execution_count": 129,
     "metadata": {},
     "output_type": "execute_result"
    }
   ],
   "source": [
    "df12_final[df12_final.Days_Since_Incident > 1000].Disposition.value_counts()"
   ]
  },
  {
   "cell_type": "code",
   "execution_count": 130,
   "metadata": {
    "collapsed": false
   },
   "outputs": [
    {
     "data": {
      "text/plain": [
       "count    94708.000000\n",
       "mean        39.977576\n",
       "std         77.954609\n",
       "min      -1826.000000\n",
       "25%         12.000000\n",
       "50%         23.000000\n",
       "75%         45.000000\n",
       "max       2925.000000\n",
       "Name: Days_Since_Incident, dtype: float64"
      ]
     },
     "execution_count": 130,
     "metadata": {},
     "output_type": "execute_result"
    }
   ],
   "source": [
    "df12_final.Days_Since_Incident.describe()"
   ]
  },
  {
   "cell_type": "code",
   "execution_count": 131,
   "metadata": {
    "collapsed": false
   },
   "outputs": [
    {
     "data": {
      "text/plain": [
       "Disposition           \n",
       "Approve in Full  count    23142.000000\n",
       "                 mean        39.219165\n",
       "                 std         73.046430\n",
       "                 min      -1822.000000\n",
       "                 25%         14.000000\n",
       "                 50%         25.000000\n",
       "                 75%         45.000000\n",
       "                 max       2250.000000\n",
       "Deny             count    53183.000000\n",
       "                 mean        40.100397\n",
       "                 std         82.083883\n",
       "                 min      -1826.000000\n",
       "                 25%         11.000000\n",
       "                 50%         22.000000\n",
       "                 75%         44.000000\n",
       "                 max       2925.000000\n",
       "Settle           count    18383.000000\n",
       "                 mean        40.577000\n",
       "                 std         71.397133\n",
       "                 min      -1095.000000\n",
       "                 25%         14.000000\n",
       "                 50%         25.000000\n",
       "                 75%         46.000000\n",
       "                 max       2256.000000\n",
       "Name: Days_Since_Incident, dtype: float64"
      ]
     },
     "execution_count": 131,
     "metadata": {},
     "output_type": "execute_result"
    }
   ],
   "source": [
    "df12_final.groupby('Disposition').Days_Since_Incident.describe()"
   ]
  },
  {
   "cell_type": "code",
   "execution_count": 132,
   "metadata": {
    "collapsed": false
   },
   "outputs": [
    {
     "data": {
      "text/plain": [
       "Disposition\n",
       "Approve in Full    Axes(0.125,0.125;0.775x0.755)\n",
       "Deny               Axes(0.125,0.125;0.775x0.755)\n",
       "Settle             Axes(0.125,0.125;0.775x0.755)\n",
       "Name: Days_Since_Incident, dtype: object"
      ]
     },
     "execution_count": 132,
     "metadata": {},
     "output_type": "execute_result"
    },
    {
     "data": {
      "image/png": "[encoded data removed]",
      "text/plain": [
       "<matplotlib.figure.Figure at 0x11cdf3e10>"
      ]
     },
     "metadata": {},
     "output_type": "display_data"
    }
   ],
   "source": [
    "df12_final.groupby('Disposition').Days_Since_Incident.hist(bins=np.linspace(-100,100,50))"
   ]
  },
  {
   "cell_type": "code",
   "execution_count": 133,
   "metadata": {
    "collapsed": false
   },
   "outputs": [],
   "source": [
    "# Drop rows where Incident Date > Date Received\n",
    "df12_final = df12_final.drop(df12_final[df12_final.Incident_Date > df12_final.Date_Received].index)"
   ]
  },
  {
   "cell_type": "code",
   "execution_count": 134,
   "metadata": {
    "collapsed": false
   },
   "outputs": [
    {
     "data": {
      "text/plain": [
       "Claim_Number           0\n",
       "Date_Received          0\n",
       "Incident_Date          0\n",
       "Airport_Code           0\n",
       "Airport_Name           0\n",
       "Airline_Name           0\n",
       "Claim_Type             0\n",
       "Claim_Site             0\n",
       "Item                   0\n",
       "Claim_Amount           0\n",
       "Status                 0\n",
       "Close_Amount           0\n",
       "Disposition            0\n",
       "Days_Since_Incident    0\n",
       "dtype: int64"
      ]
     },
     "execution_count": 134,
     "metadata": {},
     "output_type": "execute_result"
    }
   ],
   "source": [
    "df12_final[df12_final.Days_Since_Incident < 0].count()"
   ]
  },
  {
   "cell_type": "code",
   "execution_count": 135,
   "metadata": {
    "collapsed": false
   },
   "outputs": [
    {
     "name": "stdout",
     "output_type": "stream",
     "text": [
      "Disposition           \n",
      "Approve in Full  count    22943.000000\n",
      "                 mean        41.444272\n",
      "                 std         65.456374\n",
      "                 min          0.000000\n",
      "                 25%         14.000000\n",
      "                 50%         25.000000\n",
      "                 75%         45.000000\n",
      "                 max       2250.000000\n",
      "Deny             count    52699.000000\n",
      "                 mean        42.273604\n",
      "                 std         76.912196\n",
      "                 min          0.000000\n",
      "                 25%         11.000000\n",
      "                 50%         22.000000\n",
      "                 75%         44.000000\n",
      "                 max       2925.000000\n",
      "Settle           count    18227.000000\n",
      "                 mean        42.533968\n",
      "                 std         66.183920\n",
      "                 min          0.000000\n",
      "                 25%         14.000000\n",
      "                 50%         25.000000\n",
      "                 75%         46.000000\n",
      "                 max       2256.000000\n",
      "Name: Days_Since_Incident, dtype: float64\n"
     ]
    },
    {
     "data": {
      "image/png": "[encoded data removed]",
      "text/plain": [
       "<matplotlib.figure.Figure at 0x1227fdfd0>"
      ]
     },
     "metadata": {},
     "output_type": "display_data"
    }
   ],
   "source": [
    "df12_final.groupby('Disposition').Days_Since_Incident.hist(bins=np.linspace(0,200,20))\n",
    "print(df12_final.groupby('Disposition').Days_Since_Incident.describe())"
   ]
  },
  {
   "cell_type": "markdown",
   "metadata": {},
   "source": [
    "## Label Items Not In Top 50 Item Categories as Other"
   ]
  },
  {
   "cell_type": "code",
   "execution_count": 136,
   "metadata": {
    "collapsed": false
   },
   "outputs": [
    {
     "data": {
      "text/plain": [
       "93869"
      ]
     },
     "execution_count": 136,
     "metadata": {},
     "output_type": "execute_result"
    }
   ],
   "source": [
    "df12_final.Item.count()"
   ]
  },
  {
   "cell_type": "code",
   "execution_count": 137,
   "metadata": {
    "collapsed": false,
    "scrolled": false
   },
   "outputs": [
    {
     "data": {
      "text/plain": [
       "3054"
      ]
     },
     "execution_count": 137,
     "metadata": {},
     "output_type": "execute_result"
    }
   ],
   "source": [
    "df12_final.Item.value_counts().count()"
   ]
  },
  {
   "cell_type": "code",
   "execution_count": 138,
   "metadata": {
    "collapsed": false
   },
   "outputs": [
    {
     "data": {
      "text/plain": [
       "Photographic Film                                                                                              94\n",
       "Bags - Fabric, plastic, etc. (not purses); Cosmetics - Perfume, toilet articles, medicines, soaps, etc.       104\n",
       "Paintings and Pictures (including frames, etchings, photos, etc)                                              106\n",
       "Dental Equipment and Instruments                                                                              107\n",
       "Locks; Other                                                                                                  124\n",
       "MP3 Players-(iPods, etc); Other                                                                               126\n",
       "Luggage (all types including footlockers); Other                                                              129\n",
       "Bags - Fabric, plastic, etc. (not purses)                                                                     138\n",
       "Computer - Laptop; Other                                                                                      150\n",
       "Kitchen Utensils -Pots, Pans, Knives (heavy aluminum, cast iron, etc.)                                        159\n",
       "Cosmetics - Perfume, toilet articles, medicines, soaps, etc.; Other                                           166\n",
       "Barber Supplies - Scissors, shears, elecric razors, etc.                                                      166\n",
       "Watches - Inexpensive $100 or less                                                                            168\n",
       "Jewelry - Costume; Jewelry - Fine                                                                             175\n",
       "Fish/Game                                                                                                     182\n",
       "Tools - Manual (not in a vehicle)                                                                             200\n",
       "Cameras - Non-electronic (Camera supplies, lenses, projectors, etc.)                                          200\n",
       "PDA - Personal Data Assistants                                                                                249\n",
       "Medical Equipment & Insturments                                                                               260\n",
       "Toys (game systems, cartridges, radio controlled cars, etc.)                                                  266\n",
       "Cameras - Digital; Other                                                                                      272\n",
       "Clothing - Shoes, belts, accessories, etc.; Cosmetics - Perfume, toilet articles, medicines, soaps, etc.      273\n",
       "Dishes, Pottery, Glassware, Plasticware                                                                       288\n",
       "Clothing - Shoes, belts, accessories, etc.; Other                                                             289\n",
       "Musical Instruments - Other - Over $250                                                                       290\n",
       "Clothing - Shoes, belts, accessories, etc.; Luggage (all types including footlockers)                         299\n",
       "Baby - Strollers, car seats, playpen, etc.                                                                    389\n",
       "Handbags & Purses (leather or fabric)                                                                         396\n",
       "Alcoholic beverages                                                                                           415\n",
       "Stereo Items & Accessories                                                                                    458\n",
       "GPS - Global Positioning System                                                                               508\n",
       "Locks; Luggage (all types including footlockers)                                                              533\n",
       "Watches - Expensive more than $100                                                                            577\n",
       "Jewelry - Costume                                                                                             636\n",
       "Cameras - Digital; Cameras - Non-electronic (Camera supplies, lenses, projectors, etc.)                       642\n",
       "Sporting Equipment & Supplies (footballs, parachutes, etc.)                                                   698\n",
       "MP3 Players-(iPods, etc)                                                                                      699\n",
       "Medicines                                                                                                     709\n",
       "DVD/CD Players                                                                                                767\n",
       "Cell Phones                                                                                                  1241\n",
       "Currency                                                                                                     1566\n",
       "Eyeglasses - (including contact lenses)                                                                      2356\n",
       "Cosmetics - Perfume, toilet articles, medicines, soaps, etc.                                                 2469\n",
       "Computer - Laptop                                                                                            5912\n",
       "Jewelry - Fine                                                                                               6059\n",
       "Cameras - Digital                                                                                            6300\n",
       "Locks                                                                                                        6867\n",
       "Clothing - Shoes, belts, accessories, etc.                                                                   9365\n",
       "Luggage (all types including footlockers)                                                                   11646\n",
       "Other                                                                                                       17640\n",
       "Name: Item, dtype: int64"
      ]
     },
     "execution_count": 138,
     "metadata": {},
     "output_type": "execute_result"
    }
   ],
   "source": [
    "df12_final.Item.value_counts().head(50).sort_values()"
   ]
  },
  {
   "cell_type": "code",
   "execution_count": 139,
   "metadata": {
    "collapsed": false
   },
   "outputs": [
    {
     "data": {
      "text/plain": [
       "[u'Other',\n",
       " u'Luggage (all types including footlockers)',\n",
       " u'Clothing - Shoes, belts, accessories, etc.',\n",
       " u'Locks',\n",
       " u'Cameras - Digital',\n",
       " u'Jewelry - Fine',\n",
       " u'Computer - Laptop',\n",
       " u'Cosmetics - Perfume, toilet articles, medicines, soaps, etc.',\n",
       " u'Eyeglasses - (including contact lenses)',\n",
       " u'Currency',\n",
       " u'Cell Phones',\n",
       " u'DVD/CD Players',\n",
       " u'Medicines',\n",
       " u'MP3 Players-(iPods, etc)',\n",
       " u'Sporting Equipment & Supplies (footballs, parachutes, etc.)',\n",
       " u'Cameras - Digital; Cameras - Non-electronic (Camera supplies, lenses, projectors, etc.)',\n",
       " u'Jewelry - Costume',\n",
       " u'Watches - Expensive more than $100',\n",
       " u'Locks; Luggage (all types including footlockers)',\n",
       " u'GPS - Global Positioning System',\n",
       " u'Stereo Items & Accessories',\n",
       " u'Alcoholic beverages',\n",
       " u'Handbags & Purses (leather or fabric)',\n",
       " u'Baby - Strollers, car seats, playpen, etc.',\n",
       " u'Clothing - Shoes, belts, accessories, etc.; Luggage (all types including footlockers)',\n",
       " u'Musical Instruments - Other - Over $250',\n",
       " u'Clothing - Shoes, belts, accessories, etc.; Other',\n",
       " u'Dishes, Pottery, Glassware, Plasticware',\n",
       " u'Clothing - Shoes, belts, accessories, etc.; Cosmetics - Perfume, toilet articles, medicines, soaps, etc.',\n",
       " u'Cameras - Digital; Other',\n",
       " u'Toys (game systems, cartridges, radio controlled cars, etc.)',\n",
       " u'Medical Equipment & Insturments',\n",
       " u'PDA - Personal Data Assistants',\n",
       " u'Cameras - Non-electronic (Camera supplies, lenses, projectors, etc.)',\n",
       " u'Tools - Manual (not in a vehicle)',\n",
       " u'Fish/Game',\n",
       " u'Jewelry - Costume; Jewelry - Fine',\n",
       " u'Watches - Inexpensive $100 or less',\n",
       " u'Barber Supplies - Scissors, shears, elecric razors, etc.',\n",
       " u'Cosmetics - Perfume, toilet articles, medicines, soaps, etc.; Other',\n",
       " u'Kitchen Utensils -Pots, Pans, Knives (heavy aluminum, cast iron, etc.)',\n",
       " u'Computer - Laptop; Other',\n",
       " u'Bags - Fabric, plastic, etc. (not purses)',\n",
       " u'Luggage (all types including footlockers); Other',\n",
       " u'MP3 Players-(iPods, etc); Other',\n",
       " u'Locks; Other',\n",
       " u'Dental Equipment and Instruments',\n",
       " u'Paintings and Pictures (including frames, etchings, photos, etc)',\n",
       " u'Bags - Fabric, plastic, etc. (not purses); Cosmetics - Perfume, toilet articles, medicines, soaps, etc.',\n",
       " u'Photographic Film']"
      ]
     },
     "execution_count": 139,
     "metadata": {},
     "output_type": "execute_result"
    }
   ],
   "source": [
    "top50_items = df12_final.Item.value_counts().head(50).index.tolist()\n",
    "top50_items"
   ]
  },
  {
   "cell_type": "code",
   "execution_count": 140,
   "metadata": {
    "collapsed": false,
    "scrolled": false
   },
   "outputs": [
    {
     "data": {
      "text/plain": [
       "50"
      ]
     },
     "execution_count": 140,
     "metadata": {},
     "output_type": "execute_result"
    }
   ],
   "source": [
    "len(top50_items)"
   ]
  },
  {
   "cell_type": "code",
   "execution_count": 141,
   "metadata": {
    "collapsed": false
   },
   "outputs": [
    {
     "data": {
      "text/plain": [
       "Index([u'Cameras - Digital; Cameras - Non-electronic (Camera supplies, lenses, projectors, etc.)',\n",
       "       u'Locks; Luggage (all types including footlockers)',\n",
       "       u'Clothing - Shoes, belts, accessories, etc.; Luggage (all types including footlockers)',\n",
       "       u'Clothing - Shoes, belts, accessories, etc.; Other',\n",
       "       u'Clothing - Shoes, belts, accessories, etc.; Cosmetics - Perfume, toilet articles, medicines, soaps, etc.',\n",
       "       u'Cameras - Digital; Other', u'Jewelry - Costume; Jewelry - Fine',\n",
       "       u'Cosmetics - Perfume, toilet articles, medicines, soaps, etc.; Other',\n",
       "       u'Computer - Laptop; Other',\n",
       "       u'Luggage (all types including footlockers); Other',\n",
       "       u'MP3 Players-(iPods, etc); Other', u'Locks; Other',\n",
       "       u'Bags - Fabric, plastic, etc. (not purses); Cosmetics - Perfume, toilet articles, medicines, soaps, etc.',\n",
       "       u'Cosmetics - Perfume, toilet articles, medicines, soaps, etc.; Luggage (all types including footlockers)',\n",
       "       u'Currency; Other',\n",
       "       u'Jewelry - Fine; Watches - Expensive more than $100',\n",
       "       u'Cameras - Digital; Computer - Laptop', u'Cell Phones; Other',\n",
       "       u'Clothing - Shoes, belts, accessories, etc.; Locks',\n",
       "       u'Jewelry - Fine; Other'],\n",
       "      dtype='object')"
      ]
     },
     "execution_count": 141,
     "metadata": {},
     "output_type": "execute_result"
    }
   ],
   "source": [
    "df12_final[df12_final.Item.str.contains(';')].Item.value_counts().head(20).index"
   ]
  },
  {
   "cell_type": "code",
   "execution_count": 142,
   "metadata": {
    "collapsed": false
   },
   "outputs": [
    {
     "data": {
      "text/html": [
       "<div>\n",
       "<table border=\"1\" class=\"dataframe\">\n",
       "  <thead>\n",
       "    <tr style=\"text-align: right;\">\n",
       "      <th></th>\n",
       "      <th>index</th>\n",
       "      <th>Item</th>\n",
       "    </tr>\n",
       "  </thead>\n",
       "  <tbody>\n",
       "    <tr>\n",
       "      <th>0</th>\n",
       "      <td>Cameras - Digital; Cameras - Non-electronic (C...</td>\n",
       "      <td>642</td>\n",
       "    </tr>\n",
       "    <tr>\n",
       "      <th>1</th>\n",
       "      <td>Locks; Luggage (all types including footlockers)</td>\n",
       "      <td>533</td>\n",
       "    </tr>\n",
       "    <tr>\n",
       "      <th>2</th>\n",
       "      <td>Clothing - Shoes, belts, accessories, etc.; Lu...</td>\n",
       "      <td>299</td>\n",
       "    </tr>\n",
       "    <tr>\n",
       "      <th>3</th>\n",
       "      <td>Clothing - Shoes, belts, accessories, etc.; Other</td>\n",
       "      <td>289</td>\n",
       "    </tr>\n",
       "    <tr>\n",
       "      <th>4</th>\n",
       "      <td>Clothing - Shoes, belts, accessories, etc.; Co...</td>\n",
       "      <td>273</td>\n",
       "    </tr>\n",
       "  </tbody>\n",
       "</table>\n",
       "</div>"
      ],
      "text/plain": [
       "                                               index  Item\n",
       "0  Cameras - Digital; Cameras - Non-electronic (C...   642\n",
       "1   Locks; Luggage (all types including footlockers)   533\n",
       "2  Clothing - Shoes, belts, accessories, etc.; Lu...   299\n",
       "3  Clothing - Shoes, belts, accessories, etc.; Other   289\n",
       "4  Clothing - Shoes, belts, accessories, etc.; Co...   273"
      ]
     },
     "execution_count": 142,
     "metadata": {},
     "output_type": "execute_result"
    }
   ],
   "source": [
    "df12_final[df12_final.Item.str.contains(';')]['Item'].value_counts().reset_index().head()"
   ]
  },
  {
   "cell_type": "code",
   "execution_count": 143,
   "metadata": {
    "collapsed": false
   },
   "outputs": [
    {
     "data": {
      "text/plain": [
       "93"
      ]
     },
     "execution_count": 143,
     "metadata": {},
     "output_type": "execute_result"
    }
   ],
   "source": [
    "df12_final[(~df12_final.Item.isin(top50_items)) & (~df12_final.Item.str.contains(';'))]\\\n",
    "                    .Item.value_counts().count()"
   ]
  },
  {
   "cell_type": "code",
   "execution_count": 144,
   "metadata": {
    "collapsed": false
   },
   "outputs": [
    {
     "data": {
      "text/plain": [
       "[u'Professional Equipment',\n",
       " u'Automobile Parts',\n",
       " u'Bicycles',\n",
       " u'Video Recordings (blank & commercial)',\n",
       " u'Ceramics - Animals, etc.',\n",
       " u'Firearms',\n",
       " u'Lighters - (cigar, cigerette, etc.)',\n",
       " u'Toys - Other (including games, toys, play dolls etc.)',\n",
       " u\"Electrical and Gas Appliances Minor - $200 or less (humidifiers, tv's, etc)\",\n",
       " u'Tools - Power (including air tools, not in a vehicle)',\n",
       " u'Books - Other (Hardcover non-fiction)',\n",
       " u'Knick Knacks (bric-a-bracks)',\n",
       " u'Books - Reference books, cookbooks, etc.',\n",
       " u'Audio - Other (Phonograph, cassettes, etc)',\n",
       " u'Clocks - Inexpensive ($75.00 or less)',\n",
       " u'Musical Instruments - Other - Over $100 - $250',\n",
       " u'Binoculars',\n",
       " u'Candles - Decorative and other',\n",
       " u'Hearing Aids',\n",
       " u\"Audio - CD's\"]"
      ]
     },
     "execution_count": 144,
     "metadata": {},
     "output_type": "execute_result"
    }
   ],
   "source": [
    "df12_final[(~df12_final.Item.isin(top50_items)) & (~df12_final.Item.str.contains(';'))]\\\n",
    "                    .Item.value_counts().head(20).index.tolist()"
   ]
  },
  {
   "cell_type": "code",
   "execution_count": 145,
   "metadata": {
    "collapsed": false
   },
   "outputs": [
    {
     "data": {
      "text/plain": [
       "93869"
      ]
     },
     "execution_count": 145,
     "metadata": {},
     "output_type": "execute_result"
    }
   ],
   "source": [
    "df12_final.Item.count()"
   ]
  },
  {
   "cell_type": "code",
   "execution_count": 146,
   "metadata": {
    "collapsed": false
   },
   "outputs": [
    {
     "data": {
      "text/plain": [
       "Cosmetics - Perfume, toilet articles, medicines, soaps, etc.; Luggage (all types including footlockers)    92\n",
       "Professional Equipment                                                                                     90\n",
       "Automobile Parts                                                                                           86\n",
       "Bicycles                                                                                                   83\n",
       "Currency; Other                                                                                            80\n",
       "Name: Item, dtype: int64"
      ]
     },
     "execution_count": 146,
     "metadata": {},
     "output_type": "execute_result"
    }
   ],
   "source": [
    "df12_final[~df12_final.Item.isin(top50_items)].Item.value_counts().head()"
   ]
  },
  {
   "cell_type": "code",
   "execution_count": 147,
   "metadata": {
    "collapsed": false
   },
   "outputs": [
    {
     "data": {
      "text/plain": [
       "[u'Cameras - Digital; Cameras - Non-electronic (Camera supplies, lenses, projectors, etc.)',\n",
       " u'Locks; Luggage (all types including footlockers)',\n",
       " u'Clothing - Shoes, belts, accessories, etc.; Luggage (all types including footlockers)',\n",
       " u'Clothing - Shoes, belts, accessories, etc.; Other',\n",
       " u'Clothing - Shoes, belts, accessories, etc.; Cosmetics - Perfume, toilet articles, medicines, soaps, etc.',\n",
       " u'Cameras - Digital; Other',\n",
       " u'Jewelry - Costume; Jewelry - Fine',\n",
       " u'Cosmetics - Perfume, toilet articles, medicines, soaps, etc.; Other',\n",
       " u'Computer - Laptop; Other',\n",
       " u'Luggage (all types including footlockers); Other',\n",
       " u'MP3 Players-(iPods, etc); Other',\n",
       " u'Locks; Other',\n",
       " u'Bags - Fabric, plastic, etc. (not purses); Cosmetics - Perfume, toilet articles, medicines, soaps, etc.']"
      ]
     },
     "execution_count": 147,
     "metadata": {},
     "output_type": "execute_result"
    }
   ],
   "source": [
    "matching = [s for s in top50_items if \";\" in s]\n",
    "matching"
   ]
  },
  {
   "cell_type": "code",
   "execution_count": 148,
   "metadata": {
    "collapsed": false
   },
   "outputs": [],
   "source": [
    "#df12_final = df12_final[df12_final.Item.isin(top50_items)]\n",
    "df12_final.loc[df12_final[~df12_final.Item.isin(top50_items)].index,'Item'] = 'Minor Categories'"
   ]
  },
  {
   "cell_type": "code",
   "execution_count": 149,
   "metadata": {
    "collapsed": false
   },
   "outputs": [
    {
     "data": {
      "text/plain": [
       "51"
      ]
     },
     "execution_count": 149,
     "metadata": {},
     "output_type": "execute_result"
    }
   ],
   "source": [
    "len(df12_final.Item.unique())"
   ]
  },
  {
   "cell_type": "code",
   "execution_count": 150,
   "metadata": {
    "collapsed": false
   },
   "outputs": [
    {
     "data": {
      "text/plain": [
       "51"
      ]
     },
     "execution_count": 150,
     "metadata": {},
     "output_type": "execute_result"
    }
   ],
   "source": [
    "df12_final.Item.value_counts().count()"
   ]
  },
  {
   "cell_type": "code",
   "execution_count": 151,
   "metadata": {
    "collapsed": false
   },
   "outputs": [
    {
     "data": {
      "text/plain": [
       "254"
      ]
     },
     "execution_count": 151,
     "metadata": {},
     "output_type": "execute_result"
    }
   ],
   "source": [
    "airport_values = df12_final.Airport_Code.value_counts()\n",
    "airport_values[airport_values > 9].count()"
   ]
  },
  {
   "cell_type": "code",
   "execution_count": 152,
   "metadata": {
    "collapsed": false
   },
   "outputs": [
    {
     "data": {
      "text/html": [
       "<div>\n",
       "<table border=\"1\" class=\"dataframe\">\n",
       "  <thead>\n",
       "    <tr style=\"text-align: right;\">\n",
       "      <th></th>\n",
       "      <th>Claim_Number</th>\n",
       "      <th>Date_Received</th>\n",
       "      <th>Incident_Date</th>\n",
       "      <th>Airport_Code</th>\n",
       "      <th>Airport_Name</th>\n",
       "      <th>Airline_Name</th>\n",
       "      <th>Claim_Type</th>\n",
       "      <th>Claim_Site</th>\n",
       "      <th>Item</th>\n",
       "      <th>Claim_Amount</th>\n",
       "      <th>Status</th>\n",
       "      <th>Close_Amount</th>\n",
       "      <th>Disposition</th>\n",
       "      <th>Days_Since_Incident</th>\n",
       "    </tr>\n",
       "  </thead>\n",
       "  <tbody>\n",
       "    <tr>\n",
       "      <th>21</th>\n",
       "      <td>16410</td>\n",
       "      <td>2002-07-24</td>\n",
       "      <td>2002-07-10</td>\n",
       "      <td>SDF</td>\n",
       "      <td>Louisville International</td>\n",
       "      <td>Delta Air Lines</td>\n",
       "      <td>Passenger Property Loss</td>\n",
       "      <td>Checkpoint</td>\n",
       "      <td>Luggage (all types including footlockers)</td>\n",
       "      <td>600.00</td>\n",
       "      <td>Settled</td>\n",
       "      <td>337.40</td>\n",
       "      <td>Settle</td>\n",
       "      <td>14.0</td>\n",
       "    </tr>\n",
       "    <tr>\n",
       "      <th>25</th>\n",
       "      <td>0702564M</td>\n",
       "      <td>2002-08-19</td>\n",
       "      <td>2002-06-22</td>\n",
       "      <td>BWI</td>\n",
       "      <td>Baltimore/Washington Intl Thurgood Marshall</td>\n",
       "      <td>America West</td>\n",
       "      <td>Property Damage</td>\n",
       "      <td>Checkpoint</td>\n",
       "      <td>Eyeglasses - (including contact lenses)</td>\n",
       "      <td>354.93</td>\n",
       "      <td>Settled</td>\n",
       "      <td>301.69</td>\n",
       "      <td>Settle</td>\n",
       "      <td>58.0</td>\n",
       "    </tr>\n",
       "    <tr>\n",
       "      <th>26</th>\n",
       "      <td>16759</td>\n",
       "      <td>2002-08-21</td>\n",
       "      <td>2002-07-12</td>\n",
       "      <td>BWI</td>\n",
       "      <td>Baltimore/Washington Intl Thurgood Marshall</td>\n",
       "      <td>Southwest Airlines</td>\n",
       "      <td>Passenger Property Loss</td>\n",
       "      <td>Checkpoint</td>\n",
       "      <td>Other</td>\n",
       "      <td>21.44</td>\n",
       "      <td>Approved</td>\n",
       "      <td>21.00</td>\n",
       "      <td>Approve in Full</td>\n",
       "      <td>40.0</td>\n",
       "    </tr>\n",
       "    <tr>\n",
       "      <th>30</th>\n",
       "      <td>17892</td>\n",
       "      <td>2002-09-09</td>\n",
       "      <td>2002-08-23</td>\n",
       "      <td>RDU</td>\n",
       "      <td>Raleigh-Durham International</td>\n",
       "      <td>USAir</td>\n",
       "      <td>Property Damage</td>\n",
       "      <td>Checkpoint</td>\n",
       "      <td>Luggage (all types including footlockers)</td>\n",
       "      <td>30.00</td>\n",
       "      <td>Approved</td>\n",
       "      <td>30.00</td>\n",
       "      <td>Approve in Full</td>\n",
       "      <td>17.0</td>\n",
       "    </tr>\n",
       "    <tr>\n",
       "      <th>45</th>\n",
       "      <td>18301</td>\n",
       "      <td>2002-09-18</td>\n",
       "      <td>2002-08-14</td>\n",
       "      <td>JFK</td>\n",
       "      <td>John F. Kennedy International</td>\n",
       "      <td>UAL</td>\n",
       "      <td>Passenger Property Loss</td>\n",
       "      <td>Checkpoint</td>\n",
       "      <td>Cell Phones</td>\n",
       "      <td>213.00</td>\n",
       "      <td>Settled</td>\n",
       "      <td>74.55</td>\n",
       "      <td>Settle</td>\n",
       "      <td>35.0</td>\n",
       "    </tr>\n",
       "  </tbody>\n",
       "</table>\n",
       "</div>"
      ],
      "text/plain": [
       "   Claim_Number Date_Received Incident_Date Airport_Code  \\\n",
       "21        16410    2002-07-24    2002-07-10          SDF   \n",
       "25     0702564M    2002-08-19    2002-06-22          BWI   \n",
       "26        16759    2002-08-21    2002-07-12          BWI   \n",
       "30        17892    2002-09-09    2002-08-23          RDU   \n",
       "45        18301    2002-09-18    2002-08-14          JFK   \n",
       "\n",
       "                                   Airport_Name        Airline_Name  \\\n",
       "21                     Louisville International     Delta Air Lines   \n",
       "25  Baltimore/Washington Intl Thurgood Marshall        America West   \n",
       "26  Baltimore/Washington Intl Thurgood Marshall  Southwest Airlines   \n",
       "30                 Raleigh-Durham International               USAir   \n",
       "45                John F. Kennedy International                 UAL   \n",
       "\n",
       "                 Claim_Type  Claim_Site  \\\n",
       "21  Passenger Property Loss  Checkpoint   \n",
       "25          Property Damage  Checkpoint   \n",
       "26  Passenger Property Loss  Checkpoint   \n",
       "30          Property Damage  Checkpoint   \n",
       "45  Passenger Property Loss  Checkpoint   \n",
       "\n",
       "                                         Item  Claim_Amount    Status  \\\n",
       "21  Luggage (all types including footlockers)        600.00   Settled   \n",
       "25    Eyeglasses - (including contact lenses)        354.93   Settled   \n",
       "26                                      Other         21.44  Approved   \n",
       "30  Luggage (all types including footlockers)         30.00  Approved   \n",
       "45                                Cell Phones        213.00   Settled   \n",
       "\n",
       "    Close_Amount      Disposition  Days_Since_Incident  \n",
       "21        337.40           Settle                 14.0  \n",
       "25        301.69           Settle                 58.0  \n",
       "26         21.00  Approve in Full                 40.0  \n",
       "30         30.00  Approve in Full                 17.0  \n",
       "45         74.55           Settle                 35.0  "
      ]
     },
     "execution_count": 152,
     "metadata": {},
     "output_type": "execute_result"
    }
   ],
   "source": [
    "df12_final.head()"
   ]
  },
  {
   "cell_type": "markdown",
   "metadata": {
    "collapsed": true
   },
   "source": [
    "# Feature Engineering Steps"
   ]
  },
  {
   "cell_type": "markdown",
   "metadata": {},
   "source": [
    "### Drop Non Feature Columns"
   ]
  },
  {
   "cell_type": "code",
   "execution_count": 153,
   "metadata": {
    "collapsed": false
   },
   "outputs": [],
   "source": [
    "# drop columns that are not features or are redundant\n",
    "def dropNonFeatures(df):\n",
    "    df.drop(['Claim_Number','Airport_Name','Status','Close_Amount'], axis=1, inplace=True)\n",
    "    return df"
   ]
  },
  {
   "cell_type": "markdown",
   "metadata": {},
   "source": [
    "### Convert Target Into Numeric Variable"
   ]
  },
  {
   "cell_type": "code",
   "execution_count": 154,
   "metadata": {
    "collapsed": true
   },
   "outputs": [],
   "source": [
    "def codeTarget(df):\n",
    "    targetDict = {'Deny':0, 'Settle': 1, 'Approve in Full': 2}\n",
    "    df['Disposition_Code'] = df['Disposition'].map(targetDict)\n",
    "    df.drop('Disposition', axis=1, inplace=True)\n",
    "    return df"
   ]
  },
  {
   "cell_type": "markdown",
   "metadata": {},
   "source": [
    "### One-hot-encode Categorical Variables"
   ]
  },
  {
   "cell_type": "code",
   "execution_count": 155,
   "metadata": {
    "collapsed": true
   },
   "outputs": [],
   "source": [
    "def one_hot_encode(df):\n",
    "    df = pd.get_dummies(df)\n",
    "    return df"
   ]
  },
  {
   "cell_type": "markdown",
   "metadata": {},
   "source": [
    "### First Order Feature Engineering"
   ]
  },
  {
   "cell_type": "code",
   "execution_count": 156,
   "metadata": {
    "collapsed": true
   },
   "outputs": [],
   "source": [
    "def first_order_feature_engineering(df):\n",
    "    df = dropNonFeatures(df)\n",
    "    df = codeTarget(df)\n",
    "    df = one_hot_encode(df)\n",
    "    return df"
   ]
  },
  {
   "cell_type": "markdown",
   "metadata": {},
   "source": [
    "### Second Order Feature Engineering"
   ]
  },
  {
   "cell_type": "code",
   "execution_count": 161,
   "metadata": {
    "collapsed": false
   },
   "outputs": [],
   "source": [
    "def second_order_feature_engineering(df):\n",
    "    df.drop(['Date_Received','Incident_Date'],axis=1,inplace=True)\n",
    "    return df"
   ]
  },
  {
   "cell_type": "code",
   "execution_count": 162,
   "metadata": {
    "collapsed": false
   },
   "outputs": [
    {
     "data": {
      "text/html": [
       "<div>\n",
       "<table border=\"1\" class=\"dataframe\">\n",
       "  <thead>\n",
       "    <tr style=\"text-align: right;\">\n",
       "      <th></th>\n",
       "      <th>Date_Received</th>\n",
       "      <th>Incident_Date</th>\n",
       "      <th>Claim_Amount</th>\n",
       "      <th>Days_Since_Incident</th>\n",
       "      <th>Disposition_Code</th>\n",
       "      <th>Airport_Code_ABE</th>\n",
       "      <th>Airport_Code_ABI</th>\n",
       "      <th>Airport_Code_ABQ</th>\n",
       "      <th>Airport_Code_ABR</th>\n",
       "      <th>Airport_Code_ABY</th>\n",
       "      <th>...</th>\n",
       "      <th>Item_Other</th>\n",
       "      <th>Item_PDA - Personal Data Assistants</th>\n",
       "      <th>Item_Paintings and Pictures (including frames, etchings, photos, etc)</th>\n",
       "      <th>Item_Photographic Film</th>\n",
       "      <th>Item_Sporting Equipment &amp; Supplies (footballs, parachutes, etc.)</th>\n",
       "      <th>Item_Stereo Items &amp; Accessories</th>\n",
       "      <th>Item_Tools - Manual (not in a vehicle)</th>\n",
       "      <th>Item_Toys (game systems, cartridges, radio controlled cars, etc.)</th>\n",
       "      <th>Item_Watches - Expensive more than $100</th>\n",
       "      <th>Item_Watches - Inexpensive $100 or less</th>\n",
       "    </tr>\n",
       "  </thead>\n",
       "  <tbody>\n",
       "    <tr>\n",
       "      <th>21</th>\n",
       "      <td>2002-07-24</td>\n",
       "      <td>2002-07-10</td>\n",
       "      <td>600.00</td>\n",
       "      <td>14.0</td>\n",
       "      <td>1</td>\n",
       "      <td>0</td>\n",
       "      <td>0</td>\n",
       "      <td>0</td>\n",
       "      <td>0</td>\n",
       "      <td>0</td>\n",
       "      <td>...</td>\n",
       "      <td>0</td>\n",
       "      <td>0</td>\n",
       "      <td>0</td>\n",
       "      <td>0</td>\n",
       "      <td>0</td>\n",
       "      <td>0</td>\n",
       "      <td>0</td>\n",
       "      <td>0</td>\n",
       "      <td>0</td>\n",
       "      <td>0</td>\n",
       "    </tr>\n",
       "    <tr>\n",
       "      <th>25</th>\n",
       "      <td>2002-08-19</td>\n",
       "      <td>2002-06-22</td>\n",
       "      <td>354.93</td>\n",
       "      <td>58.0</td>\n",
       "      <td>1</td>\n",
       "      <td>0</td>\n",
       "      <td>0</td>\n",
       "      <td>0</td>\n",
       "      <td>0</td>\n",
       "      <td>0</td>\n",
       "      <td>...</td>\n",
       "      <td>0</td>\n",
       "      <td>0</td>\n",
       "      <td>0</td>\n",
       "      <td>0</td>\n",
       "      <td>0</td>\n",
       "      <td>0</td>\n",
       "      <td>0</td>\n",
       "      <td>0</td>\n",
       "      <td>0</td>\n",
       "      <td>0</td>\n",
       "    </tr>\n",
       "    <tr>\n",
       "      <th>26</th>\n",
       "      <td>2002-08-21</td>\n",
       "      <td>2002-07-12</td>\n",
       "      <td>21.44</td>\n",
       "      <td>40.0</td>\n",
       "      <td>2</td>\n",
       "      <td>0</td>\n",
       "      <td>0</td>\n",
       "      <td>0</td>\n",
       "      <td>0</td>\n",
       "      <td>0</td>\n",
       "      <td>...</td>\n",
       "      <td>1</td>\n",
       "      <td>0</td>\n",
       "      <td>0</td>\n",
       "      <td>0</td>\n",
       "      <td>0</td>\n",
       "      <td>0</td>\n",
       "      <td>0</td>\n",
       "      <td>0</td>\n",
       "      <td>0</td>\n",
       "      <td>0</td>\n",
       "    </tr>\n",
       "    <tr>\n",
       "      <th>30</th>\n",
       "      <td>2002-09-09</td>\n",
       "      <td>2002-08-23</td>\n",
       "      <td>30.00</td>\n",
       "      <td>17.0</td>\n",
       "      <td>2</td>\n",
       "      <td>0</td>\n",
       "      <td>0</td>\n",
       "      <td>0</td>\n",
       "      <td>0</td>\n",
       "      <td>0</td>\n",
       "      <td>...</td>\n",
       "      <td>0</td>\n",
       "      <td>0</td>\n",
       "      <td>0</td>\n",
       "      <td>0</td>\n",
       "      <td>0</td>\n",
       "      <td>0</td>\n",
       "      <td>0</td>\n",
       "      <td>0</td>\n",
       "      <td>0</td>\n",
       "      <td>0</td>\n",
       "    </tr>\n",
       "    <tr>\n",
       "      <th>45</th>\n",
       "      <td>2002-09-18</td>\n",
       "      <td>2002-08-14</td>\n",
       "      <td>213.00</td>\n",
       "      <td>35.0</td>\n",
       "      <td>1</td>\n",
       "      <td>0</td>\n",
       "      <td>0</td>\n",
       "      <td>0</td>\n",
       "      <td>0</td>\n",
       "      <td>0</td>\n",
       "      <td>...</td>\n",
       "      <td>0</td>\n",
       "      <td>0</td>\n",
       "      <td>0</td>\n",
       "      <td>0</td>\n",
       "      <td>0</td>\n",
       "      <td>0</td>\n",
       "      <td>0</td>\n",
       "      <td>0</td>\n",
       "      <td>0</td>\n",
       "      <td>0</td>\n",
       "    </tr>\n",
       "  </tbody>\n",
       "</table>\n",
       "<p>5 rows × 661 columns</p>\n",
       "</div>"
      ],
      "text/plain": [
       "   Date_Received Incident_Date  Claim_Amount  Days_Since_Incident  \\\n",
       "21    2002-07-24    2002-07-10        600.00                 14.0   \n",
       "25    2002-08-19    2002-06-22        354.93                 58.0   \n",
       "26    2002-08-21    2002-07-12         21.44                 40.0   \n",
       "30    2002-09-09    2002-08-23         30.00                 17.0   \n",
       "45    2002-09-18    2002-08-14        213.00                 35.0   \n",
       "\n",
       "    Disposition_Code  Airport_Code_ABE  Airport_Code_ABI  Airport_Code_ABQ  \\\n",
       "21                 1                 0                 0                 0   \n",
       "25                 1                 0                 0                 0   \n",
       "26                 2                 0                 0                 0   \n",
       "30                 2                 0                 0                 0   \n",
       "45                 1                 0                 0                 0   \n",
       "\n",
       "    Airport_Code_ABR  Airport_Code_ABY  \\\n",
       "21                 0                 0   \n",
       "25                 0                 0   \n",
       "26                 0                 0   \n",
       "30                 0                 0   \n",
       "45                 0                 0   \n",
       "\n",
       "                     ...                     Item_Other  \\\n",
       "21                   ...                              0   \n",
       "25                   ...                              0   \n",
       "26                   ...                              1   \n",
       "30                   ...                              0   \n",
       "45                   ...                              0   \n",
       "\n",
       "    Item_PDA - Personal Data Assistants  \\\n",
       "21                                    0   \n",
       "25                                    0   \n",
       "26                                    0   \n",
       "30                                    0   \n",
       "45                                    0   \n",
       "\n",
       "    Item_Paintings and Pictures (including frames, etchings, photos, etc)  \\\n",
       "21                                                  0                       \n",
       "25                                                  0                       \n",
       "26                                                  0                       \n",
       "30                                                  0                       \n",
       "45                                                  0                       \n",
       "\n",
       "    Item_Photographic Film  \\\n",
       "21                       0   \n",
       "25                       0   \n",
       "26                       0   \n",
       "30                       0   \n",
       "45                       0   \n",
       "\n",
       "    Item_Sporting Equipment & Supplies (footballs, parachutes, etc.)  \\\n",
       "21                                                  0                  \n",
       "25                                                  0                  \n",
       "26                                                  0                  \n",
       "30                                                  0                  \n",
       "45                                                  0                  \n",
       "\n",
       "    Item_Stereo Items & Accessories  Item_Tools - Manual (not in a vehicle)  \\\n",
       "21                                0                                       0   \n",
       "25                                0                                       0   \n",
       "26                                0                                       0   \n",
       "30                                0                                       0   \n",
       "45                                0                                       0   \n",
       "\n",
       "    Item_Toys (game systems, cartridges, radio controlled cars, etc.)  \\\n",
       "21                                                  0                   \n",
       "25                                                  0                   \n",
       "26                                                  0                   \n",
       "30                                                  0                   \n",
       "45                                                  0                   \n",
       "\n",
       "    Item_Watches - Expensive more than $100  \\\n",
       "21                                        0   \n",
       "25                                        0   \n",
       "26                                        0   \n",
       "30                                        0   \n",
       "45                                        0   \n",
       "\n",
       "    Item_Watches - Inexpensive $100 or less  \n",
       "21                                        0  \n",
       "25                                        0  \n",
       "26                                        0  \n",
       "30                                        0  \n",
       "45                                        0  \n",
       "\n",
       "[5 rows x 661 columns]"
      ]
     },
     "execution_count": 162,
     "metadata": {},
     "output_type": "execute_result"
    }
   ],
   "source": [
    "df12_final.head()"
   ]
  },
  {
   "cell_type": "code",
   "execution_count": 163,
   "metadata": {
    "collapsed": false
   },
   "outputs": [],
   "source": [
    "df12_final = first_order_feature_engineering(df12_final)\n",
    "df12_final = second_order_feature_engineering(df12_final)"
   ]
  },
  {
   "cell_type": "code",
   "execution_count": 164,
   "metadata": {
    "collapsed": false
   },
   "outputs": [
    {
     "data": {
      "text/plain": [
       "93869"
      ]
     },
     "execution_count": 164,
     "metadata": {},
     "output_type": "execute_result"
    }
   ],
   "source": [
    "len(df12_final)"
   ]
  },
  {
   "cell_type": "code",
   "execution_count": 165,
   "metadata": {
    "collapsed": false
   },
   "outputs": [
    {
     "data": {
      "text/html": [
       "<div>\n",
       "<table border=\"1\" class=\"dataframe\">\n",
       "  <thead>\n",
       "    <tr style=\"text-align: right;\">\n",
       "      <th></th>\n",
       "      <th>Claim_Amount</th>\n",
       "      <th>Days_Since_Incident</th>\n",
       "      <th>Disposition_Code</th>\n",
       "      <th>Airport_Code_ABE</th>\n",
       "      <th>Airport_Code_ABI</th>\n",
       "      <th>Airport_Code_ABQ</th>\n",
       "      <th>Airport_Code_ABR</th>\n",
       "      <th>Airport_Code_ABY</th>\n",
       "      <th>Airport_Code_ACK</th>\n",
       "      <th>Airport_Code_ACT</th>\n",
       "      <th>...</th>\n",
       "      <th>Item_Other</th>\n",
       "      <th>Item_PDA - Personal Data Assistants</th>\n",
       "      <th>Item_Paintings and Pictures (including frames, etchings, photos, etc)</th>\n",
       "      <th>Item_Photographic Film</th>\n",
       "      <th>Item_Sporting Equipment &amp; Supplies (footballs, parachutes, etc.)</th>\n",
       "      <th>Item_Stereo Items &amp; Accessories</th>\n",
       "      <th>Item_Tools - Manual (not in a vehicle)</th>\n",
       "      <th>Item_Toys (game systems, cartridges, radio controlled cars, etc.)</th>\n",
       "      <th>Item_Watches - Expensive more than $100</th>\n",
       "      <th>Item_Watches - Inexpensive $100 or less</th>\n",
       "    </tr>\n",
       "  </thead>\n",
       "  <tbody>\n",
       "    <tr>\n",
       "      <th>21</th>\n",
       "      <td>600.00</td>\n",
       "      <td>14.0</td>\n",
       "      <td>1</td>\n",
       "      <td>0</td>\n",
       "      <td>0</td>\n",
       "      <td>0</td>\n",
       "      <td>0</td>\n",
       "      <td>0</td>\n",
       "      <td>0</td>\n",
       "      <td>0</td>\n",
       "      <td>...</td>\n",
       "      <td>0</td>\n",
       "      <td>0</td>\n",
       "      <td>0</td>\n",
       "      <td>0</td>\n",
       "      <td>0</td>\n",
       "      <td>0</td>\n",
       "      <td>0</td>\n",
       "      <td>0</td>\n",
       "      <td>0</td>\n",
       "      <td>0</td>\n",
       "    </tr>\n",
       "    <tr>\n",
       "      <th>25</th>\n",
       "      <td>354.93</td>\n",
       "      <td>58.0</td>\n",
       "      <td>1</td>\n",
       "      <td>0</td>\n",
       "      <td>0</td>\n",
       "      <td>0</td>\n",
       "      <td>0</td>\n",
       "      <td>0</td>\n",
       "      <td>0</td>\n",
       "      <td>0</td>\n",
       "      <td>...</td>\n",
       "      <td>0</td>\n",
       "      <td>0</td>\n",
       "      <td>0</td>\n",
       "      <td>0</td>\n",
       "      <td>0</td>\n",
       "      <td>0</td>\n",
       "      <td>0</td>\n",
       "      <td>0</td>\n",
       "      <td>0</td>\n",
       "      <td>0</td>\n",
       "    </tr>\n",
       "    <tr>\n",
       "      <th>26</th>\n",
       "      <td>21.44</td>\n",
       "      <td>40.0</td>\n",
       "      <td>2</td>\n",
       "      <td>0</td>\n",
       "      <td>0</td>\n",
       "      <td>0</td>\n",
       "      <td>0</td>\n",
       "      <td>0</td>\n",
       "      <td>0</td>\n",
       "      <td>0</td>\n",
       "      <td>...</td>\n",
       "      <td>1</td>\n",
       "      <td>0</td>\n",
       "      <td>0</td>\n",
       "      <td>0</td>\n",
       "      <td>0</td>\n",
       "      <td>0</td>\n",
       "      <td>0</td>\n",
       "      <td>0</td>\n",
       "      <td>0</td>\n",
       "      <td>0</td>\n",
       "    </tr>\n",
       "    <tr>\n",
       "      <th>30</th>\n",
       "      <td>30.00</td>\n",
       "      <td>17.0</td>\n",
       "      <td>2</td>\n",
       "      <td>0</td>\n",
       "      <td>0</td>\n",
       "      <td>0</td>\n",
       "      <td>0</td>\n",
       "      <td>0</td>\n",
       "      <td>0</td>\n",
       "      <td>0</td>\n",
       "      <td>...</td>\n",
       "      <td>0</td>\n",
       "      <td>0</td>\n",
       "      <td>0</td>\n",
       "      <td>0</td>\n",
       "      <td>0</td>\n",
       "      <td>0</td>\n",
       "      <td>0</td>\n",
       "      <td>0</td>\n",
       "      <td>0</td>\n",
       "      <td>0</td>\n",
       "    </tr>\n",
       "    <tr>\n",
       "      <th>45</th>\n",
       "      <td>213.00</td>\n",
       "      <td>35.0</td>\n",
       "      <td>1</td>\n",
       "      <td>0</td>\n",
       "      <td>0</td>\n",
       "      <td>0</td>\n",
       "      <td>0</td>\n",
       "      <td>0</td>\n",
       "      <td>0</td>\n",
       "      <td>0</td>\n",
       "      <td>...</td>\n",
       "      <td>0</td>\n",
       "      <td>0</td>\n",
       "      <td>0</td>\n",
       "      <td>0</td>\n",
       "      <td>0</td>\n",
       "      <td>0</td>\n",
       "      <td>0</td>\n",
       "      <td>0</td>\n",
       "      <td>0</td>\n",
       "      <td>0</td>\n",
       "    </tr>\n",
       "  </tbody>\n",
       "</table>\n",
       "<p>5 rows × 659 columns</p>\n",
       "</div>"
      ],
      "text/plain": [
       "    Claim_Amount  Days_Since_Incident  Disposition_Code  Airport_Code_ABE  \\\n",
       "21        600.00                 14.0                 1                 0   \n",
       "25        354.93                 58.0                 1                 0   \n",
       "26         21.44                 40.0                 2                 0   \n",
       "30         30.00                 17.0                 2                 0   \n",
       "45        213.00                 35.0                 1                 0   \n",
       "\n",
       "    Airport_Code_ABI  Airport_Code_ABQ  Airport_Code_ABR  Airport_Code_ABY  \\\n",
       "21                 0                 0                 0                 0   \n",
       "25                 0                 0                 0                 0   \n",
       "26                 0                 0                 0                 0   \n",
       "30                 0                 0                 0                 0   \n",
       "45                 0                 0                 0                 0   \n",
       "\n",
       "    Airport_Code_ACK  Airport_Code_ACT  \\\n",
       "21                 0                 0   \n",
       "25                 0                 0   \n",
       "26                 0                 0   \n",
       "30                 0                 0   \n",
       "45                 0                 0   \n",
       "\n",
       "                     ...                     Item_Other  \\\n",
       "21                   ...                              0   \n",
       "25                   ...                              0   \n",
       "26                   ...                              1   \n",
       "30                   ...                              0   \n",
       "45                   ...                              0   \n",
       "\n",
       "    Item_PDA - Personal Data Assistants  \\\n",
       "21                                    0   \n",
       "25                                    0   \n",
       "26                                    0   \n",
       "30                                    0   \n",
       "45                                    0   \n",
       "\n",
       "    Item_Paintings and Pictures (including frames, etchings, photos, etc)  \\\n",
       "21                                                  0                       \n",
       "25                                                  0                       \n",
       "26                                                  0                       \n",
       "30                                                  0                       \n",
       "45                                                  0                       \n",
       "\n",
       "    Item_Photographic Film  \\\n",
       "21                       0   \n",
       "25                       0   \n",
       "26                       0   \n",
       "30                       0   \n",
       "45                       0   \n",
       "\n",
       "    Item_Sporting Equipment & Supplies (footballs, parachutes, etc.)  \\\n",
       "21                                                  0                  \n",
       "25                                                  0                  \n",
       "26                                                  0                  \n",
       "30                                                  0                  \n",
       "45                                                  0                  \n",
       "\n",
       "    Item_Stereo Items & Accessories  Item_Tools - Manual (not in a vehicle)  \\\n",
       "21                                0                                       0   \n",
       "25                                0                                       0   \n",
       "26                                0                                       0   \n",
       "30                                0                                       0   \n",
       "45                                0                                       0   \n",
       "\n",
       "    Item_Toys (game systems, cartridges, radio controlled cars, etc.)  \\\n",
       "21                                                  0                   \n",
       "25                                                  0                   \n",
       "26                                                  0                   \n",
       "30                                                  0                   \n",
       "45                                                  0                   \n",
       "\n",
       "    Item_Watches - Expensive more than $100  \\\n",
       "21                                        0   \n",
       "25                                        0   \n",
       "26                                        0   \n",
       "30                                        0   \n",
       "45                                        0   \n",
       "\n",
       "    Item_Watches - Inexpensive $100 or less  \n",
       "21                                        0  \n",
       "25                                        0  \n",
       "26                                        0  \n",
       "30                                        0  \n",
       "45                                        0  \n",
       "\n",
       "[5 rows x 659 columns]"
      ]
     },
     "execution_count": 165,
     "metadata": {},
     "output_type": "execute_result"
    }
   ],
   "source": [
    "df12_final.head()"
   ]
  },
  {
   "cell_type": "code",
   "execution_count": 166,
   "metadata": {
    "collapsed": false
   },
   "outputs": [
    {
     "data": {
      "text/plain": [
       "array([[  6.00000000e+02,   1.40000000e+01,   1.00000000e+00, ...,\n",
       "          0.00000000e+00,   0.00000000e+00,   0.00000000e+00],\n",
       "       [  3.54930000e+02,   5.80000000e+01,   1.00000000e+00, ...,\n",
       "          0.00000000e+00,   0.00000000e+00,   0.00000000e+00],\n",
       "       [  2.14400000e+01,   4.00000000e+01,   2.00000000e+00, ...,\n",
       "          0.00000000e+00,   0.00000000e+00,   0.00000000e+00],\n",
       "       ..., \n",
       "       [  2.55000000e+01,   1.60000000e+01,   0.00000000e+00, ...,\n",
       "          0.00000000e+00,   0.00000000e+00,   0.00000000e+00],\n",
       "       [  2.00000000e+01,   1.45833333e+01,   0.00000000e+00, ...,\n",
       "          0.00000000e+00,   0.00000000e+00,   0.00000000e+00],\n",
       "       [  1.22895000e+03,   3.96111111e+01,   1.00000000e+00, ...,\n",
       "          0.00000000e+00,   0.00000000e+00,   0.00000000e+00]])"
      ]
     },
     "execution_count": 166,
     "metadata": {},
     "output_type": "execute_result"
    }
   ],
   "source": [
    "df12_final.values"
   ]
  },
  {
   "cell_type": "code",
   "execution_count": 167,
   "metadata": {
    "collapsed": true
   },
   "outputs": [],
   "source": [
    "arrayX = df12_final.drop('Disposition_Code',axis=1).values\n",
    "arrayY = df12_final['Disposition_Code'].values\n",
    "X = arrayX\n",
    "y = arrayY\n",
    "test_size = 0.30\n",
    "seed = 7\n",
    "X_train, X_test, y_train, y_test = cross_validation.train_test_split(X, y,\n",
    "    test_size=test_size, random_state=seed)"
   ]
  },
  {
   "cell_type": "code",
   "execution_count": 680,
   "metadata": {
    "collapsed": false
   },
   "outputs": [],
   "source": [
    "# X = df12_final.drop(['Disposition_Code','Date_Received','Incident_Date'], axis=1)\n",
    "# y = df12_final['Disposition_Code']\n",
    "# X_train, X_test, y_train, y_test = cross_validation.train_test_split(X, y,\n",
    "#     test_size=0.3, random_state=20)"
   ]
  },
  {
   "cell_type": "code",
   "execution_count": 168,
   "metadata": {
    "collapsed": false
   },
   "outputs": [
    {
     "ename": "AttributeError",
     "evalue": "'numpy.ndarray' object has no attribute 'columns'",
     "output_type": "error",
     "traceback": [
      "\u001b[0;31m---------------------------------------------------------------------------\u001b[0m",
      "\u001b[0;31mAttributeError\u001b[0m                            Traceback (most recent call last)",
      "\u001b[0;32m<ipython-input-168-fac7a3a69f41>\u001b[0m in \u001b[0;36m<module>\u001b[0;34m()\u001b[0m\n\u001b[0;32m----> 1\u001b[0;31m \u001b[0;32mprint\u001b[0m\u001b[0;34m(\u001b[0m\u001b[0mX_train\u001b[0m\u001b[0;34m.\u001b[0m\u001b[0mcolumns\u001b[0m\u001b[0;34m.\u001b[0m\u001b[0mdifference\u001b[0m\u001b[0;34m(\u001b[0m\u001b[0mX_test\u001b[0m\u001b[0;34m.\u001b[0m\u001b[0mcolumns\u001b[0m\u001b[0;34m)\u001b[0m\u001b[0;34m)\u001b[0m\u001b[0;34m\u001b[0m\u001b[0m\n\u001b[0m",
      "\u001b[0;31mAttributeError\u001b[0m: 'numpy.ndarray' object has no attribute 'columns'"
     ]
    }
   ],
   "source": [
    "# print(X_train.columns.difference(X_test.columns))"
   ]
  },
  {
   "cell_type": "code",
   "execution_count": 169,
   "metadata": {
    "collapsed": true
   },
   "outputs": [],
   "source": [
    "from sklearn.linear_model import Lasso, Ridge  \n",
    "from sklearn.ensemble import RandomForestClassifier\n",
    "from sklearn.tree import DecisionTreeClassifier\n",
    "from sklearn.svm import SVC\n",
    "from sklearn.model_selection import KFold\n",
    "from sklearn.model_selection import GridSearchCV\n",
    "from sklearn.ensemble import RandomForestClassifier\n",
    "from sklearn.neighbors import KNeighborsClassifier\n",
    "from sklearn.ensemble import GradientBoostingClassifier\n",
    "from sklearn.ensemble import AdaBoostClassifier\n",
    "from sklearn.ensemble import ExtraTreesClassifier\n",
    "from sklearn import cross_validation"
   ]
  },
  {
   "cell_type": "code",
   "execution_count": 174,
   "metadata": {
    "collapsed": true
   },
   "outputs": [],
   "source": [
    "# Test options and evaluation metric\n",
    "num_folds = 10\n",
    "num_instances = len(X_train) \n",
    "seed = 7\n",
    "scoring = 'accuracy'\n",
    "\n",
    "# Spot-Check Algorithms\n",
    "models = []\n",
    "models.append(('LR', LogisticRegression()))\n",
    "models.append(('LASSO', Lasso())) \n",
    "models.append(('Ridge', Ridge())) \n",
    "models.append(('LDA', LinearDiscriminantAnalysis()))\n",
    "models.append(('NB', GaussianNB()))\n",
    "models.append(('CART', DecisionTreeClassifier())) \n",
    "models.append(('KNeighborsClassifier', KNeighborsClassifier())) \n",
    "models.append(('XGBClassifier', xgb.XGBClassifier()))\n",
    "models.append(('GradientBoostingClassifier', GradientBoostingClassifier()))\n",
    "models.append(('AdaBoostClassifier', AdaBoostClassifier()))\n",
    "models.append(('RandomForestClassifier', RandomForestClassifier()))\n",
    "models.append(('ExtraTreesClassifier', ExtraTreesClassifier()))\n",
    "models.append(('SVC', SVC()))"
   ]
  },
  {
   "cell_type": "code",
   "execution_count": 175,
   "metadata": {
    "collapsed": false
   },
   "outputs": [
    {
     "data": {
      "text/plain": [
       "array([0, 0, 0, ..., 0, 0, 0])"
      ]
     },
     "execution_count": 175,
     "metadata": {},
     "output_type": "execute_result"
    }
   ],
   "source": [
    "logreg = LogisticRegression()\n",
    "logreg.fit(X_train,y_train)\n",
    "logreg.predict(X_test)"
   ]
  },
  {
   "cell_type": "code",
   "execution_count": 176,
   "metadata": {
    "collapsed": false
   },
   "outputs": [],
   "source": [
    "logreg = LogisticRegression()\n",
    "kfold = cross_validation.KFold(n=num_instances, n_folds=num_folds, random_state=seed)\n",
    "cv_results = cross_validation.cross_val_score(logreg, X_train, y_train, cv=kfold, scoring=scoring)"
   ]
  },
  {
   "cell_type": "code",
   "execution_count": null,
   "metadata": {
    "collapsed": true
   },
   "outputs": [],
   "source": []
  },
  {
   "cell_type": "code",
   "execution_count": null,
   "metadata": {
    "collapsed": false
   },
   "outputs": [
    {
     "name": "stdout",
     "output_type": "stream",
     "text": [
      "LR: 0.575744 (0.005789)\n"
     ]
    },
    {
     "name": "stderr",
     "output_type": "stream",
     "text": [
      "/Users/zohaib/anaconda/envs/py27_ds_dt_13/lib/python2.7/site-packages/sklearn/discriminant_analysis.py:455: UserWarning: The priors do not sum to 1. Renormalizing\n",
      "  UserWarning)\n",
      "/Users/zohaib/anaconda/envs/py27_ds_dt_13/lib/python2.7/site-packages/sklearn/discriminant_analysis.py:387: UserWarning: Variables are collinear.\n",
      "  warnings.warn(\"Variables are collinear.\")\n"
     ]
    }
   ],
   "source": [
    "from sklearn.linear_model import Lasso, Ridge  \n",
    "from sklearn.ensemble import RandomForestClassifier\n",
    "from sklearn.tree import DecisionTreeClassifier\n",
    "from sklearn.svm import SVC\n",
    "from sklearn.model_selection import KFold\n",
    "from sklearn.model_selection import GridSearchCV\n",
    "from sklearn.ensemble import RandomForestClassifier\n",
    "from sklearn.neighbors import KNeighborsClassifier\n",
    "from sklearn.ensemble import GradientBoostingClassifier\n",
    "from sklearn.ensemble import AdaBoostClassifier\n",
    "from sklearn.ensemble import ExtraTreesClassifier\n",
    "from sklearn import cross_validation\n",
    "\n",
    "# Test options and evaluation metric\n",
    "num_folds = 10\n",
    "num_instances = len(X_train) \n",
    "seed = 7\n",
    "scoring = 'accuracy'\n",
    "\n",
    "# Spot-Check Algorithms\n",
    "models = []\n",
    "models.append(('LR', LogisticRegression()))\n",
    "#models.append(('LASSO', Lasso())) \n",
    "#models.append(('Ridge', Ridge())) \n",
    "models.append(('LDA', LinearDiscriminantAnalysis()))\n",
    "models.append(('NB', GaussianNB()))\n",
    "models.append(('CART', DecisionTreeClassifier())) \n",
    "models.append(('KNeighborsClassifier', KNeighborsClassifier())) \n",
    "models.append(('XGBClassifier', xgb.XGBClassifier()))\n",
    "models.append(('GradientBoostingClassifier', GradientBoostingClassifier()))\n",
    "models.append(('AdaBoostClassifier', AdaBoostClassifier()))\n",
    "models.append(('RandomForestClassifier', RandomForestClassifier()))\n",
    "models.append(('ExtraTreesClassifier', ExtraTreesClassifier()))\n",
    "models.append(('SVC', SVC()))\n",
    "\n",
    "# evaluate each model in turn\n",
    "results = []\n",
    "names = []\n",
    "for name, model in models:\n",
    "    kfold = cross_validation.KFold(n=num_instances, n_folds=num_folds, random_state=seed)\n",
    "    cv_results = cross_validation.cross_val_score(model, X_train, y_train, cv=kfold,\n",
    "        scoring=scoring)\n",
    "    results.append(cv_results)\n",
    "    names.append(name)\n",
    "    model.fit(X_train, y_train)\n",
    "    predicted = model.predict(X_test)\n",
    "    msg = \"%s: %f (%f)\" % (name, cv_results.mean(), cv_results.std())\n",
    "    print(msg)"
   ]
  },
  {
   "cell_type": "code",
   "execution_count": null,
   "metadata": {
    "collapsed": true
   },
   "outputs": [],
   "source": []
  },
  {
   "cell_type": "code",
   "execution_count": null,
   "metadata": {
    "collapsed": true
   },
   "outputs": [],
   "source": []
  },
  {
   "cell_type": "code",
   "execution_count": null,
   "metadata": {
    "collapsed": true
   },
   "outputs": [],
   "source": []
  },
  {
   "cell_type": "code",
   "execution_count": null,
   "metadata": {
    "collapsed": true
   },
   "outputs": [],
   "source": []
  },
  {
   "cell_type": "code",
   "execution_count": 657,
   "metadata": {
    "collapsed": false
   },
   "outputs": [
    {
     "data": {
      "text/plain": [
       "661"
      ]
     },
     "execution_count": 657,
     "metadata": {},
     "output_type": "execute_result"
    }
   ],
   "source": [
    "# len(df12_final.columns)"
   ]
  },
  {
   "cell_type": "code",
   "execution_count": 500,
   "metadata": {
    "collapsed": false
   },
   "outputs": [
    {
     "data": {
      "text/plain": [
       "662"
      ]
     },
     "execution_count": 500,
     "metadata": {},
     "output_type": "execute_result"
    }
   ],
   "source": [
    "# len(pd.get_dummies(df12_final).columns.tolist())\n",
    "# pd.get_dummies(df12_final).columns.tolist()"
   ]
  },
  {
   "cell_type": "code",
   "execution_count": 494,
   "metadata": {
    "collapsed": false
   },
   "outputs": [
    {
     "data": {
      "text/plain": [
       "656"
      ]
     },
     "execution_count": 494,
     "metadata": {},
     "output_type": "execute_result"
    }
   ],
   "source": [
    "# len(df12_final.Airport_Code.unique()) + len(df12_final.Claim_Site.unique()) + len(df12_final.Airline_Name.unique())\\\n",
    "# + len(df12_final.Claim_Type.unique()) + len(df12_final.Item.unique())"
   ]
  },
  {
   "cell_type": "code",
   "execution_count": 659,
   "metadata": {
    "collapsed": false
   },
   "outputs": [
    {
     "data": {
      "text/plain": [
       "0    0.561410\n",
       "2    0.244415\n",
       "1    0.194175\n",
       "Name: Disposition_Code, dtype: float64"
      ]
     },
     "execution_count": 659,
     "metadata": {},
     "output_type": "execute_result"
    }
   ],
   "source": [
    "df12_final.Disposition_Code.value_counts(normalize=True)"
   ]
  },
  {
   "cell_type": "code",
   "execution_count": 490,
   "metadata": {
    "collapsed": false
   },
   "outputs": [
    {
     "data": {
      "text/plain": [
       "0    0.561410\n",
       "2    0.244415\n",
       "1    0.194175\n",
       "Name: Disposition_Code, dtype: float64"
      ]
     },
     "execution_count": 490,
     "metadata": {},
     "output_type": "execute_result"
    }
   ],
   "source": [
    "# df12_final = codeTarget(df12_final)\n",
    "# df12_final.Disposition_Code.value_counts(normalize=True)"
   ]
  },
  {
   "cell_type": "code",
   "execution_count": 388,
   "metadata": {
    "collapsed": false
   },
   "outputs": [],
   "source": [
    "# df12_final['Disposition'] = df12_final['Disposition'].astype('category')\n",
    "# df12_final['Disposition_Code'] = df12_final.Disposition.cat.codes\n",
    "# df12_final.dtypes"
   ]
  },
  {
   "cell_type": "code",
   "execution_count": 406,
   "metadata": {
    "collapsed": false
   },
   "outputs": [
    {
     "data": {
      "text/plain": [
       "Disposition\n",
       "Approve in Full    2\n",
       "Deny               0\n",
       "Settle             1\n",
       "Name: Disposition_Code, dtype: int64"
      ]
     },
     "execution_count": 406,
     "metadata": {},
     "output_type": "execute_result"
    }
   ],
   "source": [
    "# df12_final.groupby('Disposition').Disposition_Code.mean()"
   ]
  },
  {
   "cell_type": "code",
   "execution_count": 489,
   "metadata": {
    "collapsed": false
   },
   "outputs": [
    {
     "ename": "ValueError",
     "evalue": "labels ['Claim_Number' 'Airport_Name' 'Status'] not contained in axis",
     "output_type": "error",
     "traceback": [
      "\u001b[0;31m---------------------------------------------------------------------------\u001b[0m",
      "\u001b[0;31mValueError\u001b[0m                                Traceback (most recent call last)",
      "\u001b[0;32m<ipython-input-489-aa53be752848>\u001b[0m in \u001b[0;36m<module>\u001b[0;34m()\u001b[0m\n\u001b[0;32m----> 1\u001b[0;31m \u001b[0mdf12_final\u001b[0m \u001b[0;34m=\u001b[0m \u001b[0mdropNonFeatures\u001b[0m\u001b[0;34m(\u001b[0m\u001b[0mdf12_final\u001b[0m\u001b[0;34m)\u001b[0m\u001b[0;34m\u001b[0m\u001b[0m\n\u001b[0m\u001b[1;32m      2\u001b[0m \u001b[0mdf12_final\u001b[0m\u001b[0;34m.\u001b[0m\u001b[0mhead\u001b[0m\u001b[0;34m(\u001b[0m\u001b[0;34m)\u001b[0m\u001b[0;34m\u001b[0m\u001b[0m\n",
      "\u001b[0;32m<ipython-input-484-1b777bb24ab0>\u001b[0m in \u001b[0;36mdropNonFeatures\u001b[0;34m(df)\u001b[0m\n\u001b[1;32m      1\u001b[0m \u001b[0;31m# drop columns that are not features or are redundant\u001b[0m\u001b[0;34m\u001b[0m\u001b[0;34m\u001b[0m\u001b[0m\n\u001b[1;32m      2\u001b[0m \u001b[0;32mdef\u001b[0m \u001b[0mdropNonFeatures\u001b[0m\u001b[0;34m(\u001b[0m\u001b[0mdf\u001b[0m\u001b[0;34m)\u001b[0m\u001b[0;34m:\u001b[0m\u001b[0;34m\u001b[0m\u001b[0m\n\u001b[0;32m----> 3\u001b[0;31m     \u001b[0mdf\u001b[0m\u001b[0;34m.\u001b[0m\u001b[0mdrop\u001b[0m\u001b[0;34m(\u001b[0m\u001b[0;34m[\u001b[0m\u001b[0;34m'Claim_Number'\u001b[0m\u001b[0;34m,\u001b[0m\u001b[0;34m'Airport_Name'\u001b[0m\u001b[0;34m,\u001b[0m\u001b[0;34m'Status'\u001b[0m\u001b[0;34m]\u001b[0m\u001b[0;34m,\u001b[0m \u001b[0maxis\u001b[0m\u001b[0;34m=\u001b[0m\u001b[0;36m1\u001b[0m\u001b[0;34m,\u001b[0m \u001b[0minplace\u001b[0m\u001b[0;34m=\u001b[0m\u001b[0mTrue\u001b[0m\u001b[0;34m)\u001b[0m\u001b[0;34m\u001b[0m\u001b[0m\n\u001b[0m\u001b[1;32m      4\u001b[0m     \u001b[0;32mreturn\u001b[0m \u001b[0mdf\u001b[0m\u001b[0;34m\u001b[0m\u001b[0m\n",
      "\u001b[0;32m/Users/zohaib/anaconda/envs/py27_ds_dt_13/lib/python2.7/site-packages/pandas/core/generic.pyc\u001b[0m in \u001b[0;36mdrop\u001b[0;34m(self, labels, axis, level, inplace, errors)\u001b[0m\n\u001b[1;32m   1905\u001b[0m                 \u001b[0mnew_axis\u001b[0m \u001b[0;34m=\u001b[0m \u001b[0maxis\u001b[0m\u001b[0;34m.\u001b[0m\u001b[0mdrop\u001b[0m\u001b[0;34m(\u001b[0m\u001b[0mlabels\u001b[0m\u001b[0;34m,\u001b[0m \u001b[0mlevel\u001b[0m\u001b[0;34m=\u001b[0m\u001b[0mlevel\u001b[0m\u001b[0;34m,\u001b[0m \u001b[0merrors\u001b[0m\u001b[0;34m=\u001b[0m\u001b[0merrors\u001b[0m\u001b[0;34m)\u001b[0m\u001b[0;34m\u001b[0m\u001b[0m\n\u001b[1;32m   1906\u001b[0m             \u001b[0;32melse\u001b[0m\u001b[0;34m:\u001b[0m\u001b[0;34m\u001b[0m\u001b[0m\n\u001b[0;32m-> 1907\u001b[0;31m                 \u001b[0mnew_axis\u001b[0m \u001b[0;34m=\u001b[0m \u001b[0maxis\u001b[0m\u001b[0;34m.\u001b[0m\u001b[0mdrop\u001b[0m\u001b[0;34m(\u001b[0m\u001b[0mlabels\u001b[0m\u001b[0;34m,\u001b[0m \u001b[0merrors\u001b[0m\u001b[0;34m=\u001b[0m\u001b[0merrors\u001b[0m\u001b[0;34m)\u001b[0m\u001b[0;34m\u001b[0m\u001b[0m\n\u001b[0m\u001b[1;32m   1908\u001b[0m             \u001b[0mdropped\u001b[0m \u001b[0;34m=\u001b[0m \u001b[0mself\u001b[0m\u001b[0;34m.\u001b[0m\u001b[0mreindex\u001b[0m\u001b[0;34m(\u001b[0m\u001b[0;34m**\u001b[0m\u001b[0;34m{\u001b[0m\u001b[0maxis_name\u001b[0m\u001b[0;34m:\u001b[0m \u001b[0mnew_axis\u001b[0m\u001b[0;34m}\u001b[0m\u001b[0;34m)\u001b[0m\u001b[0;34m\u001b[0m\u001b[0m\n\u001b[1;32m   1909\u001b[0m             \u001b[0;32mtry\u001b[0m\u001b[0;34m:\u001b[0m\u001b[0;34m\u001b[0m\u001b[0m\n",
      "\u001b[0;32m/Users/zohaib/anaconda/envs/py27_ds_dt_13/lib/python2.7/site-packages/pandas/indexes/base.pyc\u001b[0m in \u001b[0;36mdrop\u001b[0;34m(self, labels, errors)\u001b[0m\n\u001b[1;32m   3260\u001b[0m             \u001b[0;32mif\u001b[0m \u001b[0merrors\u001b[0m \u001b[0;34m!=\u001b[0m \u001b[0;34m'ignore'\u001b[0m\u001b[0;34m:\u001b[0m\u001b[0;34m\u001b[0m\u001b[0m\n\u001b[1;32m   3261\u001b[0m                 raise ValueError('labels %s not contained in axis' %\n\u001b[0;32m-> 3262\u001b[0;31m                                  labels[mask])\n\u001b[0m\u001b[1;32m   3263\u001b[0m             \u001b[0mindexer\u001b[0m \u001b[0;34m=\u001b[0m \u001b[0mindexer\u001b[0m\u001b[0;34m[\u001b[0m\u001b[0;34m~\u001b[0m\u001b[0mmask\u001b[0m\u001b[0;34m]\u001b[0m\u001b[0;34m\u001b[0m\u001b[0m\n\u001b[1;32m   3264\u001b[0m         \u001b[0;32mreturn\u001b[0m \u001b[0mself\u001b[0m\u001b[0;34m.\u001b[0m\u001b[0mdelete\u001b[0m\u001b[0;34m(\u001b[0m\u001b[0mindexer\u001b[0m\u001b[0;34m)\u001b[0m\u001b[0;34m\u001b[0m\u001b[0m\n",
      "\u001b[0;31mValueError\u001b[0m: labels ['Claim_Number' 'Airport_Name' 'Status'] not contained in axis"
     ]
    }
   ],
   "source": [
    "# df12_final = dropNonFeatures(df12_final)\n",
    "# df12_final.head()"
   ]
  },
  {
   "cell_type": "code",
   "execution_count": null,
   "metadata": {
    "collapsed": true
   },
   "outputs": [],
   "source": []
  }
 ],
 "metadata": {
  "anaconda-cloud": {},
  "kernelspec": {
   "display_name": "Python [py27_ds_dt_13]",
   "language": "python",
   "name": "Python [py27_ds_dt_13]"
  },
  "language_info": {
   "codemirror_mode": {
    "name": "ipython",
    "version": 2
   },
   "file_extension": ".py",
   "mimetype": "text/x-python",
   "name": "python",
   "nbconvert_exporter": "python",
   "pygments_lexer": "ipython2",
   "version": "2.7.13"
  }
 },
 "nbformat": 4,
 "nbformat_minor": 0
}
