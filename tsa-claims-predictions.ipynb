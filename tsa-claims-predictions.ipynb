{
 "cells": [
  {
   "cell_type": "code",
   "execution_count": 2,
   "metadata": {
    "collapsed": true
   },
   "outputs": [],
   "source": [
    "import pandas as pd\n",
    "import numpy as np\n",
    "import os\n",
    "import matplotlib.pyplot as plt\n",
    "import seaborn as sns\n",
    "\n",
    "%matplotlib inline"
   ]
  },
  {
   "cell_type": "markdown",
   "metadata": {},
   "source": [
    "## Loading Datasets"
   ]
  },
  {
   "cell_type": "code",
   "execution_count": 3,
   "metadata": {
    "collapsed": false
   },
   "outputs": [
    {
     "name": "stdout",
     "output_type": "stream",
     "text": [
      "claims-2002-2006_0.xls                 claims-2014.xls\r\n",
      "claims-2007-2009_0.xls                 claims-data-2015-as-of-feb-9-2016.xlsx\r\n",
      "claims-2010-2013_0.xls\r\n"
     ]
    }
   ],
   "source": [
    "!ls \"datasets\""
   ]
  },
  {
   "cell_type": "code",
   "execution_count": 4,
   "metadata": {
    "collapsed": false
   },
   "outputs": [
    {
     "name": "stdout",
     "output_type": "stream",
     "text": [
      "PK\u0003\u0004\u0014\u0000\u0006\u0000\b\u0000\u0000\u0000!\u000071���\u0001\u0000\u0000�\u0005\u0000\u0000\u0013\u0000\b\u0002[Content_Types].xml �\u0004\u0002(�\u0000\u0002\u0000\u0000\u0000\u0000\u0000\u0000\u0000\u0000\u0000\u0000\u0000\u0000\u0000\u0000\u0000\u0000\u0000\u0000\u0000\u0000\u0000\u0000\u0000\u0000\u0000\u0000\u0000\u0000\u0000\u0000\u0000\u0000\u0000\u0000\u0000\u0000\u0000\u0000\u0000\u0000\u0000\u0000\u0000\u0000\u0000\u0000\u0000\u0000\u0000\u0000\u0000\u0000\u0000\u0000\u0000\u0000\u0000\u0000\u0000\u0000\u0000\u0000\u0000\u0000\u0000\u0000\u0000\u0000\u0000\u0000\u0000\u0000\u0000\u0000\u0000\u0000\u0000\u0000\u0000\u0000\u0000\u0000\u0000\u0000\u0000\u0000\u0000\u0000\u0000\u0000\u0000\u0000\u0000\u0000\u0000\u0000\u0000\u0000\u0000\u0000\u0000\u0000\u0000\u0000\u0000\u0000\u0000\u0000\u0000\u0000\u0000\u0000\u0000\u0000\u0000\u0000\u0000\u0000\u0000\u0000\u0000\u0000\u0000\u0000\u0000\u0000\u0000\u0000\u0000\u0000\u0000\u0000\u0000\u0000\u0000\u0000\u0000\u0000\u0000\u0000\u0000\u0000\u0000\u0000\u0000\u0000\u0000\u0000\u0000\u0000\u0000\u0000\u0000\u0000\u0000\u0000\u0000\u0000\u0000\u0000\u0000\u0000\u0000\u0000\u0000\u0000\u0000\u0000\u0000\u0000\u0000\u0000\u0000\u0000\u0000\u0000\u0000\u0000\u0000\u0000\u0000\u0000\u0000\u0000\u0000\u0000\u0000\u0000\u0000\u0000\u0000\u0000\u0000\u0000\u0000\u0000\u0000\u0000\u0000\u0000\u0000\u0000\u0000\u0000\u0000\u0000\u0000\u0000\u0000\u0000\u0000\u0000\u0000\u0000\u0000\u0000\u0000\u0000\u0000\u0000\u0000\u0000\u0000\u0000\u0000\u0000\u0000\u0000\u0000\u0000\u0000\u0000\u0000\u0000\u0000\u0000\u0000\u0000\u0000\u0000\u0000\u0000\u0000\u0000\u0000\u0000\u0000\u0000\u0000\u0000\u0000\u0000\u0000\u0000\u0000\u0000\u0000\u0000\u0000\u0000\u0000\u0000\u0000\u0000\u0000\u0000\u0000\u0000\u0000\u0000\u0000\u0000\u0000\u0000\u0000\u0000\u0000\u0000\u0000\u0000\u0000\u0000\u0000\u0000\u0000\u0000\u0000\u0000\u0000\u0000\u0000\u0000\u0000\u0000\u0000\u0000\u0000\u0000\u0000\u0000\u0000\u0000\u0000\u0000\u0000\u0000\u0000\u0000\u0000\u0000\u0000\u0000\u0000\u0000\u0000\u0000\u0000\u0000\u0000\u0000\u0000\u0000\u0000\u0000\u0000\u0000\u0000\u0000\u0000\u0000\u0000\u0000\u0000\u0000\u0000\u0000\u0000\u0000\u0000\u0000\u0000\u0000\u0000\u0000\u0000\u0000\u0000\u0000\u0000\u0000\u0000\u0000\u0000\u0000\u0000\u0000\u0000\u0000\u0000\u0000\u0000\u0000\u0000\u0000\u0000\u0000\u0000\u0000\u0000\u0000\u0000\u0000\u0000\u0000\u0000\u0000\u0000\u0000\u0000\u0000\u0000\u0000\u0000\u0000\u0000\u0000\u0000\u0000\u0000\u0000\u0000\u0000\u0000\u0000\u0000\u0000\u0000\u0000\u0000\u0000\u0000\u0000\u0000\u0000\u0000\u0000\u0000\u0000\u0000\u0000\u0000\u0000\u0000\u0000\u0000\u0000\u0000\u0000\u0000\u0000\u0000\u0000\u0000\u0000\u0000\u0000\u0000\u0000\u0000\u0000\u0000\u0000\u0000\u0000\u0000\u0000\u0000\u0000\u0000\u0000\u0000\u0000\u0000\u0000\u0000\u0000\u0000\u0000\u0000\u0000\u0000\u0000\u0000\u0000\u0000\u0000\u0000\u0000\u0000\u0000\u0000\u0000\u0000\u0000\u0000\u0000\u0000\u0000\u0000\u0000\u0000\u0000\u0000\u0000\u0000\u0000\u0000\u0000\u0000\u0000\u0000\u0000\u0000\u0000\u0000\u0000\u0000\u0000\u0000\u0000\u0000\u0000\u0000\u0000\u0000\u0000\u0000\u0000\u0000\u0000\u0000\u0000\u0000\u0000\u0000\u0000\u0000\u0000\u0000\u0000\u0000\u0000�TKo�0\f",
      "�O��r���\u000e�4Q8�qܐ`? 4�F�I\u0014\u001b\u0006�~nxhC@��ҨI�=\u001c",
      "۽����%\u00044�梛uD\u0002�p��Y.��\u001f�H��ժr\u0016r�\u0006\u0014���]o���\tG[�EI�_�Ģ�Za�<X>��P+��0�^\u0015s5\u0003���<��Y\u0002K)5\u0018��{��ZT���x{�db�H^7�\u001a�\\(�+S(b�ri�\u0001I�SS�vŢf�\f",
      "}\u0000��\u0004���|0�\u0018F@��Pȣ�\u0001*��t�*��(\f",
      "K�񁭟`hNN���}�s\u0004�!\u0019�@��f�rU�\u001f\u0017�\u0013���y�KS\u0013S���؝�3��2ʸto,��\u0017�[t\u0010�\u0018���^B�i!DZW�7v�\u0001mc.U\u0000=\"����\u0005��n�Aj�\u0019�q�>��[3����\u001e",
      "\u0006瑧F��_aעMt�\u0019\b\u0002\u0019�7�b�3�ȹ��`\u0010A3�4�#�2���/\u0000\u0000\u0000��\u0003\u0000PK\u0003\u0004\u0014\u0000\u0006\u0000\b\u0000\u0000\u0000!\u0000�U0#�\u0000\u0000\u0000L\u0002\u0000\u0000\u000b",
      "\u0000\b\u0002_rels/.rels �\u0004\u0002(�\u0000\u0002\u0000\u0000\u0000\u0000\u0000\u0000\u0000\u0000\u0000\u0000\u0000\u0000\u0000\u0000\u0000\u0000\u0000\u0000\u0000\u0000\u0000\u0000\u0000\u0000\u0000\u0000\u0000\u0000\u0000\u0000\u0000\u0000\u0000\u0000\u0000\u0000\u0000\u0000\u0000\u0000\u0000\u0000\u0000\u0000\u0000\u0000\u0000\u0000\u0000\u0000\u0000\u0000\u0000\u0000\u0000\u0000\u0000\u0000\u0000\u0000\u0000\u0000\u0000\u0000\u0000\u0000\u0000\u0000\u0000\u0000\u0000\u0000\u0000\u0000\u0000\u0000\u0000\u0000\u0000\u0000\u0000\u0000\u0000\u0000\u0000\u0000\u0000\u0000\u0000\u0000\u0000\u0000\u0000\u0000\u0000\u0000\u0000\u0000\u0000\u0000\u0000\u0000\u0000\u0000\u0000\u0000\u0000\u0000\u0000\u0000\u0000\u0000\u0000\u0000\u0000\u0000\u0000\u0000\u0000\u0000\u0000\u0000\u0000\u0000\u0000\u0000\u0000\u0000\u0000\u0000\u0000\u0000\u0000\u0000\u0000\u0000\u0000\u0000\u0000\u0000\u0000\u0000\u0000\u0000\u0000\u0000\u0000\u0000\u0000\u0000\u0000\u0000\u0000\u0000\u0000\u0000\u0000\u0000\u0000\u0000\u0000\u0000\u0000\u0000\u0000\u0000\u0000\u0000\u0000\u0000\u0000\u0000\u0000\u0000\u0000\u0000\u0000\u0000\u0000\u0000\u0000\u0000\u0000\u0000\u0000\u0000\u0000\u0000\u0000\u0000\u0000\u0000\u0000\u0000\u0000\u0000\u0000\u0000\u0000\u0000\u0000\u0000\u0000\u0000\u0000\u0000\u0000\u0000\u0000\u0000\u0000\u0000\u0000\u0000\u0000\u0000\u0000\u0000\u0000\u0000\u0000\u0000\u0000\u0000\u0000\u0000\u0000\u0000\u0000\u0000\u0000\u0000\u0000\u0000\u0000\u0000\u0000\u0000\u0000\u0000\u0000\u0000\u0000\u0000\u0000\u0000\u0000\u0000\u0000\u0000\u0000\u0000\u0000\u0000\u0000\u0000\u0000\u0000\u0000\u0000\u0000\u0000\u0000\u0000\u0000\u0000\u0000\u0000\u0000\u0000\u0000\u0000\u0000\u0000\u0000\u0000\u0000\u0000\u0000\u0000\u0000\u0000\u0000\u0000\u0000\u0000\u0000\u0000\u0000\u0000\u0000\u0000\u0000\u0000\u0000\u0000\u0000\u0000\u0000\u0000\u0000\u0000\u0000\u0000\u0000\u0000\u0000\u0000\u0000\u0000\u0000\u0000\u0000\u0000\u0000\u0000\u0000\u0000\u0000\u0000\u0000\u0000\u0000\u0000\u0000\u0000\u0000\u0000\u0000\u0000\u0000\u0000\u0000\u0000\u0000\u0000\u0000\u0000\u0000\u0000\u0000\u0000\u0000\u0000\u0000\u0000\u0000\u0000\u0000\u0000\u0000\u0000\u0000\u0000\u0000\u0000\u0000\u0000\u0000\u0000\u0000\u0000\u0000\u0000\u0000\u0000\u0000\u0000\u0000\u0000\u0000\u0000\u0000\u0000\u0000\u0000\u0000\u0000\u0000\u0000\u0000\u0000\u0000\u0000\u0000\u0000\u0000\u0000\u0000\u0000\u0000\u0000\u0000\u0000\u0000\u0000\u0000\u0000\u0000\u0000\u0000\u0000\u0000\u0000\u0000\u0000\u0000\u0000\u0000\u0000\u0000\u0000\u0000\u0000\u0000\u0000\u0000\u0000\u0000\u0000\u0000\u0000\u0000\u0000\u0000\u0000\u0000\u0000\u0000\u0000\u0000\u0000\u0000\u0000\u0000\u0000\u0000\u0000\u0000\u0000\u0000\u0000\u0000\u0000\u0000\u0000\u0000\u0000\u0000\u0000\u0000\u0000\u0000\u0000\u0000\u0000\u0000\u0000\u0000\u0000\u0000\u0000\u0000\u0000\u0000\u0000\u0000\u0000\u0000\u0000\u0000\u0000\u0000\u0000\u0000\u0000\u0000\u0000\u0000\u0000\u0000\u0000\u0000\u0000\u0000\u0000\u0000\u0000\u0000\u0000\u0000\u0000\u0000\u0000\u0000\u0000\u0000\u0000\u0000\u0000\u0000\u0000\u0000\u0000\u0000\u0000\u0000\u0000\u0000\u0000\u0000\u0000���N�0\f",
      "��H�C���nH\b���LH�!T\u001e",
      "�$�\u001f���$@���\u0003�Jc�����?[���iT\u001f\u001c",
      "b/Nú(A�3b{�jx��V\u000f�b\"gi\u0014�\u001a�\u001c",
      "aW��l_x���b������\u001a���#b4\u001d",
      "O\u0014\u000b",
      "��r��0Q�ahѓ\u0019�eܔ�=��\u001e",
      "P-<��j\b\u0007{\u0007�>�<���4Mox/�}b�N�@�\u0013;�v�Cf\u000b",
      "��ۨ�B�I�\u0015��\u0011��\"c\u0003�&�\\O���8q\"K��H��<ߊs@��.�h����<⧄�Md�a��\u000fT_\u0000\u0000\u0000��\u0003\u0000PK\u0003\u0004\u0014\u0000\u0006\u0000\b\u0000\u0000\u0000!\u0000�>���\u0000\u0000\u0000�\u0002\u0000\u0000\u001a\u0000\b\u0001xl/_rels/workbook.xml.rels �\u0004\u0001(�\u0000\u0001\u0000\u0000\u0000\u0000\u0000\u0000\u0000\u0000\u0000\u0000\u0000\u0000\u0000\u0000\u0000\u0000\u0000\u0000\u0000\u0000\u0000\u0000\u0000\u0000\u0000\u0000\u0000\u0000\u0000\u0000\u0000\u0000\u0000\u0000\u0000\u0000\u0000\u0000\u0000\u0000\u0000\u0000\u0000\u0000\u0000\u0000\u0000\u0000\u0000\u0000\u0000\u0000\u0000\u0000\u0000\u0000\u0000\u0000\u0000\u0000\u0000\u0000\u0000\u0000\u0000\u0000\u0000\u0000\u0000\u0000\u0000\u0000\u0000\u0000\u0000\u0000\u0000\u0000\u0000\u0000\u0000\u0000\u0000\u0000\u0000\u0000\u0000\u0000\u0000\u0000\u0000\u0000\u0000\u0000\u0000\u0000\u0000\u0000\u0000\u0000\u0000\u0000\u0000\u0000\u0000\u0000\u0000\u0000\u0000\u0000\u0000\u0000\u0000\u0000\u0000\u0000\u0000\u0000\u0000\u0000\u0000\u0000\u0000\u0000\u0000\u0000\u0000\u0000\u0000\u0000\u0000\u0000\u0000\u0000\u0000\u0000\u0000\u0000\u0000\u0000\u0000\u0000\u0000\u0000\u0000\u0000\u0000\u0000\u0000\u0000\u0000\u0000\u0000\u0000\u0000\u0000\u0000\u0000\u0000\u0000\u0000\u0000\u0000\u0000\u0000\u0000\u0000\u0000\u0000\u0000\u0000\u0000\u0000\u0000\u0000\u0000\u0000\u0000\u0000\u0000\u0000\u0000\u0000\u0000\u0000\u0000\u0000\u0000\u0000\u0000\u0000\u0000\u0000\u0000\u0000\u0000\u0000\u0000\u0000\u0000\u0000\u0000\u0000\u0000\u0000\u0000\u0000\u0000\u0000\u0000\u0000\u0000\u0000\u0000\u0000\u0000\u0000\u0000\u0000\u0000\u0000\u0000\u0000\u0000\u0000\u0000\u0000\u0000\u0000\u0000\u0000\u0000\u0000\u0000\u0000\u0000\u0000\u0000\u0000\u0000\u0000\u0000\u0000\u0000\u0000\u0000\u0000\u0000\u0000\u0000\u0000\u0000\u0000\u0000\u0000\u0000���J�0\u0010���\u0010�nӮ\"\"��E��j}��L��m\u00122㟾���ۅe��\u0012�f���2���k\u001c",
      "�\u0007&�WP\u0015%\b�&��w\r\n"
     ]
    }
   ],
   "source": [
    "!head -n1 \"datasets/claims-2002-2006_0.xls\""
   ]
  },
  {
   "cell_type": "code",
   "execution_count": 7,
   "metadata": {
    "collapsed": false
   },
   "outputs": [
    {
     "data": {
      "text/html": [
       "<div>\n",
       "<table border=\"1\" class=\"dataframe\">\n",
       "  <thead>\n",
       "    <tr style=\"text-align: right;\">\n",
       "      <th></th>\n",
       "      <th>Claim Number</th>\n",
       "      <th>Date Received</th>\n",
       "      <th>Incident Date</th>\n",
       "      <th>Airport Code</th>\n",
       "      <th>Airport Name</th>\n",
       "      <th>Airline Name</th>\n",
       "      <th>Claim Type</th>\n",
       "      <th>Claim Site</th>\n",
       "      <th>Item</th>\n",
       "      <th>Claim Amount</th>\n",
       "      <th>Status</th>\n",
       "      <th>Close Amount</th>\n",
       "      <th>Disposition</th>\n",
       "    </tr>\n",
       "  </thead>\n",
       "  <tbody>\n",
       "    <tr>\n",
       "      <th>0</th>\n",
       "      <td>0909802M</td>\n",
       "      <td>2002-01-04 00:00:00</td>\n",
       "      <td>2002-12-12 00:00:00</td>\n",
       "      <td>EWR</td>\n",
       "      <td>Newark International Airport</td>\n",
       "      <td>Continental Airlines</td>\n",
       "      <td>Property Damage</td>\n",
       "      <td>Checkpoint</td>\n",
       "      <td>Other</td>\n",
       "      <td>350.00</td>\n",
       "      <td>Approved</td>\n",
       "      <td>350.00</td>\n",
       "      <td>Approve in Full</td>\n",
       "    </tr>\n",
       "    <tr>\n",
       "      <th>1</th>\n",
       "      <td>0202417M</td>\n",
       "      <td>2002-02-02 00:00:00</td>\n",
       "      <td>2004-01-16 00:00:00</td>\n",
       "      <td>SEA</td>\n",
       "      <td>Seattle-Tacoma International</td>\n",
       "      <td>NaN</td>\n",
       "      <td>Property Damage</td>\n",
       "      <td>Checked Baggage</td>\n",
       "      <td>Luggage (all types including footlockers)</td>\n",
       "      <td>100.00</td>\n",
       "      <td>Settled</td>\n",
       "      <td>50.00</td>\n",
       "      <td>Settle</td>\n",
       "    </tr>\n",
       "    <tr>\n",
       "      <th>2</th>\n",
       "      <td>0202445M</td>\n",
       "      <td>2002-02-04 00:00:00</td>\n",
       "      <td>2003-11-26 00:00:00</td>\n",
       "      <td>STL</td>\n",
       "      <td>Lambert St. Louis International</td>\n",
       "      <td>American Airlines</td>\n",
       "      <td>Property Damage</td>\n",
       "      <td>Checked Baggage</td>\n",
       "      <td>Cell Phones</td>\n",
       "      <td>278.88</td>\n",
       "      <td>Settled</td>\n",
       "      <td>227.92</td>\n",
       "      <td>Settle</td>\n",
       "    </tr>\n",
       "    <tr>\n",
       "      <th>3</th>\n",
       "      <td>0909816M</td>\n",
       "      <td>2002-02-07 00:00:00</td>\n",
       "      <td>2003-01-06 00:00:00</td>\n",
       "      <td>MIA</td>\n",
       "      <td>Miami International Airport</td>\n",
       "      <td>American Airlines</td>\n",
       "      <td>Property Damage</td>\n",
       "      <td>Checkpoint</td>\n",
       "      <td>Luggage (all types including footlockers)</td>\n",
       "      <td>50.00</td>\n",
       "      <td>Approved</td>\n",
       "      <td>50.00</td>\n",
       "      <td>Approve in Full</td>\n",
       "    </tr>\n",
       "    <tr>\n",
       "      <th>4</th>\n",
       "      <td>2005032379513</td>\n",
       "      <td>2002-02-18 00:00:00</td>\n",
       "      <td>2005-02-05 00:00:00</td>\n",
       "      <td>MCO</td>\n",
       "      <td>Orlando International Airport</td>\n",
       "      <td>Delta (Song)</td>\n",
       "      <td>Property Damage</td>\n",
       "      <td>Checkpoint</td>\n",
       "      <td>Baby - Strollers, car seats, playpen, etc.</td>\n",
       "      <td>84.79</td>\n",
       "      <td>Approved</td>\n",
       "      <td>84.79</td>\n",
       "      <td>Approve in Full</td>\n",
       "    </tr>\n",
       "  </tbody>\n",
       "</table>\n",
       "</div>"
      ],
      "text/plain": [
       "    Claim Number        Date Received        Incident Date Airport Code  \\\n",
       "0       0909802M  2002-01-04 00:00:00  2002-12-12 00:00:00          EWR   \n",
       "1       0202417M  2002-02-02 00:00:00  2004-01-16 00:00:00          SEA   \n",
       "2       0202445M  2002-02-04 00:00:00  2003-11-26 00:00:00          STL   \n",
       "3       0909816M  2002-02-07 00:00:00  2003-01-06 00:00:00          MIA   \n",
       "4  2005032379513  2002-02-18 00:00:00  2005-02-05 00:00:00          MCO   \n",
       "\n",
       "                      Airport Name          Airline Name       Claim Type  \\\n",
       "0     Newark International Airport  Continental Airlines  Property Damage   \n",
       "1     Seattle-Tacoma International                   NaN  Property Damage   \n",
       "2  Lambert St. Louis International     American Airlines  Property Damage   \n",
       "3      Miami International Airport     American Airlines  Property Damage   \n",
       "4    Orlando International Airport          Delta (Song)  Property Damage   \n",
       "\n",
       "        Claim Site                                        Item  Claim Amount  \\\n",
       "0       Checkpoint                                       Other        350.00   \n",
       "1  Checked Baggage   Luggage (all types including footlockers)        100.00   \n",
       "2  Checked Baggage                                 Cell Phones        278.88   \n",
       "3       Checkpoint   Luggage (all types including footlockers)         50.00   \n",
       "4       Checkpoint  Baby - Strollers, car seats, playpen, etc.         84.79   \n",
       "\n",
       "     Status  Close Amount      Disposition  \n",
       "0  Approved        350.00  Approve in Full  \n",
       "1   Settled         50.00           Settle  \n",
       "2   Settled        227.92           Settle  \n",
       "3  Approved         50.00  Approve in Full  \n",
       "4  Approved         84.79  Approve in Full  "
      ]
     },
     "execution_count": 7,
     "metadata": {},
     "output_type": "execute_result"
    }
   ],
   "source": [
    "df1 = pd.read_excel('datasets/claims-2002-2006_0.xls')\n",
    "df1.head()"
   ]
  },
  {
   "cell_type": "code",
   "execution_count": 5,
   "metadata": {
    "collapsed": true
   },
   "outputs": [],
   "source": [
    "# UDF for adding underscore between column_names of two words or more\n",
    "def addUnderscore(current_columns):\n",
    "    new_columns = []\n",
    "    for item in current_columns:\n",
    "        segments = item.split()\n",
    "        new_columns.append('_'.join(segments))\n",
    "    return new_columns"
   ]
  },
  {
   "cell_type": "code",
   "execution_count": 6,
   "metadata": {
    "collapsed": false
   },
   "outputs": [
    {
     "data": {
      "text/plain": [
       "Index([u'Claim Number', u'Date Received', u'Incident Date', u'Airport Code',\n",
       "       u'Airport Name', u'Airline Name', u'Claim Type', u'Claim Site', u'Item',\n",
       "       u'Claim Amount', u'Status', u'Close Amount', u'Disposition'],\n",
       "      dtype='object')"
      ]
     },
     "execution_count": 6,
     "metadata": {},
     "output_type": "execute_result"
    }
   ],
   "source": [
    "df1.columns"
   ]
  },
  {
   "cell_type": "code",
   "execution_count": 7,
   "metadata": {
    "collapsed": false
   },
   "outputs": [],
   "source": [
    "new_columns = []\n",
    "for item in df1.columns.tolist():\n",
    "    segments = item.split()\n",
    "    new_columns.append('_'.join(segments))"
   ]
  },
  {
   "cell_type": "code",
   "execution_count": 8,
   "metadata": {
    "collapsed": false
   },
   "outputs": [
    {
     "data": {
      "text/plain": [
       "[u'Claim_Number',\n",
       " u'Date_Received',\n",
       " u'Incident_Date',\n",
       " u'Airport_Code',\n",
       " u'Airport_Name',\n",
       " u'Airline_Name',\n",
       " u'Claim_Type',\n",
       " u'Claim_Site',\n",
       " u'Item',\n",
       " u'Claim_Amount',\n",
       " u'Status',\n",
       " u'Close_Amount',\n",
       " u'Disposition']"
      ]
     },
     "execution_count": 8,
     "metadata": {},
     "output_type": "execute_result"
    }
   ],
   "source": [
    "new_columns"
   ]
  },
  {
   "cell_type": "code",
   "execution_count": 9,
   "metadata": {
    "collapsed": false
   },
   "outputs": [
    {
     "data": {
      "text/html": [
       "<div>\n",
       "<table border=\"1\" class=\"dataframe\">\n",
       "  <thead>\n",
       "    <tr style=\"text-align: right;\">\n",
       "      <th></th>\n",
       "      <th>Claim_Number</th>\n",
       "      <th>Date_Received</th>\n",
       "      <th>Incident_Date</th>\n",
       "      <th>Airport_Code</th>\n",
       "      <th>Airport_Name</th>\n",
       "      <th>Airline_Name</th>\n",
       "      <th>Claim_Type</th>\n",
       "      <th>Claim_Site</th>\n",
       "      <th>Item</th>\n",
       "      <th>Claim_Amount</th>\n",
       "      <th>Status</th>\n",
       "      <th>Close_Amount</th>\n",
       "      <th>Disposition</th>\n",
       "    </tr>\n",
       "  </thead>\n",
       "  <tbody>\n",
       "    <tr>\n",
       "      <th>0</th>\n",
       "      <td>0909802M</td>\n",
       "      <td>2002-01-04 00:00:00</td>\n",
       "      <td>2002-12-12 00:00:00</td>\n",
       "      <td>EWR</td>\n",
       "      <td>Newark International Airport</td>\n",
       "      <td>Continental Airlines</td>\n",
       "      <td>Property Damage</td>\n",
       "      <td>Checkpoint</td>\n",
       "      <td>Other</td>\n",
       "      <td>350.00</td>\n",
       "      <td>Approved</td>\n",
       "      <td>350.00</td>\n",
       "      <td>Approve in Full</td>\n",
       "    </tr>\n",
       "    <tr>\n",
       "      <th>1</th>\n",
       "      <td>0202417M</td>\n",
       "      <td>2002-02-02 00:00:00</td>\n",
       "      <td>2004-01-16 00:00:00</td>\n",
       "      <td>SEA</td>\n",
       "      <td>Seattle-Tacoma International</td>\n",
       "      <td>NaN</td>\n",
       "      <td>Property Damage</td>\n",
       "      <td>Checked Baggage</td>\n",
       "      <td>Luggage (all types including footlockers)</td>\n",
       "      <td>100.00</td>\n",
       "      <td>Settled</td>\n",
       "      <td>50.00</td>\n",
       "      <td>Settle</td>\n",
       "    </tr>\n",
       "    <tr>\n",
       "      <th>2</th>\n",
       "      <td>0202445M</td>\n",
       "      <td>2002-02-04 00:00:00</td>\n",
       "      <td>2003-11-26 00:00:00</td>\n",
       "      <td>STL</td>\n",
       "      <td>Lambert St. Louis International</td>\n",
       "      <td>American Airlines</td>\n",
       "      <td>Property Damage</td>\n",
       "      <td>Checked Baggage</td>\n",
       "      <td>Cell Phones</td>\n",
       "      <td>278.88</td>\n",
       "      <td>Settled</td>\n",
       "      <td>227.92</td>\n",
       "      <td>Settle</td>\n",
       "    </tr>\n",
       "    <tr>\n",
       "      <th>3</th>\n",
       "      <td>0909816M</td>\n",
       "      <td>2002-02-07 00:00:00</td>\n",
       "      <td>2003-01-06 00:00:00</td>\n",
       "      <td>MIA</td>\n",
       "      <td>Miami International Airport</td>\n",
       "      <td>American Airlines</td>\n",
       "      <td>Property Damage</td>\n",
       "      <td>Checkpoint</td>\n",
       "      <td>Luggage (all types including footlockers)</td>\n",
       "      <td>50.00</td>\n",
       "      <td>Approved</td>\n",
       "      <td>50.00</td>\n",
       "      <td>Approve in Full</td>\n",
       "    </tr>\n",
       "    <tr>\n",
       "      <th>4</th>\n",
       "      <td>2005032379513</td>\n",
       "      <td>2002-02-18 00:00:00</td>\n",
       "      <td>2005-02-05 00:00:00</td>\n",
       "      <td>MCO</td>\n",
       "      <td>Orlando International Airport</td>\n",
       "      <td>Delta (Song)</td>\n",
       "      <td>Property Damage</td>\n",
       "      <td>Checkpoint</td>\n",
       "      <td>Baby - Strollers, car seats, playpen, etc.</td>\n",
       "      <td>84.79</td>\n",
       "      <td>Approved</td>\n",
       "      <td>84.79</td>\n",
       "      <td>Approve in Full</td>\n",
       "    </tr>\n",
       "  </tbody>\n",
       "</table>\n",
       "</div>"
      ],
      "text/plain": [
       "    Claim_Number        Date_Received        Incident_Date Airport_Code  \\\n",
       "0       0909802M  2002-01-04 00:00:00  2002-12-12 00:00:00          EWR   \n",
       "1       0202417M  2002-02-02 00:00:00  2004-01-16 00:00:00          SEA   \n",
       "2       0202445M  2002-02-04 00:00:00  2003-11-26 00:00:00          STL   \n",
       "3       0909816M  2002-02-07 00:00:00  2003-01-06 00:00:00          MIA   \n",
       "4  2005032379513  2002-02-18 00:00:00  2005-02-05 00:00:00          MCO   \n",
       "\n",
       "                      Airport_Name          Airline_Name       Claim_Type  \\\n",
       "0     Newark International Airport  Continental Airlines  Property Damage   \n",
       "1     Seattle-Tacoma International                   NaN  Property Damage   \n",
       "2  Lambert St. Louis International     American Airlines  Property Damage   \n",
       "3      Miami International Airport     American Airlines  Property Damage   \n",
       "4    Orlando International Airport          Delta (Song)  Property Damage   \n",
       "\n",
       "        Claim_Site                                        Item  Claim_Amount  \\\n",
       "0       Checkpoint                                       Other        350.00   \n",
       "1  Checked Baggage   Luggage (all types including footlockers)        100.00   \n",
       "2  Checked Baggage                                 Cell Phones        278.88   \n",
       "3       Checkpoint   Luggage (all types including footlockers)         50.00   \n",
       "4       Checkpoint  Baby - Strollers, car seats, playpen, etc.         84.79   \n",
       "\n",
       "     Status  Close_Amount      Disposition  \n",
       "0  Approved        350.00  Approve in Full  \n",
       "1   Settled         50.00           Settle  \n",
       "2   Settled        227.92           Settle  \n",
       "3  Approved         50.00  Approve in Full  \n",
       "4  Approved         84.79  Approve in Full  "
      ]
     },
     "execution_count": 9,
     "metadata": {},
     "output_type": "execute_result"
    }
   ],
   "source": [
    "df1.rename(columns=dict(zip(df1.columns, addUnderscore(df1.columns.tolist()))), inplace=True)\n",
    "df1.head()"
   ]
  },
  {
   "cell_type": "code",
   "execution_count": 10,
   "metadata": {
    "collapsed": false
   },
   "outputs": [
    {
     "data": {
      "text/plain": [
       "RangeIndex(start=0, stop=97231, step=1)"
      ]
     },
     "execution_count": 10,
     "metadata": {},
     "output_type": "execute_result"
    }
   ],
   "source": [
    "df1.index"
   ]
  },
  {
   "cell_type": "code",
   "execution_count": 11,
   "metadata": {
    "collapsed": false
   },
   "outputs": [
    {
     "data": {
      "text/html": [
       "<div>\n",
       "<table border=\"1\" class=\"dataframe\">\n",
       "  <thead>\n",
       "    <tr style=\"text-align: right;\">\n",
       "      <th></th>\n",
       "      <th>Claim Number</th>\n",
       "      <th>Date Received</th>\n",
       "      <th>Incident Date</th>\n",
       "      <th>Airport Code</th>\n",
       "      <th>Airport Name</th>\n",
       "      <th>Airline Name</th>\n",
       "      <th>Claim Type</th>\n",
       "      <th>Claim Site</th>\n",
       "      <th>Item</th>\n",
       "      <th>Claim Amount</th>\n",
       "      <th>Status</th>\n",
       "      <th>Close Amount</th>\n",
       "      <th>Disposition</th>\n",
       "    </tr>\n",
       "  </thead>\n",
       "  <tbody>\n",
       "    <tr>\n",
       "      <th>0</th>\n",
       "      <td>2007010518383</td>\n",
       "      <td>2007-01-01</td>\n",
       "      <td>2006-11-25 00:00:00</td>\n",
       "      <td>PHX</td>\n",
       "      <td>Phoenix Sky Harbor International</td>\n",
       "      <td>Southwest Airlines</td>\n",
       "      <td>Passenger Property Loss</td>\n",
       "      <td>Checked Baggage</td>\n",
       "      <td>Automobile Parts; Other</td>\n",
       "      <td>319.73</td>\n",
       "      <td>Denied</td>\n",
       "      <td>0.0</td>\n",
       "      <td>Deny</td>\n",
       "    </tr>\n",
       "    <tr>\n",
       "      <th>1</th>\n",
       "      <td>2007020620282</td>\n",
       "      <td>2007-01-02</td>\n",
       "      <td>2007-01-02 00:00:00</td>\n",
       "      <td>RDU</td>\n",
       "      <td>Raleigh-Durham International</td>\n",
       "      <td>Delta Air Lines</td>\n",
       "      <td>Passenger Property Loss</td>\n",
       "      <td>Checkpoint</td>\n",
       "      <td>Watches - Expensive more than $100</td>\n",
       "      <td>1995.00</td>\n",
       "      <td>Denied</td>\n",
       "      <td>0.0</td>\n",
       "      <td>Deny</td>\n",
       "    </tr>\n",
       "    <tr>\n",
       "      <th>2</th>\n",
       "      <td>2007020620284</td>\n",
       "      <td>2007-01-02</td>\n",
       "      <td>2006-12-05 00:00:00</td>\n",
       "      <td>BOS</td>\n",
       "      <td>Boston (Logan) International Airport</td>\n",
       "      <td>Jet Blue</td>\n",
       "      <td>Passenger Property Loss</td>\n",
       "      <td>Checked Baggage</td>\n",
       "      <td>Computer - Laptop</td>\n",
       "      <td>850.00</td>\n",
       "      <td>Denied</td>\n",
       "      <td>0.0</td>\n",
       "      <td>Deny</td>\n",
       "    </tr>\n",
       "    <tr>\n",
       "      <th>3</th>\n",
       "      <td>2008010937576</td>\n",
       "      <td>2007-01-02</td>\n",
       "      <td>2007-12-04 00:00:00</td>\n",
       "      <td>SJC</td>\n",
       "      <td>Norman Y Mineta San Jose International</td>\n",
       "      <td>Continental Airlines</td>\n",
       "      <td>Passenger Property Loss</td>\n",
       "      <td>Checked Baggage</td>\n",
       "      <td>Eyeglasses - (including contact lenses)</td>\n",
       "      <td>350.00</td>\n",
       "      <td>Denied</td>\n",
       "      <td>0.0</td>\n",
       "      <td>Deny</td>\n",
       "    </tr>\n",
       "    <tr>\n",
       "      <th>4</th>\n",
       "      <td>2008010437392</td>\n",
       "      <td>2007-01-02</td>\n",
       "      <td>2007-12-22 00:00:00</td>\n",
       "      <td>LAS</td>\n",
       "      <td>McCarran International</td>\n",
       "      <td>Alaska Airlines</td>\n",
       "      <td>Property Damage</td>\n",
       "      <td>Checked Baggage</td>\n",
       "      <td>Luggage (all types including footlockers)</td>\n",
       "      <td>NaN</td>\n",
       "      <td>Insufficient, one of the following items requi...</td>\n",
       "      <td>NaN</td>\n",
       "      <td>NaN</td>\n",
       "    </tr>\n",
       "  </tbody>\n",
       "</table>\n",
       "</div>"
      ],
      "text/plain": [
       "    Claim Number Date Received        Incident Date Airport Code  \\\n",
       "0  2007010518383    2007-01-01  2006-11-25 00:00:00          PHX   \n",
       "1  2007020620282    2007-01-02  2007-01-02 00:00:00          RDU   \n",
       "2  2007020620284    2007-01-02  2006-12-05 00:00:00          BOS   \n",
       "3  2008010937576    2007-01-02  2007-12-04 00:00:00          SJC   \n",
       "4  2008010437392    2007-01-02  2007-12-22 00:00:00          LAS   \n",
       "\n",
       "                             Airport Name          Airline Name  \\\n",
       "0        Phoenix Sky Harbor International    Southwest Airlines   \n",
       "1            Raleigh-Durham International       Delta Air Lines   \n",
       "2    Boston (Logan) International Airport              Jet Blue   \n",
       "3  Norman Y Mineta San Jose International  Continental Airlines   \n",
       "4                  McCarran International       Alaska Airlines   \n",
       "\n",
       "                Claim Type       Claim Site  \\\n",
       "0  Passenger Property Loss  Checked Baggage   \n",
       "1  Passenger Property Loss       Checkpoint   \n",
       "2  Passenger Property Loss  Checked Baggage   \n",
       "3  Passenger Property Loss  Checked Baggage   \n",
       "4          Property Damage  Checked Baggage   \n",
       "\n",
       "                                        Item  Claim Amount  \\\n",
       "0                    Automobile Parts; Other        319.73   \n",
       "1         Watches - Expensive more than $100       1995.00   \n",
       "2                          Computer - Laptop        850.00   \n",
       "3    Eyeglasses - (including contact lenses)        350.00   \n",
       "4  Luggage (all types including footlockers)           NaN   \n",
       "\n",
       "                                              Status  Close Amount Disposition  \n",
       "0                                             Denied           0.0        Deny  \n",
       "1                                             Denied           0.0        Deny  \n",
       "2                                             Denied           0.0        Deny  \n",
       "3                                             Denied           0.0        Deny  \n",
       "4  Insufficient, one of the following items requi...           NaN         NaN  "
      ]
     },
     "execution_count": 11,
     "metadata": {},
     "output_type": "execute_result"
    }
   ],
   "source": [
    "df2 = pd.read_excel('datasets/claims-2007-2009_0.xls')\n",
    "df2.head()"
   ]
  },
  {
   "cell_type": "code",
   "execution_count": 12,
   "metadata": {
    "collapsed": false
   },
   "outputs": [
    {
     "data": {
      "text/plain": [
       "[u'Claim Number',\n",
       " u'Date Received',\n",
       " u'Incident Date',\n",
       " u'Airport Code',\n",
       " u'Airport Name',\n",
       " u'Airline Name',\n",
       " u'Claim Type',\n",
       " u'Claim Site',\n",
       " u'Item',\n",
       " u'Claim Amount',\n",
       " u'Status',\n",
       " u'Close Amount',\n",
       " u'Disposition']"
      ]
     },
     "execution_count": 12,
     "metadata": {},
     "output_type": "execute_result"
    }
   ],
   "source": [
    "df2.columns.tolist()"
   ]
  },
  {
   "cell_type": "code",
   "execution_count": 13,
   "metadata": {
    "collapsed": false
   },
   "outputs": [
    {
     "data": {
      "text/html": [
       "<div>\n",
       "<table border=\"1\" class=\"dataframe\">\n",
       "  <thead>\n",
       "    <tr style=\"text-align: right;\">\n",
       "      <th></th>\n",
       "      <th>Claim_Number</th>\n",
       "      <th>Date_Received</th>\n",
       "      <th>Incident_Date</th>\n",
       "      <th>Airport_Code</th>\n",
       "      <th>Airport_Name</th>\n",
       "      <th>Airline_Name</th>\n",
       "      <th>Claim_Type</th>\n",
       "      <th>Claim_Site</th>\n",
       "      <th>Item</th>\n",
       "      <th>Claim_Amount</th>\n",
       "      <th>Status</th>\n",
       "      <th>Close_Amount</th>\n",
       "      <th>Disposition</th>\n",
       "    </tr>\n",
       "  </thead>\n",
       "  <tbody>\n",
       "    <tr>\n",
       "      <th>0</th>\n",
       "      <td>2007010518383</td>\n",
       "      <td>2007-01-01</td>\n",
       "      <td>2006-11-25 00:00:00</td>\n",
       "      <td>PHX</td>\n",
       "      <td>Phoenix Sky Harbor International</td>\n",
       "      <td>Southwest Airlines</td>\n",
       "      <td>Passenger Property Loss</td>\n",
       "      <td>Checked Baggage</td>\n",
       "      <td>Automobile Parts; Other</td>\n",
       "      <td>319.73</td>\n",
       "      <td>Denied</td>\n",
       "      <td>0.0</td>\n",
       "      <td>Deny</td>\n",
       "    </tr>\n",
       "    <tr>\n",
       "      <th>1</th>\n",
       "      <td>2007020620282</td>\n",
       "      <td>2007-01-02</td>\n",
       "      <td>2007-01-02 00:00:00</td>\n",
       "      <td>RDU</td>\n",
       "      <td>Raleigh-Durham International</td>\n",
       "      <td>Delta Air Lines</td>\n",
       "      <td>Passenger Property Loss</td>\n",
       "      <td>Checkpoint</td>\n",
       "      <td>Watches - Expensive more than $100</td>\n",
       "      <td>1995.00</td>\n",
       "      <td>Denied</td>\n",
       "      <td>0.0</td>\n",
       "      <td>Deny</td>\n",
       "    </tr>\n",
       "    <tr>\n",
       "      <th>2</th>\n",
       "      <td>2007020620284</td>\n",
       "      <td>2007-01-02</td>\n",
       "      <td>2006-12-05 00:00:00</td>\n",
       "      <td>BOS</td>\n",
       "      <td>Boston (Logan) International Airport</td>\n",
       "      <td>Jet Blue</td>\n",
       "      <td>Passenger Property Loss</td>\n",
       "      <td>Checked Baggage</td>\n",
       "      <td>Computer - Laptop</td>\n",
       "      <td>850.00</td>\n",
       "      <td>Denied</td>\n",
       "      <td>0.0</td>\n",
       "      <td>Deny</td>\n",
       "    </tr>\n",
       "    <tr>\n",
       "      <th>3</th>\n",
       "      <td>2008010937576</td>\n",
       "      <td>2007-01-02</td>\n",
       "      <td>2007-12-04 00:00:00</td>\n",
       "      <td>SJC</td>\n",
       "      <td>Norman Y Mineta San Jose International</td>\n",
       "      <td>Continental Airlines</td>\n",
       "      <td>Passenger Property Loss</td>\n",
       "      <td>Checked Baggage</td>\n",
       "      <td>Eyeglasses - (including contact lenses)</td>\n",
       "      <td>350.00</td>\n",
       "      <td>Denied</td>\n",
       "      <td>0.0</td>\n",
       "      <td>Deny</td>\n",
       "    </tr>\n",
       "    <tr>\n",
       "      <th>4</th>\n",
       "      <td>2008010437392</td>\n",
       "      <td>2007-01-02</td>\n",
       "      <td>2007-12-22 00:00:00</td>\n",
       "      <td>LAS</td>\n",
       "      <td>McCarran International</td>\n",
       "      <td>Alaska Airlines</td>\n",
       "      <td>Property Damage</td>\n",
       "      <td>Checked Baggage</td>\n",
       "      <td>Luggage (all types including footlockers)</td>\n",
       "      <td>NaN</td>\n",
       "      <td>Insufficient, one of the following items requi...</td>\n",
       "      <td>NaN</td>\n",
       "      <td>NaN</td>\n",
       "    </tr>\n",
       "  </tbody>\n",
       "</table>\n",
       "</div>"
      ],
      "text/plain": [
       "    Claim_Number Date_Received        Incident_Date Airport_Code  \\\n",
       "0  2007010518383    2007-01-01  2006-11-25 00:00:00          PHX   \n",
       "1  2007020620282    2007-01-02  2007-01-02 00:00:00          RDU   \n",
       "2  2007020620284    2007-01-02  2006-12-05 00:00:00          BOS   \n",
       "3  2008010937576    2007-01-02  2007-12-04 00:00:00          SJC   \n",
       "4  2008010437392    2007-01-02  2007-12-22 00:00:00          LAS   \n",
       "\n",
       "                             Airport_Name          Airline_Name  \\\n",
       "0        Phoenix Sky Harbor International    Southwest Airlines   \n",
       "1            Raleigh-Durham International       Delta Air Lines   \n",
       "2    Boston (Logan) International Airport              Jet Blue   \n",
       "3  Norman Y Mineta San Jose International  Continental Airlines   \n",
       "4                  McCarran International       Alaska Airlines   \n",
       "\n",
       "                Claim_Type       Claim_Site  \\\n",
       "0  Passenger Property Loss  Checked Baggage   \n",
       "1  Passenger Property Loss       Checkpoint   \n",
       "2  Passenger Property Loss  Checked Baggage   \n",
       "3  Passenger Property Loss  Checked Baggage   \n",
       "4          Property Damage  Checked Baggage   \n",
       "\n",
       "                                        Item  Claim_Amount  \\\n",
       "0                    Automobile Parts; Other        319.73   \n",
       "1         Watches - Expensive more than $100       1995.00   \n",
       "2                          Computer - Laptop        850.00   \n",
       "3    Eyeglasses - (including contact lenses)        350.00   \n",
       "4  Luggage (all types including footlockers)           NaN   \n",
       "\n",
       "                                              Status  Close_Amount Disposition  \n",
       "0                                             Denied           0.0        Deny  \n",
       "1                                             Denied           0.0        Deny  \n",
       "2                                             Denied           0.0        Deny  \n",
       "3                                             Denied           0.0        Deny  \n",
       "4  Insufficient, one of the following items requi...           NaN         NaN  "
      ]
     },
     "execution_count": 13,
     "metadata": {},
     "output_type": "execute_result"
    }
   ],
   "source": [
    "df2.rename(columns=dict(zip(df2.columns.tolist(),addUnderscore(df2.columns.tolist()))), inplace=True)\n",
    "df2.head()"
   ]
  },
  {
   "cell_type": "code",
   "execution_count": 14,
   "metadata": {
    "collapsed": false
   },
   "outputs": [
    {
     "data": {
      "text/plain": [
       "RangeIndex(start=0, stop=47912, step=1)"
      ]
     },
     "execution_count": 14,
     "metadata": {},
     "output_type": "execute_result"
    }
   ],
   "source": [
    "df2.index"
   ]
  },
  {
   "cell_type": "code",
   "execution_count": 15,
   "metadata": {
    "collapsed": false
   },
   "outputs": [
    {
     "data": {
      "text/plain": [
       "Index([u'Claim_Number', u'Date_Received', u'Incident_Date', u'Airport_Code',\n",
       "       u'Airport_Name', u'Airline_Name', u'Claim_Type', u'Claim_Site', u'Item',\n",
       "       u'Claim_Amount', u'Status', u'Close_Amount', u'Disposition'],\n",
       "      dtype='object')"
      ]
     },
     "execution_count": 15,
     "metadata": {},
     "output_type": "execute_result"
    }
   ],
   "source": [
    "df2.columns"
   ]
  },
  {
   "cell_type": "code",
   "execution_count": 18,
   "metadata": {
    "collapsed": false
   },
   "outputs": [
    {
     "data": {
      "text/plain": [
       "Index([], dtype='object')"
      ]
     },
     "execution_count": 18,
     "metadata": {},
     "output_type": "execute_result"
    }
   ],
   "source": [
    "df2.columns.difference(df1.columns)"
   ]
  },
  {
   "cell_type": "code",
   "execution_count": 19,
   "metadata": {
    "collapsed": false
   },
   "outputs": [
    {
     "name": "stdout",
     "output_type": "stream",
     "text": [
      "claims-2002-2006_0.xls                 claims-2014.xls\r\n",
      "claims-2007-2009_0.xls                 claims-data-2015-as-of-feb-9-2016.xlsx\r\n",
      "claims-2010-2013_0.xls\r\n"
     ]
    }
   ],
   "source": [
    "!ls \"datasets\""
   ]
  },
  {
   "cell_type": "code",
   "execution_count": 20,
   "metadata": {
    "collapsed": false
   },
   "outputs": [
    {
     "data": {
      "text/html": [
       "<div>\n",
       "<table border=\"1\" class=\"dataframe\">\n",
       "  <thead>\n",
       "    <tr style=\"text-align: right;\">\n",
       "      <th></th>\n",
       "      <th>Claim Number</th>\n",
       "      <th>Date Received</th>\n",
       "      <th>Incident Date</th>\n",
       "      <th>Airport Code</th>\n",
       "      <th>Airport Name</th>\n",
       "      <th>Airline Name</th>\n",
       "      <th>Claim Type</th>\n",
       "      <th>Claim Site</th>\n",
       "      <th>Item Category</th>\n",
       "      <th>Close Amount</th>\n",
       "      <th>Disposition</th>\n",
       "    </tr>\n",
       "  </thead>\n",
       "  <tbody>\n",
       "    <tr>\n",
       "      <th>0</th>\n",
       "      <td>2010010567154</td>\n",
       "      <td>2010-01-04</td>\n",
       "      <td>2010-01-03 14:30:00</td>\n",
       "      <td>SLC</td>\n",
       "      <td>Salt Lake City International Airport</td>\n",
       "      <td>Delta Air Lines</td>\n",
       "      <td>Property Damage</td>\n",
       "      <td>Checked Baggage</td>\n",
       "      <td>Cosmetics &amp; Grooming</td>\n",
       "      <td>0</td>\n",
       "      <td>Deny</td>\n",
       "    </tr>\n",
       "    <tr>\n",
       "      <th>1</th>\n",
       "      <td>2010010567158</td>\n",
       "      <td>2010-01-04</td>\n",
       "      <td>2010-01-02 00:00:00</td>\n",
       "      <td>LAX</td>\n",
       "      <td>Los Angeles International Airport</td>\n",
       "      <td>Southwest Airlines</td>\n",
       "      <td>Passenger Property Loss</td>\n",
       "      <td>Checked Baggage</td>\n",
       "      <td>Other</td>\n",
       "      <td>0</td>\n",
       "      <td>Deny</td>\n",
       "    </tr>\n",
       "    <tr>\n",
       "      <th>2</th>\n",
       "      <td>2010010567173</td>\n",
       "      <td>2010-01-04</td>\n",
       "      <td>2010-01-02 05:00:00</td>\n",
       "      <td>SEA</td>\n",
       "      <td>Seattle-Tacoma International</td>\n",
       "      <td>Delta Air Lines</td>\n",
       "      <td>Passenger Property Loss</td>\n",
       "      <td>Checked Baggage</td>\n",
       "      <td>Cameras; Cameras</td>\n",
       "      <td>0</td>\n",
       "      <td>Deny</td>\n",
       "    </tr>\n",
       "    <tr>\n",
       "      <th>3</th>\n",
       "      <td>2010010567177</td>\n",
       "      <td>2010-01-04</td>\n",
       "      <td>2010-01-01 00:00:00</td>\n",
       "      <td>DEN</td>\n",
       "      <td>Denver International Airport</td>\n",
       "      <td>Southwest Airlines</td>\n",
       "      <td>Passenger Property Loss</td>\n",
       "      <td>Checked Baggage</td>\n",
       "      <td>Clothing</td>\n",
       "      <td>-</td>\n",
       "      <td>-</td>\n",
       "    </tr>\n",
       "    <tr>\n",
       "      <th>4</th>\n",
       "      <td>2010010567182</td>\n",
       "      <td>2010-01-04</td>\n",
       "      <td>2010-01-02 00:00:00</td>\n",
       "      <td>LAS</td>\n",
       "      <td>McCarran International</td>\n",
       "      <td>American Airlines</td>\n",
       "      <td>Passenger Property Loss</td>\n",
       "      <td>Checked Baggage</td>\n",
       "      <td>Travel Accessories</td>\n",
       "      <td>0</td>\n",
       "      <td>Deny</td>\n",
       "    </tr>\n",
       "  </tbody>\n",
       "</table>\n",
       "</div>"
      ],
      "text/plain": [
       "    Claim Number Date Received       Incident Date Airport Code  \\\n",
       "0  2010010567154    2010-01-04 2010-01-03 14:30:00          SLC   \n",
       "1  2010010567158    2010-01-04 2010-01-02 00:00:00          LAX   \n",
       "2  2010010567173    2010-01-04 2010-01-02 05:00:00          SEA   \n",
       "3  2010010567177    2010-01-04 2010-01-01 00:00:00          DEN   \n",
       "4  2010010567182    2010-01-04 2010-01-02 00:00:00          LAS   \n",
       "\n",
       "                           Airport Name          Airline Name  \\\n",
       "0  Salt Lake City International Airport     Delta Air Lines     \n",
       "1    Los Angeles International Airport   Southwest Airlines     \n",
       "2          Seattle-Tacoma International     Delta Air Lines     \n",
       "3         Denver International Airport   Southwest Airlines     \n",
       "4                McCarran International   American Airlines     \n",
       "\n",
       "                Claim Type       Claim Site         Item Category  \\\n",
       "0          Property Damage  Checked Baggage  Cosmetics & Grooming   \n",
       "1  Passenger Property Loss  Checked Baggage                 Other   \n",
       "2  Passenger Property Loss  Checked Baggage      Cameras; Cameras   \n",
       "3  Passenger Property Loss  Checked Baggage              Clothing   \n",
       "4  Passenger Property Loss  Checked Baggage    Travel Accessories   \n",
       "\n",
       "  Close Amount Disposition  \n",
       "0            0        Deny  \n",
       "1            0        Deny  \n",
       "2            0        Deny  \n",
       "3            -           -  \n",
       "4            0        Deny  "
      ]
     },
     "execution_count": 20,
     "metadata": {},
     "output_type": "execute_result"
    }
   ],
   "source": [
    "df3 = pd.read_excel('datasets/claims-2010-2013_0.xls')\n",
    "df3.head()"
   ]
  },
  {
   "cell_type": "code",
   "execution_count": 21,
   "metadata": {
    "collapsed": false
   },
   "outputs": [
    {
     "data": {
      "text/plain": [
       "Index([u'Claim Number', u'Date Received', u'Incident Date', u'Airport Code',\n",
       "       u'Airport Name', u'Airline Name', u'Claim Type', u'Claim Site',\n",
       "       u'Item Category', u'Close Amount', u'Disposition'],\n",
       "      dtype='object')"
      ]
     },
     "execution_count": 21,
     "metadata": {},
     "output_type": "execute_result"
    }
   ],
   "source": [
    "df3.columns"
   ]
  },
  {
   "cell_type": "code",
   "execution_count": 22,
   "metadata": {
    "collapsed": false
   },
   "outputs": [
    {
     "data": {
      "text/plain": [
       "[u'Claim_Number',\n",
       " u'Date_Received',\n",
       " u'Incident_Date',\n",
       " u'Airport_Code',\n",
       " u'Airport_Name',\n",
       " u'Airline_Name',\n",
       " u'Claim_Type',\n",
       " u'Claim_Site',\n",
       " u'Item_Category',\n",
       " u'Close_Amount',\n",
       " u'Disposition']"
      ]
     },
     "execution_count": 22,
     "metadata": {},
     "output_type": "execute_result"
    }
   ],
   "source": [
    "addUnderscore(df3.columns)"
   ]
  },
  {
   "cell_type": "code",
   "execution_count": 23,
   "metadata": {
    "collapsed": false
   },
   "outputs": [
    {
     "data": {
      "text/html": [
       "<div>\n",
       "<table border=\"1\" class=\"dataframe\">\n",
       "  <thead>\n",
       "    <tr style=\"text-align: right;\">\n",
       "      <th></th>\n",
       "      <th>Claim_Number</th>\n",
       "      <th>Date_Received</th>\n",
       "      <th>Incident_Date</th>\n",
       "      <th>Airport_Code</th>\n",
       "      <th>Airport_Name</th>\n",
       "      <th>Airline_Name</th>\n",
       "      <th>Claim_Type</th>\n",
       "      <th>Claim_Site</th>\n",
       "      <th>Item_Category</th>\n",
       "      <th>Close_Amount</th>\n",
       "      <th>Disposition</th>\n",
       "    </tr>\n",
       "  </thead>\n",
       "  <tbody>\n",
       "    <tr>\n",
       "      <th>0</th>\n",
       "      <td>2010010567154</td>\n",
       "      <td>2010-01-04</td>\n",
       "      <td>2010-01-03 14:30:00</td>\n",
       "      <td>SLC</td>\n",
       "      <td>Salt Lake City International Airport</td>\n",
       "      <td>Delta Air Lines</td>\n",
       "      <td>Property Damage</td>\n",
       "      <td>Checked Baggage</td>\n",
       "      <td>Cosmetics &amp; Grooming</td>\n",
       "      <td>0</td>\n",
       "      <td>Deny</td>\n",
       "    </tr>\n",
       "    <tr>\n",
       "      <th>1</th>\n",
       "      <td>2010010567158</td>\n",
       "      <td>2010-01-04</td>\n",
       "      <td>2010-01-02 00:00:00</td>\n",
       "      <td>LAX</td>\n",
       "      <td>Los Angeles International Airport</td>\n",
       "      <td>Southwest Airlines</td>\n",
       "      <td>Passenger Property Loss</td>\n",
       "      <td>Checked Baggage</td>\n",
       "      <td>Other</td>\n",
       "      <td>0</td>\n",
       "      <td>Deny</td>\n",
       "    </tr>\n",
       "    <tr>\n",
       "      <th>2</th>\n",
       "      <td>2010010567173</td>\n",
       "      <td>2010-01-04</td>\n",
       "      <td>2010-01-02 05:00:00</td>\n",
       "      <td>SEA</td>\n",
       "      <td>Seattle-Tacoma International</td>\n",
       "      <td>Delta Air Lines</td>\n",
       "      <td>Passenger Property Loss</td>\n",
       "      <td>Checked Baggage</td>\n",
       "      <td>Cameras; Cameras</td>\n",
       "      <td>0</td>\n",
       "      <td>Deny</td>\n",
       "    </tr>\n",
       "    <tr>\n",
       "      <th>3</th>\n",
       "      <td>2010010567177</td>\n",
       "      <td>2010-01-04</td>\n",
       "      <td>2010-01-01 00:00:00</td>\n",
       "      <td>DEN</td>\n",
       "      <td>Denver International Airport</td>\n",
       "      <td>Southwest Airlines</td>\n",
       "      <td>Passenger Property Loss</td>\n",
       "      <td>Checked Baggage</td>\n",
       "      <td>Clothing</td>\n",
       "      <td>-</td>\n",
       "      <td>-</td>\n",
       "    </tr>\n",
       "    <tr>\n",
       "      <th>4</th>\n",
       "      <td>2010010567182</td>\n",
       "      <td>2010-01-04</td>\n",
       "      <td>2010-01-02 00:00:00</td>\n",
       "      <td>LAS</td>\n",
       "      <td>McCarran International</td>\n",
       "      <td>American Airlines</td>\n",
       "      <td>Passenger Property Loss</td>\n",
       "      <td>Checked Baggage</td>\n",
       "      <td>Travel Accessories</td>\n",
       "      <td>0</td>\n",
       "      <td>Deny</td>\n",
       "    </tr>\n",
       "  </tbody>\n",
       "</table>\n",
       "</div>"
      ],
      "text/plain": [
       "    Claim_Number Date_Received       Incident_Date Airport_Code  \\\n",
       "0  2010010567154    2010-01-04 2010-01-03 14:30:00          SLC   \n",
       "1  2010010567158    2010-01-04 2010-01-02 00:00:00          LAX   \n",
       "2  2010010567173    2010-01-04 2010-01-02 05:00:00          SEA   \n",
       "3  2010010567177    2010-01-04 2010-01-01 00:00:00          DEN   \n",
       "4  2010010567182    2010-01-04 2010-01-02 00:00:00          LAS   \n",
       "\n",
       "                           Airport_Name          Airline_Name  \\\n",
       "0  Salt Lake City International Airport     Delta Air Lines     \n",
       "1    Los Angeles International Airport   Southwest Airlines     \n",
       "2          Seattle-Tacoma International     Delta Air Lines     \n",
       "3         Denver International Airport   Southwest Airlines     \n",
       "4                McCarran International   American Airlines     \n",
       "\n",
       "                Claim_Type       Claim_Site         Item_Category  \\\n",
       "0          Property Damage  Checked Baggage  Cosmetics & Grooming   \n",
       "1  Passenger Property Loss  Checked Baggage                 Other   \n",
       "2  Passenger Property Loss  Checked Baggage      Cameras; Cameras   \n",
       "3  Passenger Property Loss  Checked Baggage              Clothing   \n",
       "4  Passenger Property Loss  Checked Baggage    Travel Accessories   \n",
       "\n",
       "  Close_Amount Disposition  \n",
       "0            0        Deny  \n",
       "1            0        Deny  \n",
       "2            0        Deny  \n",
       "3            -           -  \n",
       "4            0        Deny  "
      ]
     },
     "execution_count": 23,
     "metadata": {},
     "output_type": "execute_result"
    }
   ],
   "source": [
    "df3.rename(columns=dict(zip(df3.columns.tolist(),addUnderscore(df3.columns.tolist()))), inplace=True)\n",
    "df3.head()"
   ]
  },
  {
   "cell_type": "code",
   "execution_count": 24,
   "metadata": {
    "collapsed": false
   },
   "outputs": [
    {
     "data": {
      "text/plain": [
       "Index([u'Item_Category'], dtype='object')"
      ]
     },
     "execution_count": 24,
     "metadata": {},
     "output_type": "execute_result"
    }
   ],
   "source": [
    "df3.columns.difference(df1.columns)"
   ]
  },
  {
   "cell_type": "code",
   "execution_count": 25,
   "metadata": {
    "collapsed": false
   },
   "outputs": [
    {
     "name": "stdout",
     "output_type": "stream",
     "text": [
      "claims-2002-2006_0.xls                 claims-2014.xls\r\n",
      "claims-2007-2009_0.xls                 claims-data-2015-as-of-feb-9-2016.xlsx\r\n",
      "claims-2010-2013_0.xls\r\n"
     ]
    }
   ],
   "source": [
    "!ls 'datasets'"
   ]
  },
  {
   "cell_type": "code",
   "execution_count": 26,
   "metadata": {
    "collapsed": false
   },
   "outputs": [
    {
     "data": {
      "text/html": [
       "<div>\n",
       "<table border=\"1\" class=\"dataframe\">\n",
       "  <thead>\n",
       "    <tr style=\"text-align: right;\">\n",
       "      <th></th>\n",
       "      <th>Claim Number</th>\n",
       "      <th>Date Received</th>\n",
       "      <th>Incident Date</th>\n",
       "      <th>Airport Code</th>\n",
       "      <th>Airport Name</th>\n",
       "      <th>Airline Name</th>\n",
       "      <th>Claim Type</th>\n",
       "      <th>Claim Site</th>\n",
       "      <th>Item Category</th>\n",
       "      <th>Close Amount</th>\n",
       "      <th>Disposition</th>\n",
       "    </tr>\n",
       "  </thead>\n",
       "  <tbody>\n",
       "    <tr>\n",
       "      <th>0</th>\n",
       "      <td>2013081805991</td>\n",
       "      <td>2014-01-13</td>\n",
       "      <td>2012-12-21 00:00:00</td>\n",
       "      <td>HPN</td>\n",
       "      <td>Westchester County, White Plains</td>\n",
       "      <td>USAir</td>\n",
       "      <td>Personal Injury</td>\n",
       "      <td>Checked Baggage</td>\n",
       "      <td>Audio/Video; Jewelry &amp; Watches</td>\n",
       "      <td>0</td>\n",
       "      <td>Deny</td>\n",
       "    </tr>\n",
       "    <tr>\n",
       "      <th>1</th>\n",
       "      <td>2014080215586</td>\n",
       "      <td>2014-07-17</td>\n",
       "      <td>2014-06-30 18:38:00</td>\n",
       "      <td>MCO</td>\n",
       "      <td>Orlando International Airport</td>\n",
       "      <td>Delta Air Lines</td>\n",
       "      <td>Property Damage</td>\n",
       "      <td>Checked Baggage</td>\n",
       "      <td>-</td>\n",
       "      <td>0</td>\n",
       "      <td>Deny</td>\n",
       "    </tr>\n",
       "    <tr>\n",
       "      <th>2</th>\n",
       "      <td>2014010710583</td>\n",
       "      <td>2014-01-07</td>\n",
       "      <td>2013-12-27 22:00:00</td>\n",
       "      <td>SJU</td>\n",
       "      <td>Luis Munoz Marin International</td>\n",
       "      <td>Jet Blue</td>\n",
       "      <td>Property Damage</td>\n",
       "      <td>Checked Baggage</td>\n",
       "      <td>Food &amp; Drink</td>\n",
       "      <td>50</td>\n",
       "      <td>Approve in Full</td>\n",
       "    </tr>\n",
       "    <tr>\n",
       "      <th>3</th>\n",
       "      <td>2014010910683</td>\n",
       "      <td>2014-01-07</td>\n",
       "      <td>2014-01-02 00:00:00</td>\n",
       "      <td>IAD</td>\n",
       "      <td>Washington Dulles International</td>\n",
       "      <td>UAL</td>\n",
       "      <td>Property Damage</td>\n",
       "      <td>Checked Baggage</td>\n",
       "      <td>Baggage/Cases/Purses</td>\n",
       "      <td>0</td>\n",
       "      <td>Deny</td>\n",
       "    </tr>\n",
       "    <tr>\n",
       "      <th>4</th>\n",
       "      <td>2014011310783</td>\n",
       "      <td>2014-01-09</td>\n",
       "      <td>2014-01-07 00:00:00</td>\n",
       "      <td>SAT</td>\n",
       "      <td>San Antonio International</td>\n",
       "      <td>Southwest Airlines</td>\n",
       "      <td>Property Damage</td>\n",
       "      <td>Checked Baggage</td>\n",
       "      <td>Computer &amp; Accessories</td>\n",
       "      <td>0</td>\n",
       "      <td>Deny</td>\n",
       "    </tr>\n",
       "  </tbody>\n",
       "</table>\n",
       "</div>"
      ],
      "text/plain": [
       "    Claim Number Date Received       Incident Date Airport Code  \\\n",
       "0  2013081805991    2014-01-13 2012-12-21 00:00:00          HPN   \n",
       "1  2014080215586    2014-07-17 2014-06-30 18:38:00          MCO   \n",
       "2  2014010710583    2014-01-07 2013-12-27 22:00:00          SJU   \n",
       "3  2014010910683    2014-01-07 2014-01-02 00:00:00          IAD   \n",
       "4  2014011310783    2014-01-09 2014-01-07 00:00:00          SAT   \n",
       "\n",
       "                       Airport Name          Airline Name       Claim Type  \\\n",
       "0  Westchester County, White Plains               USAir    Personal Injury   \n",
       "1     Orlando International Airport     Delta Air Lines    Property Damage   \n",
       "2    Luis Munoz Marin International              Jet Blue  Property Damage   \n",
       "3   Washington Dulles International                 UAL    Property Damage   \n",
       "4         San Antonio International  Southwest Airlines    Property Damage   \n",
       "\n",
       "        Claim Site                   Item Category Close Amount  \\\n",
       "0  Checked Baggage  Audio/Video; Jewelry & Watches            0   \n",
       "1  Checked Baggage                               -            0   \n",
       "2  Checked Baggage                    Food & Drink           50   \n",
       "3  Checked Baggage            Baggage/Cases/Purses            0   \n",
       "4  Checked Baggage          Computer & Accessories            0   \n",
       "\n",
       "       Disposition  \n",
       "0             Deny  \n",
       "1             Deny  \n",
       "2  Approve in Full  \n",
       "3             Deny  \n",
       "4             Deny  "
      ]
     },
     "execution_count": 26,
     "metadata": {},
     "output_type": "execute_result"
    }
   ],
   "source": [
    "df4 = pd.read_excel('datasets/claims-2014.xls')\n",
    "df4.head()"
   ]
  },
  {
   "cell_type": "code",
   "execution_count": 27,
   "metadata": {
    "collapsed": false
   },
   "outputs": [
    {
     "data": {
      "text/html": [
       "<div>\n",
       "<table border=\"1\" class=\"dataframe\">\n",
       "  <thead>\n",
       "    <tr style=\"text-align: right;\">\n",
       "      <th></th>\n",
       "      <th>Claim_Number</th>\n",
       "      <th>Date_Received</th>\n",
       "      <th>Incident_Date</th>\n",
       "      <th>Airport_Code</th>\n",
       "      <th>Airport_Name</th>\n",
       "      <th>Airline_Name</th>\n",
       "      <th>Claim_Type</th>\n",
       "      <th>Claim_Site</th>\n",
       "      <th>Item_Category</th>\n",
       "      <th>Close_Amount</th>\n",
       "      <th>Disposition</th>\n",
       "    </tr>\n",
       "  </thead>\n",
       "  <tbody>\n",
       "    <tr>\n",
       "      <th>0</th>\n",
       "      <td>2013081805991</td>\n",
       "      <td>2014-01-13</td>\n",
       "      <td>2012-12-21 00:00:00</td>\n",
       "      <td>HPN</td>\n",
       "      <td>Westchester County, White Plains</td>\n",
       "      <td>USAir</td>\n",
       "      <td>Personal Injury</td>\n",
       "      <td>Checked Baggage</td>\n",
       "      <td>Audio/Video; Jewelry &amp; Watches</td>\n",
       "      <td>0</td>\n",
       "      <td>Deny</td>\n",
       "    </tr>\n",
       "    <tr>\n",
       "      <th>1</th>\n",
       "      <td>2014080215586</td>\n",
       "      <td>2014-07-17</td>\n",
       "      <td>2014-06-30 18:38:00</td>\n",
       "      <td>MCO</td>\n",
       "      <td>Orlando International Airport</td>\n",
       "      <td>Delta Air Lines</td>\n",
       "      <td>Property Damage</td>\n",
       "      <td>Checked Baggage</td>\n",
       "      <td>-</td>\n",
       "      <td>0</td>\n",
       "      <td>Deny</td>\n",
       "    </tr>\n",
       "    <tr>\n",
       "      <th>2</th>\n",
       "      <td>2014010710583</td>\n",
       "      <td>2014-01-07</td>\n",
       "      <td>2013-12-27 22:00:00</td>\n",
       "      <td>SJU</td>\n",
       "      <td>Luis Munoz Marin International</td>\n",
       "      <td>Jet Blue</td>\n",
       "      <td>Property Damage</td>\n",
       "      <td>Checked Baggage</td>\n",
       "      <td>Food &amp; Drink</td>\n",
       "      <td>50</td>\n",
       "      <td>Approve in Full</td>\n",
       "    </tr>\n",
       "    <tr>\n",
       "      <th>3</th>\n",
       "      <td>2014010910683</td>\n",
       "      <td>2014-01-07</td>\n",
       "      <td>2014-01-02 00:00:00</td>\n",
       "      <td>IAD</td>\n",
       "      <td>Washington Dulles International</td>\n",
       "      <td>UAL</td>\n",
       "      <td>Property Damage</td>\n",
       "      <td>Checked Baggage</td>\n",
       "      <td>Baggage/Cases/Purses</td>\n",
       "      <td>0</td>\n",
       "      <td>Deny</td>\n",
       "    </tr>\n",
       "    <tr>\n",
       "      <th>4</th>\n",
       "      <td>2014011310783</td>\n",
       "      <td>2014-01-09</td>\n",
       "      <td>2014-01-07 00:00:00</td>\n",
       "      <td>SAT</td>\n",
       "      <td>San Antonio International</td>\n",
       "      <td>Southwest Airlines</td>\n",
       "      <td>Property Damage</td>\n",
       "      <td>Checked Baggage</td>\n",
       "      <td>Computer &amp; Accessories</td>\n",
       "      <td>0</td>\n",
       "      <td>Deny</td>\n",
       "    </tr>\n",
       "  </tbody>\n",
       "</table>\n",
       "</div>"
      ],
      "text/plain": [
       "    Claim_Number Date_Received       Incident_Date Airport_Code  \\\n",
       "0  2013081805991    2014-01-13 2012-12-21 00:00:00          HPN   \n",
       "1  2014080215586    2014-07-17 2014-06-30 18:38:00          MCO   \n",
       "2  2014010710583    2014-01-07 2013-12-27 22:00:00          SJU   \n",
       "3  2014010910683    2014-01-07 2014-01-02 00:00:00          IAD   \n",
       "4  2014011310783    2014-01-09 2014-01-07 00:00:00          SAT   \n",
       "\n",
       "                       Airport_Name          Airline_Name       Claim_Type  \\\n",
       "0  Westchester County, White Plains               USAir    Personal Injury   \n",
       "1     Orlando International Airport     Delta Air Lines    Property Damage   \n",
       "2    Luis Munoz Marin International              Jet Blue  Property Damage   \n",
       "3   Washington Dulles International                 UAL    Property Damage   \n",
       "4         San Antonio International  Southwest Airlines    Property Damage   \n",
       "\n",
       "        Claim_Site                   Item_Category Close_Amount  \\\n",
       "0  Checked Baggage  Audio/Video; Jewelry & Watches            0   \n",
       "1  Checked Baggage                               -            0   \n",
       "2  Checked Baggage                    Food & Drink           50   \n",
       "3  Checked Baggage            Baggage/Cases/Purses            0   \n",
       "4  Checked Baggage          Computer & Accessories            0   \n",
       "\n",
       "       Disposition  \n",
       "0             Deny  \n",
       "1             Deny  \n",
       "2  Approve in Full  \n",
       "3             Deny  \n",
       "4             Deny  "
      ]
     },
     "execution_count": 27,
     "metadata": {},
     "output_type": "execute_result"
    }
   ],
   "source": [
    "df4.rename(columns=dict(zip(df4.columns.tolist(), addUnderscore(df4.columns.tolist()))), inplace=True)\n",
    "df4.head()"
   ]
  },
  {
   "cell_type": "code",
   "execution_count": 34,
   "metadata": {
    "collapsed": false
   },
   "outputs": [
    {
     "name": "stdout",
     "output_type": "stream",
     "text": [
      "Index([u'Claim_Amount', u'Item', u'Status'], dtype='object')\n",
      "Index([], dtype='object')\n"
     ]
    }
   ],
   "source": [
    "print(df1.columns.difference(df4.columns))\n",
    "print(df4.columns.difference(df3.columns))"
   ]
  },
  {
   "cell_type": "code",
   "execution_count": 29,
   "metadata": {
    "collapsed": false
   },
   "outputs": [
    {
     "name": "stdout",
     "output_type": "stream",
     "text": [
      "claims-2002-2006_0.xls                 claims-2014.xls\r\n",
      "claims-2007-2009_0.xls                 claims-data-2015-as-of-feb-9-2016.xlsx\r\n",
      "claims-2010-2013_0.xls\r\n"
     ]
    }
   ],
   "source": [
    "!ls 'datasets'"
   ]
  },
  {
   "cell_type": "code",
   "execution_count": 30,
   "metadata": {
    "collapsed": false
   },
   "outputs": [
    {
     "data": {
      "text/html": [
       "<div>\n",
       "<table border=\"1\" class=\"dataframe\">\n",
       "  <thead>\n",
       "    <tr style=\"text-align: right;\">\n",
       "      <th></th>\n",
       "      <th>Claim Number</th>\n",
       "      <th>Date Received</th>\n",
       "      <th>Incident D</th>\n",
       "      <th>Airport Code</th>\n",
       "      <th>Airport Name</th>\n",
       "      <th>Airline Name</th>\n",
       "      <th>Claim Type</th>\n",
       "      <th>Claim Site</th>\n",
       "      <th>Item Category</th>\n",
       "      <th>Close Amount</th>\n",
       "      <th>Disposition</th>\n",
       "    </tr>\n",
       "  </thead>\n",
       "  <tbody>\n",
       "    <tr>\n",
       "      <th>0</th>\n",
       "      <td>2015060222904</td>\n",
       "      <td>2015-05-28</td>\n",
       "      <td>2015-05-21</td>\n",
       "      <td>ABE</td>\n",
       "      <td>Lehigh Valley International Airport, Allentown</td>\n",
       "      <td>Allegiant Air</td>\n",
       "      <td>Property Damage</td>\n",
       "      <td>Checkpoint</td>\n",
       "      <td>Personal Electronics</td>\n",
       "      <td>0</td>\n",
       "      <td>Deny</td>\n",
       "    </tr>\n",
       "    <tr>\n",
       "      <th>1</th>\n",
       "      <td>2015082725115</td>\n",
       "      <td>2015-08-21</td>\n",
       "      <td>2015-08-01</td>\n",
       "      <td>ABE</td>\n",
       "      <td>Lehigh Valley International Airport, Allentown</td>\n",
       "      <td>-</td>\n",
       "      <td>Property Damage</td>\n",
       "      <td>Checked Baggage</td>\n",
       "      <td>Sporting Equipment &amp; Supplies</td>\n",
       "      <td>180</td>\n",
       "      <td>Settle</td>\n",
       "    </tr>\n",
       "    <tr>\n",
       "      <th>2</th>\n",
       "      <td>2015102326219</td>\n",
       "      <td>2015-10-07</td>\n",
       "      <td>2015-10-02</td>\n",
       "      <td>ABE</td>\n",
       "      <td>Lehigh Valley International Airport, Allentown</td>\n",
       "      <td>Allegiant Air</td>\n",
       "      <td>Passenger Property Loss</td>\n",
       "      <td>Checked Baggage</td>\n",
       "      <td>Clothing</td>\n",
       "      <td>60</td>\n",
       "      <td>Approve in Full</td>\n",
       "    </tr>\n",
       "    <tr>\n",
       "      <th>3</th>\n",
       "      <td>2015122027695</td>\n",
       "      <td>2015-10-27</td>\n",
       "      <td>2015-10-19</td>\n",
       "      <td>ABE</td>\n",
       "      <td>Lehigh Valley International Airport, Allentown</td>\n",
       "      <td>Allegiant Air</td>\n",
       "      <td>Property Damage</td>\n",
       "      <td>Checkpoint</td>\n",
       "      <td>Personal Accessories</td>\n",
       "      <td>-</td>\n",
       "      <td>-</td>\n",
       "    </tr>\n",
       "    <tr>\n",
       "      <th>4</th>\n",
       "      <td>2015012220065</td>\n",
       "      <td>2015-01-22</td>\n",
       "      <td>2014-12-23</td>\n",
       "      <td>ABI</td>\n",
       "      <td>Abilene Regional</td>\n",
       "      <td>American Airlines</td>\n",
       "      <td>Property Damage</td>\n",
       "      <td>Checked Baggage</td>\n",
       "      <td>Home Decor</td>\n",
       "      <td>0</td>\n",
       "      <td>Deny</td>\n",
       "    </tr>\n",
       "  </tbody>\n",
       "</table>\n",
       "</div>"
      ],
      "text/plain": [
       "    Claim Number Date Received Incident D Airport Code  \\\n",
       "0  2015060222904    2015-05-28 2015-05-21          ABE   \n",
       "1  2015082725115    2015-08-21 2015-08-01          ABE   \n",
       "2  2015102326219    2015-10-07 2015-10-02          ABE   \n",
       "3  2015122027695    2015-10-27 2015-10-19          ABE   \n",
       "4  2015012220065    2015-01-22 2014-12-23          ABI   \n",
       "\n",
       "                                     Airport Name         Airline Name  \\\n",
       "0  Lehigh Valley International Airport, Allentown        Allegiant Air   \n",
       "1  Lehigh Valley International Airport, Allentown                    -   \n",
       "2  Lehigh Valley International Airport, Allentown        Allegiant Air   \n",
       "3  Lehigh Valley International Airport, Allentown        Allegiant Air   \n",
       "4                                Abilene Regional  American Airlines     \n",
       "\n",
       "                Claim Type       Claim Site                  Item Category  \\\n",
       "0          Property Damage       Checkpoint           Personal Electronics   \n",
       "1          Property Damage  Checked Baggage  Sporting Equipment & Supplies   \n",
       "2  Passenger Property Loss  Checked Baggage                       Clothing   \n",
       "3          Property Damage       Checkpoint           Personal Accessories   \n",
       "4          Property Damage  Checked Baggage                     Home Decor   \n",
       "\n",
       "  Close Amount      Disposition  \n",
       "0            0             Deny  \n",
       "1          180           Settle  \n",
       "2           60  Approve in Full  \n",
       "3            -                -  \n",
       "4            0             Deny  "
      ]
     },
     "execution_count": 30,
     "metadata": {},
     "output_type": "execute_result"
    }
   ],
   "source": [
    "df5 = pd.read_excel('datasets/claims-data-2015-as-of-feb-9-2016.xlsx')\n",
    "df5.head()"
   ]
  },
  {
   "cell_type": "code",
   "execution_count": 31,
   "metadata": {
    "collapsed": false
   },
   "outputs": [
    {
     "data": {
      "text/html": [
       "<div>\n",
       "<table border=\"1\" class=\"dataframe\">\n",
       "  <thead>\n",
       "    <tr style=\"text-align: right;\">\n",
       "      <th></th>\n",
       "      <th>Claim_Number</th>\n",
       "      <th>Date_Received</th>\n",
       "      <th>Incident_D</th>\n",
       "      <th>Airport_Code</th>\n",
       "      <th>Airport_Name</th>\n",
       "      <th>Airline_Name</th>\n",
       "      <th>Claim_Type</th>\n",
       "      <th>Claim_Site</th>\n",
       "      <th>Item_Category</th>\n",
       "      <th>Close_Amount</th>\n",
       "      <th>Disposition</th>\n",
       "    </tr>\n",
       "  </thead>\n",
       "  <tbody>\n",
       "    <tr>\n",
       "      <th>0</th>\n",
       "      <td>2015060222904</td>\n",
       "      <td>2015-05-28</td>\n",
       "      <td>2015-05-21</td>\n",
       "      <td>ABE</td>\n",
       "      <td>Lehigh Valley International Airport, Allentown</td>\n",
       "      <td>Allegiant Air</td>\n",
       "      <td>Property Damage</td>\n",
       "      <td>Checkpoint</td>\n",
       "      <td>Personal Electronics</td>\n",
       "      <td>0</td>\n",
       "      <td>Deny</td>\n",
       "    </tr>\n",
       "    <tr>\n",
       "      <th>1</th>\n",
       "      <td>2015082725115</td>\n",
       "      <td>2015-08-21</td>\n",
       "      <td>2015-08-01</td>\n",
       "      <td>ABE</td>\n",
       "      <td>Lehigh Valley International Airport, Allentown</td>\n",
       "      <td>-</td>\n",
       "      <td>Property Damage</td>\n",
       "      <td>Checked Baggage</td>\n",
       "      <td>Sporting Equipment &amp; Supplies</td>\n",
       "      <td>180</td>\n",
       "      <td>Settle</td>\n",
       "    </tr>\n",
       "    <tr>\n",
       "      <th>2</th>\n",
       "      <td>2015102326219</td>\n",
       "      <td>2015-10-07</td>\n",
       "      <td>2015-10-02</td>\n",
       "      <td>ABE</td>\n",
       "      <td>Lehigh Valley International Airport, Allentown</td>\n",
       "      <td>Allegiant Air</td>\n",
       "      <td>Passenger Property Loss</td>\n",
       "      <td>Checked Baggage</td>\n",
       "      <td>Clothing</td>\n",
       "      <td>60</td>\n",
       "      <td>Approve in Full</td>\n",
       "    </tr>\n",
       "    <tr>\n",
       "      <th>3</th>\n",
       "      <td>2015122027695</td>\n",
       "      <td>2015-10-27</td>\n",
       "      <td>2015-10-19</td>\n",
       "      <td>ABE</td>\n",
       "      <td>Lehigh Valley International Airport, Allentown</td>\n",
       "      <td>Allegiant Air</td>\n",
       "      <td>Property Damage</td>\n",
       "      <td>Checkpoint</td>\n",
       "      <td>Personal Accessories</td>\n",
       "      <td>-</td>\n",
       "      <td>-</td>\n",
       "    </tr>\n",
       "    <tr>\n",
       "      <th>4</th>\n",
       "      <td>2015012220065</td>\n",
       "      <td>2015-01-22</td>\n",
       "      <td>2014-12-23</td>\n",
       "      <td>ABI</td>\n",
       "      <td>Abilene Regional</td>\n",
       "      <td>American Airlines</td>\n",
       "      <td>Property Damage</td>\n",
       "      <td>Checked Baggage</td>\n",
       "      <td>Home Decor</td>\n",
       "      <td>0</td>\n",
       "      <td>Deny</td>\n",
       "    </tr>\n",
       "  </tbody>\n",
       "</table>\n",
       "</div>"
      ],
      "text/plain": [
       "    Claim_Number Date_Received Incident_D Airport_Code  \\\n",
       "0  2015060222904    2015-05-28 2015-05-21          ABE   \n",
       "1  2015082725115    2015-08-21 2015-08-01          ABE   \n",
       "2  2015102326219    2015-10-07 2015-10-02          ABE   \n",
       "3  2015122027695    2015-10-27 2015-10-19          ABE   \n",
       "4  2015012220065    2015-01-22 2014-12-23          ABI   \n",
       "\n",
       "                                     Airport_Name         Airline_Name  \\\n",
       "0  Lehigh Valley International Airport, Allentown        Allegiant Air   \n",
       "1  Lehigh Valley International Airport, Allentown                    -   \n",
       "2  Lehigh Valley International Airport, Allentown        Allegiant Air   \n",
       "3  Lehigh Valley International Airport, Allentown        Allegiant Air   \n",
       "4                                Abilene Regional  American Airlines     \n",
       "\n",
       "                Claim_Type       Claim_Site                  Item_Category  \\\n",
       "0          Property Damage       Checkpoint           Personal Electronics   \n",
       "1          Property Damage  Checked Baggage  Sporting Equipment & Supplies   \n",
       "2  Passenger Property Loss  Checked Baggage                       Clothing   \n",
       "3          Property Damage       Checkpoint           Personal Accessories   \n",
       "4          Property Damage  Checked Baggage                     Home Decor   \n",
       "\n",
       "  Close_Amount      Disposition  \n",
       "0            0             Deny  \n",
       "1          180           Settle  \n",
       "2           60  Approve in Full  \n",
       "3            -                -  \n",
       "4            0             Deny  "
      ]
     },
     "execution_count": 31,
     "metadata": {},
     "output_type": "execute_result"
    }
   ],
   "source": [
    "df5.rename(columns=dict(zip(df5.columns.tolist(), addUnderscore(df5.columns.tolist()))),inplace=True)\n",
    "df5.head()"
   ]
  },
  {
   "cell_type": "code",
   "execution_count": 30,
   "metadata": {
    "collapsed": false
   },
   "outputs": [
    {
     "data": {
      "text/plain": [
       "Index([u'Claim_Amount', u'Incident_Date', u'Item', u'Status'], dtype='object')"
      ]
     },
     "execution_count": 30,
     "metadata": {},
     "output_type": "execute_result"
    }
   ],
   "source": [
    "df1.columns.difference(df5.columns)"
   ]
  },
  {
   "cell_type": "code",
   "execution_count": 31,
   "metadata": {
    "collapsed": false
   },
   "outputs": [
    {
     "data": {
      "text/plain": [
       "Index([], dtype='object')"
      ]
     },
     "execution_count": 31,
     "metadata": {},
     "output_type": "execute_result"
    }
   ],
   "source": [
    "df1.columns.difference(df2.columns)"
   ]
  },
  {
   "cell_type": "code",
   "execution_count": 32,
   "metadata": {
    "collapsed": false
   },
   "outputs": [
    {
     "data": {
      "text/plain": [
       "Index([u'Claim_Amount', u'Item', u'Status'], dtype='object')"
      ]
     },
     "execution_count": 32,
     "metadata": {},
     "output_type": "execute_result"
    }
   ],
   "source": [
    "df1.columns.difference(df3.columns)"
   ]
  },
  {
   "cell_type": "code",
   "execution_count": 33,
   "metadata": {
    "collapsed": false
   },
   "outputs": [
    {
     "data": {
      "text/plain": [
       "Index([], dtype='object')"
      ]
     },
     "execution_count": 33,
     "metadata": {},
     "output_type": "execute_result"
    }
   ],
   "source": [
    "df3.columns.difference(df4.columns)"
   ]
  },
  {
   "cell_type": "code",
   "execution_count": 34,
   "metadata": {
    "collapsed": false
   },
   "outputs": [
    {
     "data": {
      "text/plain": [
       "Index([u'Incident_Date'], dtype='object')"
      ]
     },
     "execution_count": 34,
     "metadata": {},
     "output_type": "execute_result"
    }
   ],
   "source": [
    "df4.columns.difference(df5.columns)"
   ]
  },
  {
   "cell_type": "code",
   "execution_count": 35,
   "metadata": {
    "collapsed": false
   },
   "outputs": [
    {
     "data": {
      "text/html": [
       "<div>\n",
       "<table border=\"1\" class=\"dataframe\">\n",
       "  <thead>\n",
       "    <tr style=\"text-align: right;\">\n",
       "      <th></th>\n",
       "      <th>Claim_Number</th>\n",
       "      <th>Date_Received</th>\n",
       "      <th>Incident_Date</th>\n",
       "      <th>Airport_Code</th>\n",
       "      <th>Airport_Name</th>\n",
       "      <th>Airline_Name</th>\n",
       "      <th>Claim_Type</th>\n",
       "      <th>Claim_Site</th>\n",
       "      <th>Item</th>\n",
       "      <th>Claim_Amount</th>\n",
       "      <th>Status</th>\n",
       "      <th>Close_Amount</th>\n",
       "      <th>Disposition</th>\n",
       "    </tr>\n",
       "  </thead>\n",
       "  <tbody>\n",
       "    <tr>\n",
       "      <th>0</th>\n",
       "      <td>0909802M</td>\n",
       "      <td>2002-01-04 00:00:00</td>\n",
       "      <td>2002-12-12 00:00:00</td>\n",
       "      <td>EWR</td>\n",
       "      <td>Newark International Airport</td>\n",
       "      <td>Continental Airlines</td>\n",
       "      <td>Property Damage</td>\n",
       "      <td>Checkpoint</td>\n",
       "      <td>Other</td>\n",
       "      <td>350.00</td>\n",
       "      <td>Approved</td>\n",
       "      <td>350.00</td>\n",
       "      <td>Approve in Full</td>\n",
       "    </tr>\n",
       "    <tr>\n",
       "      <th>1</th>\n",
       "      <td>0202417M</td>\n",
       "      <td>2002-02-02 00:00:00</td>\n",
       "      <td>2004-01-16 00:00:00</td>\n",
       "      <td>SEA</td>\n",
       "      <td>Seattle-Tacoma International</td>\n",
       "      <td>NaN</td>\n",
       "      <td>Property Damage</td>\n",
       "      <td>Checked Baggage</td>\n",
       "      <td>Luggage (all types including footlockers)</td>\n",
       "      <td>100.00</td>\n",
       "      <td>Settled</td>\n",
       "      <td>50.00</td>\n",
       "      <td>Settle</td>\n",
       "    </tr>\n",
       "    <tr>\n",
       "      <th>2</th>\n",
       "      <td>0202445M</td>\n",
       "      <td>2002-02-04 00:00:00</td>\n",
       "      <td>2003-11-26 00:00:00</td>\n",
       "      <td>STL</td>\n",
       "      <td>Lambert St. Louis International</td>\n",
       "      <td>American Airlines</td>\n",
       "      <td>Property Damage</td>\n",
       "      <td>Checked Baggage</td>\n",
       "      <td>Cell Phones</td>\n",
       "      <td>278.88</td>\n",
       "      <td>Settled</td>\n",
       "      <td>227.92</td>\n",
       "      <td>Settle</td>\n",
       "    </tr>\n",
       "    <tr>\n",
       "      <th>3</th>\n",
       "      <td>0909816M</td>\n",
       "      <td>2002-02-07 00:00:00</td>\n",
       "      <td>2003-01-06 00:00:00</td>\n",
       "      <td>MIA</td>\n",
       "      <td>Miami International Airport</td>\n",
       "      <td>American Airlines</td>\n",
       "      <td>Property Damage</td>\n",
       "      <td>Checkpoint</td>\n",
       "      <td>Luggage (all types including footlockers)</td>\n",
       "      <td>50.00</td>\n",
       "      <td>Approved</td>\n",
       "      <td>50.00</td>\n",
       "      <td>Approve in Full</td>\n",
       "    </tr>\n",
       "    <tr>\n",
       "      <th>4</th>\n",
       "      <td>2005032379513</td>\n",
       "      <td>2002-02-18 00:00:00</td>\n",
       "      <td>2005-02-05 00:00:00</td>\n",
       "      <td>MCO</td>\n",
       "      <td>Orlando International Airport</td>\n",
       "      <td>Delta (Song)</td>\n",
       "      <td>Property Damage</td>\n",
       "      <td>Checkpoint</td>\n",
       "      <td>Baby - Strollers, car seats, playpen, etc.</td>\n",
       "      <td>84.79</td>\n",
       "      <td>Approved</td>\n",
       "      <td>84.79</td>\n",
       "      <td>Approve in Full</td>\n",
       "    </tr>\n",
       "  </tbody>\n",
       "</table>\n",
       "</div>"
      ],
      "text/plain": [
       "    Claim_Number        Date_Received        Incident_Date Airport_Code  \\\n",
       "0       0909802M  2002-01-04 00:00:00  2002-12-12 00:00:00          EWR   \n",
       "1       0202417M  2002-02-02 00:00:00  2004-01-16 00:00:00          SEA   \n",
       "2       0202445M  2002-02-04 00:00:00  2003-11-26 00:00:00          STL   \n",
       "3       0909816M  2002-02-07 00:00:00  2003-01-06 00:00:00          MIA   \n",
       "4  2005032379513  2002-02-18 00:00:00  2005-02-05 00:00:00          MCO   \n",
       "\n",
       "                      Airport_Name          Airline_Name       Claim_Type  \\\n",
       "0     Newark International Airport  Continental Airlines  Property Damage   \n",
       "1     Seattle-Tacoma International                   NaN  Property Damage   \n",
       "2  Lambert St. Louis International     American Airlines  Property Damage   \n",
       "3      Miami International Airport     American Airlines  Property Damage   \n",
       "4    Orlando International Airport          Delta (Song)  Property Damage   \n",
       "\n",
       "        Claim_Site                                        Item  Claim_Amount  \\\n",
       "0       Checkpoint                                       Other        350.00   \n",
       "1  Checked Baggage   Luggage (all types including footlockers)        100.00   \n",
       "2  Checked Baggage                                 Cell Phones        278.88   \n",
       "3       Checkpoint   Luggage (all types including footlockers)         50.00   \n",
       "4       Checkpoint  Baby - Strollers, car seats, playpen, etc.         84.79   \n",
       "\n",
       "     Status  Close_Amount      Disposition  \n",
       "0  Approved        350.00  Approve in Full  \n",
       "1   Settled         50.00           Settle  \n",
       "2   Settled        227.92           Settle  \n",
       "3  Approved         50.00  Approve in Full  \n",
       "4  Approved         84.79  Approve in Full  "
      ]
     },
     "execution_count": 35,
     "metadata": {},
     "output_type": "execute_result"
    }
   ],
   "source": [
    "df1.head()"
   ]
  },
  {
   "cell_type": "code",
   "execution_count": 36,
   "metadata": {
    "collapsed": false
   },
   "outputs": [
    {
     "name": "stdout",
     "output_type": "stream",
     "text": [
      "<class 'pandas.core.frame.DataFrame'>\n",
      "RangeIndex: 97231 entries, 0 to 97230\n",
      "Data columns (total 13 columns):\n",
      "Claim_Number     97231 non-null object\n",
      "Date_Received    96973 non-null object\n",
      "Incident_Date    95150 non-null object\n",
      "Airport_Code     89207 non-null object\n",
      "Airport_Name     89207 non-null object\n",
      "Airline_Name     66496 non-null object\n",
      "Claim_Type       89593 non-null object\n",
      "Claim_Site       96688 non-null object\n",
      "Item             95558 non-null object\n",
      "Claim_Amount     93945 non-null float64\n",
      "Status           97231 non-null object\n",
      "Close_Amount     89373 non-null float64\n",
      "Disposition      87097 non-null object\n",
      "dtypes: float64(2), object(11)\n",
      "memory usage: 9.6+ MB\n"
     ]
    }
   ],
   "source": [
    "df1.info()"
   ]
  },
  {
   "cell_type": "code",
   "execution_count": 37,
   "metadata": {
    "collapsed": false
   },
   "outputs": [
    {
     "data": {
      "text/plain": [
       "Claim_Number         0\n",
       "Date_Received      258\n",
       "Incident_Date     2081\n",
       "Airport_Code      8024\n",
       "Airport_Name      8024\n",
       "Airline_Name     30735\n",
       "Claim_Type        7638\n",
       "Claim_Site         543\n",
       "Item              1673\n",
       "Claim_Amount      3286\n",
       "Status               0\n",
       "Close_Amount      7858\n",
       "Disposition      10134\n",
       "dtype: int64"
      ]
     },
     "execution_count": 37,
     "metadata": {},
     "output_type": "execute_result"
    }
   ],
   "source": [
    "df1.isnull().sum()"
   ]
  },
  {
   "cell_type": "code",
   "execution_count": 38,
   "metadata": {
    "collapsed": false
   },
   "outputs": [
    {
     "data": {
      "text/html": [
       "<div>\n",
       "<table border=\"1\" class=\"dataframe\">\n",
       "  <thead>\n",
       "    <tr style=\"text-align: right;\">\n",
       "      <th></th>\n",
       "      <th>Claim_Amount</th>\n",
       "      <th>Close_Amount</th>\n",
       "    </tr>\n",
       "  </thead>\n",
       "  <tbody>\n",
       "    <tr>\n",
       "      <th>count</th>\n",
       "      <td>9.394500e+04</td>\n",
       "      <td>89373.000000</td>\n",
       "    </tr>\n",
       "    <tr>\n",
       "      <th>mean</th>\n",
       "      <td>1.646253e+05</td>\n",
       "      <td>119.321227</td>\n",
       "    </tr>\n",
       "    <tr>\n",
       "      <th>std</th>\n",
       "      <td>2.579837e+07</td>\n",
       "      <td>1115.063636</td>\n",
       "    </tr>\n",
       "    <tr>\n",
       "      <th>min</th>\n",
       "      <td>0.000000e+00</td>\n",
       "      <td>0.000000</td>\n",
       "    </tr>\n",
       "    <tr>\n",
       "      <th>25%</th>\n",
       "      <td>6.000000e+01</td>\n",
       "      <td>0.000000</td>\n",
       "    </tr>\n",
       "    <tr>\n",
       "      <th>50%</th>\n",
       "      <td>1.580000e+02</td>\n",
       "      <td>25.000000</td>\n",
       "    </tr>\n",
       "    <tr>\n",
       "      <th>75%</th>\n",
       "      <td>4.159800e+02</td>\n",
       "      <td>99.990000</td>\n",
       "    </tr>\n",
       "    <tr>\n",
       "      <th>max</th>\n",
       "      <td>5.000000e+09</td>\n",
       "      <td>250000.000000</td>\n",
       "    </tr>\n",
       "  </tbody>\n",
       "</table>\n",
       "</div>"
      ],
      "text/plain": [
       "       Claim_Amount   Close_Amount\n",
       "count  9.394500e+04   89373.000000\n",
       "mean   1.646253e+05     119.321227\n",
       "std    2.579837e+07    1115.063636\n",
       "min    0.000000e+00       0.000000\n",
       "25%    6.000000e+01       0.000000\n",
       "50%    1.580000e+02      25.000000\n",
       "75%    4.159800e+02      99.990000\n",
       "max    5.000000e+09  250000.000000"
      ]
     },
     "execution_count": 38,
     "metadata": {},
     "output_type": "execute_result"
    }
   ],
   "source": [
    "df1.describe()"
   ]
  },
  {
   "cell_type": "code",
   "execution_count": 39,
   "metadata": {
    "collapsed": false
   },
   "outputs": [
    {
     "data": {
      "text/html": [
       "<div>\n",
       "<table border=\"1\" class=\"dataframe\">\n",
       "  <thead>\n",
       "    <tr style=\"text-align: right;\">\n",
       "      <th></th>\n",
       "      <th>Claim_Number</th>\n",
       "      <th>Date_Received</th>\n",
       "      <th>Incident_Date</th>\n",
       "      <th>Airport_Code</th>\n",
       "      <th>Airport_Name</th>\n",
       "      <th>Airline_Name</th>\n",
       "      <th>Claim_Type</th>\n",
       "      <th>Claim_Site</th>\n",
       "      <th>Item</th>\n",
       "      <th>Status</th>\n",
       "      <th>Disposition</th>\n",
       "    </tr>\n",
       "  </thead>\n",
       "  <tbody>\n",
       "    <tr>\n",
       "      <th>count</th>\n",
       "      <td>97231</td>\n",
       "      <td>96973</td>\n",
       "      <td>95150</td>\n",
       "      <td>89207</td>\n",
       "      <td>89207</td>\n",
       "      <td>66496</td>\n",
       "      <td>89593</td>\n",
       "      <td>96688</td>\n",
       "      <td>95558</td>\n",
       "      <td>97231</td>\n",
       "      <td>87097</td>\n",
       "    </tr>\n",
       "    <tr>\n",
       "      <th>unique</th>\n",
       "      <td>97230</td>\n",
       "      <td>1280</td>\n",
       "      <td>1867</td>\n",
       "      <td>387</td>\n",
       "      <td>387</td>\n",
       "      <td>155</td>\n",
       "      <td>6</td>\n",
       "      <td>4</td>\n",
       "      <td>1219</td>\n",
       "      <td>9</td>\n",
       "      <td>3</td>\n",
       "    </tr>\n",
       "    <tr>\n",
       "      <th>top</th>\n",
       "      <td>2004050450432</td>\n",
       "      <td>2003-12-05 00:00:00</td>\n",
       "      <td>2004-12-27 00:00:00</td>\n",
       "      <td>LAX</td>\n",
       "      <td>Los Angeles International Airport</td>\n",
       "      <td>American Airlines</td>\n",
       "      <td>Passenger Property Loss</td>\n",
       "      <td>Checked Baggage</td>\n",
       "      <td>Other</td>\n",
       "      <td>Denied</td>\n",
       "      <td>Deny</td>\n",
       "    </tr>\n",
       "    <tr>\n",
       "      <th>freq</th>\n",
       "      <td>2</td>\n",
       "      <td>682</td>\n",
       "      <td>144</td>\n",
       "      <td>4894</td>\n",
       "      <td>4894</td>\n",
       "      <td>10196</td>\n",
       "      <td>50168</td>\n",
       "      <td>76703</td>\n",
       "      <td>26027</td>\n",
       "      <td>35480</td>\n",
       "      <td>35502</td>\n",
       "    </tr>\n",
       "  </tbody>\n",
       "</table>\n",
       "</div>"
      ],
      "text/plain": [
       "         Claim_Number        Date_Received        Incident_Date Airport_Code  \\\n",
       "count           97231                96973                95150        89207   \n",
       "unique          97230                 1280                 1867          387   \n",
       "top     2004050450432  2003-12-05 00:00:00  2004-12-27 00:00:00          LAX   \n",
       "freq                2                  682                  144         4894   \n",
       "\n",
       "                             Airport_Name       Airline_Name  \\\n",
       "count                               89207              66496   \n",
       "unique                                387                155   \n",
       "top     Los Angeles International Airport  American Airlines   \n",
       "freq                                 4894              10196   \n",
       "\n",
       "                     Claim_Type       Claim_Site   Item  Status Disposition  \n",
       "count                     89593            96688  95558   97231       87097  \n",
       "unique                        6                4   1219       9           3  \n",
       "top     Passenger Property Loss  Checked Baggage  Other  Denied        Deny  \n",
       "freq                      50168            76703  26027   35480       35502  "
      ]
     },
     "execution_count": 39,
     "metadata": {},
     "output_type": "execute_result"
    }
   ],
   "source": [
    "df1.describe(include=[object])"
   ]
  },
  {
   "cell_type": "code",
   "execution_count": 40,
   "metadata": {
    "collapsed": false,
    "scrolled": false
   },
   "outputs": [
    {
     "data": {
      "text/plain": [
       "Other                                                           26027\n",
       "Luggage (all types including footlockers)                       15088\n",
       "Clothing - Shoes, belts, accessories, etc.                      11469\n",
       "Jewelry - Fine                                                   7911\n",
       "Cameras - Digital                                                6975\n",
       "Locks                                                            6468\n",
       "Computer - Laptop                                                5121\n",
       "Eyeglasses - (including contact lenses)                          2782\n",
       "Cosmetics - Perfume, toilet articles, medicines, soaps, etc.     2026\n",
       "Currency                                                         1738\n",
       "Cell Phones                                                      1421\n",
       "DVD/CD Players                                                   1040\n",
       "Medicines                                                         627\n",
       "Stereo Items & Accessories                                        573\n",
       "PDA - Personal Data Assistants                                    391\n",
       "Baby - Strollers, car seats, playpen, etc.                        372\n",
       "Musical Instruments - Other - Over $250                           327\n",
       "Fish/Game                                                         295\n",
       "Photographic Film                                                 218\n",
       "Sporting Equipment & Supplies (footballs, parachutes, etc.)       180\n",
       "Name: Item, dtype: int64"
      ]
     },
     "execution_count": 40,
     "metadata": {},
     "output_type": "execute_result"
    }
   ],
   "source": [
    "df1.Item.value_counts().head(20)"
   ]
  },
  {
   "cell_type": "code",
   "execution_count": 41,
   "metadata": {
    "collapsed": false
   },
   "outputs": [
    {
     "data": {
      "text/plain": [
       "Other                                                           4435\n",
       "Luggage (all types including footlockers)                       4040\n",
       "Clothing - Shoes, belts, accessories, etc.                      3468\n",
       "Computer - Laptop                                               3457\n",
       "Locks                                                           3102\n",
       "Cameras - Digital                                               2196\n",
       "Jewelry - Fine                                                  1991\n",
       "Cosmetics - Perfume, toilet articles, medicines, soaps, etc.    1464\n",
       "Eyeglasses - (including contact lenses)                         1185\n",
       "Cell Phones                                                      737\n",
       "Jewelry - Costume                                                714\n",
       "Currency                                                         695\n",
       "MP3 Players-(iPods, etc)                                         638\n",
       "Sporting Equipment & Supplies (footballs, parachutes, etc.)      604\n",
       "Watches - Expensive more than $100                               576\n",
       "Name: Item, dtype: int64"
      ]
     },
     "execution_count": 41,
     "metadata": {},
     "output_type": "execute_result"
    }
   ],
   "source": [
    "df2.Item.value_counts().head(15)"
   ]
  },
  {
   "cell_type": "code",
   "execution_count": 42,
   "metadata": {
    "collapsed": false
   },
   "outputs": [
    {
     "data": {
      "text/plain": [
       "Other                                       5032\n",
       "Baggage/Cases/Purses                        4246\n",
       "Computer & Accessories                      3708\n",
       "Clothing                                    3194\n",
       "Jewelry & Watches                           3026\n",
       "-                                           2844\n",
       "Travel Accessories                          2761\n",
       "Personal Electronics                        2228\n",
       "Personal Accessories                        1456\n",
       "Cosmetics & Grooming                        1383\n",
       "Cameras                                     1148\n",
       "Sporting Equipment & Supplies                914\n",
       "Currency                                     669\n",
       "Medical/Science                              591\n",
       "Food & Drink                                 589\n",
       "Home Decor                                   383\n",
       "Household Items                              342\n",
       "Hunting & Fishing Items                      332\n",
       "Baggage/Cases/Purses; Travel Accessories     320\n",
       "Tools & Home Improvement Supplies            253\n",
       "Name: Item_Category, dtype: int64"
      ]
     },
     "execution_count": 42,
     "metadata": {},
     "output_type": "execute_result"
    }
   ],
   "source": [
    "df3.Item_Category.value_counts().head(20)"
   ]
  },
  {
   "cell_type": "code",
   "execution_count": 43,
   "metadata": {
    "collapsed": false
   },
   "outputs": [
    {
     "data": {
      "text/plain": [
       "Baggage/Cases/Purses                 1102\n",
       "-                                     916\n",
       "Other                                 844\n",
       "Clothing                              793\n",
       "Computer & Accessories                705\n",
       "Jewelry & Watches                     604\n",
       "Personal Electronics                  601\n",
       "Travel Accessories                    473\n",
       "Cosmetics & Grooming                  332\n",
       "Personal Accessories                  331\n",
       "Sporting Equipment & Supplies         269\n",
       "Cameras                               165\n",
       "Food & Drink                          160\n",
       "Medical/Science                       148\n",
       "Currency                              142\n",
       "Home Decor                            139\n",
       "Hunting & Fishing Items                97\n",
       "Household Items                        93\n",
       "Tools & Home Improvement Supplies      52\n",
       "Audio/Video                            47\n",
       "Name: Item_Category, dtype: int64"
      ]
     },
     "execution_count": 43,
     "metadata": {},
     "output_type": "execute_result"
    }
   ],
   "source": [
    "df4.Item_Category.value_counts().head(20)"
   ]
  },
  {
   "cell_type": "code",
   "execution_count": 46,
   "metadata": {
    "collapsed": false
   },
   "outputs": [
    {
     "data": {
      "text/plain": [
       "Baggage/Cases/Purses                 1004\n",
       "Computer & Accessories                736\n",
       "Clothing                              723\n",
       "-                                     663\n",
       "Other                                 570\n",
       "Personal Electronics                  561\n",
       "Jewelry & Watches                     509\n",
       "Travel Accessories                    454\n",
       "Personal Accessories                  347\n",
       "Cosmetics & Grooming                  310\n",
       "Sporting Equipment & Supplies         200\n",
       "Home Decor                            168\n",
       "Food & Drink                          168\n",
       "Medical/Science                       148\n",
       "Currency                              137\n",
       "Cameras                               127\n",
       "Household Items                       111\n",
       "Audio/Video                           103\n",
       "Hunting & Fishing Items               103\n",
       "Tools & Home Improvement Supplies      61\n",
       "Name: Item_Category, dtype: int64"
      ]
     },
     "execution_count": 46,
     "metadata": {},
     "output_type": "execute_result"
    }
   ],
   "source": [
    "df5.Item_Category.value_counts().head(20)"
   ]
  },
  {
   "cell_type": "code",
   "execution_count": 45,
   "metadata": {
    "collapsed": false
   },
   "outputs": [
    {
     "data": {
      "text/html": [
       "<div>\n",
       "<table border=\"1\" class=\"dataframe\">\n",
       "  <thead>\n",
       "    <tr style=\"text-align: right;\">\n",
       "      <th></th>\n",
       "      <th>df1_categories</th>\n",
       "      <th>df1_count</th>\n",
       "      <th>df2_categories</th>\n",
       "      <th>df2_count</th>\n",
       "      <th>df3_categories</th>\n",
       "      <th>df3_count</th>\n",
       "      <th>df4_categories</th>\n",
       "      <th>df4_count</th>\n",
       "      <th>df5_categories</th>\n",
       "      <th>df5_count</th>\n",
       "    </tr>\n",
       "  </thead>\n",
       "  <tbody>\n",
       "    <tr>\n",
       "      <th>0</th>\n",
       "      <td>Other</td>\n",
       "      <td>26027.0</td>\n",
       "      <td>Other</td>\n",
       "      <td>4435</td>\n",
       "      <td>Other</td>\n",
       "      <td>5032.0</td>\n",
       "      <td>Baggage/Cases/Purses</td>\n",
       "      <td>1102.0</td>\n",
       "      <td>Baggage/Cases/Purses</td>\n",
       "      <td>1004.0</td>\n",
       "    </tr>\n",
       "    <tr>\n",
       "      <th>1</th>\n",
       "      <td>Luggage (all types including footlockers)</td>\n",
       "      <td>15088.0</td>\n",
       "      <td>Luggage (all types including footlockers)</td>\n",
       "      <td>4040</td>\n",
       "      <td>Baggage/Cases/Purses</td>\n",
       "      <td>4246.0</td>\n",
       "      <td>-</td>\n",
       "      <td>916.0</td>\n",
       "      <td>Computer &amp; Accessories</td>\n",
       "      <td>736.0</td>\n",
       "    </tr>\n",
       "    <tr>\n",
       "      <th>2</th>\n",
       "      <td>Clothing - Shoes, belts, accessories, etc.</td>\n",
       "      <td>11469.0</td>\n",
       "      <td>Clothing - Shoes, belts, accessories, etc.</td>\n",
       "      <td>3468</td>\n",
       "      <td>Computer &amp; Accessories</td>\n",
       "      <td>3708.0</td>\n",
       "      <td>Other</td>\n",
       "      <td>844.0</td>\n",
       "      <td>Clothing</td>\n",
       "      <td>723.0</td>\n",
       "    </tr>\n",
       "    <tr>\n",
       "      <th>3</th>\n",
       "      <td>Jewelry - Fine</td>\n",
       "      <td>7911.0</td>\n",
       "      <td>Computer - Laptop</td>\n",
       "      <td>3457</td>\n",
       "      <td>Clothing</td>\n",
       "      <td>3194.0</td>\n",
       "      <td>Clothing</td>\n",
       "      <td>793.0</td>\n",
       "      <td>-</td>\n",
       "      <td>663.0</td>\n",
       "    </tr>\n",
       "    <tr>\n",
       "      <th>4</th>\n",
       "      <td>Cameras - Digital</td>\n",
       "      <td>6975.0</td>\n",
       "      <td>Locks</td>\n",
       "      <td>3102</td>\n",
       "      <td>Jewelry &amp; Watches</td>\n",
       "      <td>3026.0</td>\n",
       "      <td>Computer &amp; Accessories</td>\n",
       "      <td>705.0</td>\n",
       "      <td>Other</td>\n",
       "      <td>570.0</td>\n",
       "    </tr>\n",
       "  </tbody>\n",
       "</table>\n",
       "</div>"
      ],
      "text/plain": [
       "                               df1_categories  df1_count  \\\n",
       "0                                       Other    26027.0   \n",
       "1   Luggage (all types including footlockers)    15088.0   \n",
       "2  Clothing - Shoes, belts, accessories, etc.    11469.0   \n",
       "3                              Jewelry - Fine     7911.0   \n",
       "4                           Cameras - Digital     6975.0   \n",
       "\n",
       "                               df2_categories  df2_count  \\\n",
       "0                                       Other       4435   \n",
       "1   Luggage (all types including footlockers)       4040   \n",
       "2  Clothing - Shoes, belts, accessories, etc.       3468   \n",
       "3                           Computer - Laptop       3457   \n",
       "4                                       Locks       3102   \n",
       "\n",
       "           df3_categories  df3_count          df4_categories  df4_count  \\\n",
       "0                   Other     5032.0    Baggage/Cases/Purses     1102.0   \n",
       "1    Baggage/Cases/Purses     4246.0                       -      916.0   \n",
       "2  Computer & Accessories     3708.0                   Other      844.0   \n",
       "3                Clothing     3194.0                Clothing      793.0   \n",
       "4       Jewelry & Watches     3026.0  Computer & Accessories      705.0   \n",
       "\n",
       "           df5_categories  df5_count  \n",
       "0    Baggage/Cases/Purses     1004.0  \n",
       "1  Computer & Accessories      736.0  \n",
       "2                Clothing      723.0  \n",
       "3                       -      663.0  \n",
       "4                   Other      570.0  "
      ]
     },
     "execution_count": 45,
     "metadata": {},
     "output_type": "execute_result"
    }
   ],
   "source": [
    "df1_cats = pd.DataFrame(data={'df1_categories':df1.Item.value_counts().index, 'df1_count':df1.Item.value_counts().values})\n",
    "df2_cats = pd.DataFrame(data={'df2_categories':df2.Item.value_counts().index, 'df2_count':df2.Item.value_counts().values})\n",
    "df3_cats = pd.DataFrame(data={'df3_categories':df3.Item_Category.value_counts().index, 'df3_count':df3.Item_Category.value_counts().values})\n",
    "df4_cats = pd.DataFrame(data={'df4_categories':df4.Item_Category.value_counts().index, 'df4_count':df4.Item_Category.value_counts().values})\n",
    "df5_cats = pd.DataFrame(data={'df5_categories':df5.Item_Category.value_counts().index, 'df5_count':df5.Item_Category.value_counts().values})\n",
    "category_counts = pd.concat([df1_cats,df2_cats,df3_cats,df4_cats,df5_cats],axis=1)\n",
    "category_counts.head()"
   ]
  },
  {
   "cell_type": "code",
   "execution_count": 46,
   "metadata": {
    "collapsed": false,
    "scrolled": false
   },
   "outputs": [
    {
     "data": {
      "text/plain": [
       "[u'DVD/CD Players',\n",
       " u'Medicines',\n",
       " u'Stereo Items & Accessories',\n",
       " u'Baby - Strollers, car seats, playpen, etc.',\n",
       " u'Musical Instruments - Other - Over $250',\n",
       " u'Photographic Film',\n",
       " u'PDA - Personal Data Assistants',\n",
       " u'Fish/Game']"
      ]
     },
     "execution_count": 46,
     "metadata": {},
     "output_type": "execute_result"
    }
   ],
   "source": [
    "list(set(df1.Item.value_counts().head(20).index)-set(df2.Item.value_counts().head(20).index))"
   ]
  },
  {
   "cell_type": "markdown",
   "metadata": {},
   "source": [
    "# Target Analysis"
   ]
  },
  {
   "cell_type": "code",
   "execution_count": 47,
   "metadata": {
    "collapsed": false
   },
   "outputs": [
    {
     "data": {
      "text/plain": [
       "Deny               35502\n",
       "Approve in Full    28438\n",
       "Settle             23157\n",
       "NaN                10134\n",
       "Name: Disposition, dtype: int64"
      ]
     },
     "execution_count": 47,
     "metadata": {},
     "output_type": "execute_result"
    }
   ],
   "source": [
    "df1.Disposition.value_counts(dropna=False)"
   ]
  },
  {
   "cell_type": "code",
   "execution_count": 48,
   "metadata": {
    "collapsed": false
   },
   "outputs": [
    {
     "data": {
      "text/plain": [
       "Deny               0.365130\n",
       "Approve in Full    0.292479\n",
       "Settle             0.238165\n",
       "NaN                0.104226\n",
       "Name: Disposition, dtype: float64"
      ]
     },
     "execution_count": 48,
     "metadata": {},
     "output_type": "execute_result"
    }
   ],
   "source": [
    "df1.Disposition.value_counts(dropna=False)/len(df1)"
   ]
  },
  {
   "cell_type": "code",
   "execution_count": 49,
   "metadata": {
    "collapsed": false
   },
   "outputs": [
    {
     "data": {
      "text/plain": [
       "Disposition           \n",
       "Approve in Full  count    2.822500e+04\n",
       "                 mean     1.439967e+02\n",
       "                 std      3.385402e+02\n",
       "                 min      0.000000e+00\n",
       "                 25%      2.800000e+01\n",
       "                 50%      6.000000e+01\n",
       "                 75%      1.408700e+02\n",
       "                 max      1.306000e+04\n",
       "Deny             count    3.517000e+04\n",
       "                 mean     2.945767e+05\n",
       "                 std      3.266434e+07\n",
       "                 min      0.000000e+00\n",
       "                 25%      1.000000e+02\n",
       "                 50%      2.720000e+02\n",
       "                 75%      7.500000e+02\n",
       "                 max      5.000000e+09\n",
       "Settle           count    2.294300e+04\n",
       "                 mean     6.808751e+02\n",
       "                 std      1.426614e+04\n",
       "                 min      0.000000e+00\n",
       "                 25%      1.009800e+02\n",
       "                 50%      2.100000e+02\n",
       "                 75%      4.449400e+02\n",
       "                 max      2.000000e+06\n",
       "Name: Claim_Amount, dtype: float64"
      ]
     },
     "execution_count": 49,
     "metadata": {},
     "output_type": "execute_result"
    }
   ],
   "source": [
    "df1.groupby('Disposition')['Claim_Amount'].describe()"
   ]
  },
  {
   "cell_type": "code",
   "execution_count": 50,
   "metadata": {
    "collapsed": false
   },
   "outputs": [
    {
     "data": {
      "text/plain": [
       "<matplotlib.axes._subplots.AxesSubplot at 0x116ec1390>"
      ]
     },
     "execution_count": 50,
     "metadata": {},
     "output_type": "execute_result"
    },
    {
     "data": {
      "image/png": "[encoded data removed]",
      "text/plain": [
       "<matplotlib.figure.Figure at 0x116ef8a10>"
      ]
     },
     "metadata": {},
     "output_type": "display_data"
    }
   ],
   "source": [
    "sns.boxplot(x='Disposition',y='Claim_Amount',data=df1)"
   ]
  },
  {
   "cell_type": "code",
   "execution_count": 51,
   "metadata": {
    "collapsed": false
   },
   "outputs": [
    {
     "data": {
      "text/html": [
       "<div>\n",
       "<table border=\"1\" class=\"dataframe\">\n",
       "  <thead>\n",
       "    <tr style=\"text-align: right;\">\n",
       "      <th></th>\n",
       "      <th>Claim_Number</th>\n",
       "      <th>Date_Received</th>\n",
       "      <th>Incident_Date</th>\n",
       "      <th>Airport_Code</th>\n",
       "      <th>Airport_Name</th>\n",
       "      <th>Airline_Name</th>\n",
       "      <th>Claim_Type</th>\n",
       "      <th>Claim_Site</th>\n",
       "      <th>Item</th>\n",
       "      <th>Claim_Amount</th>\n",
       "      <th>Status</th>\n",
       "      <th>Close_Amount</th>\n",
       "      <th>Disposition</th>\n",
       "    </tr>\n",
       "  </thead>\n",
       "  <tbody>\n",
       "    <tr>\n",
       "      <th>35811</th>\n",
       "      <td>2004052653605</td>\n",
       "      <td>2004-05-26 00:00:00</td>\n",
       "      <td>2002-09-05 00:00:00</td>\n",
       "      <td>NaN</td>\n",
       "      <td>NaN</td>\n",
       "      <td>NaN</td>\n",
       "      <td>Personal Injury</td>\n",
       "      <td>Other</td>\n",
       "      <td>NaN</td>\n",
       "      <td>5.000000e+09</td>\n",
       "      <td>Canceled</td>\n",
       "      <td>0.0</td>\n",
       "      <td>NaN</td>\n",
       "    </tr>\n",
       "    <tr>\n",
       "      <th>49122</th>\n",
       "      <td>2004110866757</td>\n",
       "      <td>2004-11-04 00:00:00</td>\n",
       "      <td>NaN</td>\n",
       "      <td>C</td>\n",
       "      <td>Civil Aviation, Non TSA manned Airport</td>\n",
       "      <td>Civil Aviation - Non-Commercial Carrier</td>\n",
       "      <td>Passenger Property Loss</td>\n",
       "      <td>Other</td>\n",
       "      <td>Other</td>\n",
       "      <td>2.500000e+09</td>\n",
       "      <td>Denied</td>\n",
       "      <td>0.0</td>\n",
       "      <td>Deny</td>\n",
       "    </tr>\n",
       "    <tr>\n",
       "      <th>50567</th>\n",
       "      <td>2004121669173</td>\n",
       "      <td>2004-11-23 00:00:00</td>\n",
       "      <td>2004-05-23 00:00:00</td>\n",
       "      <td>NaN</td>\n",
       "      <td>NaN</td>\n",
       "      <td>NaN</td>\n",
       "      <td>Passenger Property Loss</td>\n",
       "      <td>Other</td>\n",
       "      <td>Other</td>\n",
       "      <td>2.500000e+09</td>\n",
       "      <td>Denied</td>\n",
       "      <td>0.0</td>\n",
       "      <td>Deny</td>\n",
       "    </tr>\n",
       "    <tr>\n",
       "      <th>69190</th>\n",
       "      <td>2005080990257</td>\n",
       "      <td>2005-08-01 00:00:00</td>\n",
       "      <td>2005-06-13 00:00:00</td>\n",
       "      <td>PHX</td>\n",
       "      <td>Phoenix Sky Harbor International</td>\n",
       "      <td>Sun Country Airlines Inc</td>\n",
       "      <td>Personal Injury</td>\n",
       "      <td>Checkpoint</td>\n",
       "      <td>Medicines</td>\n",
       "      <td>1.250000e+08</td>\n",
       "      <td>Denied</td>\n",
       "      <td>0.0</td>\n",
       "      <td>Deny</td>\n",
       "    </tr>\n",
       "    <tr>\n",
       "      <th>82901</th>\n",
       "      <td>2006032803795</td>\n",
       "      <td>2006-03-27 00:00:00</td>\n",
       "      <td>2004-06-01 00:00:00</td>\n",
       "      <td>PHX</td>\n",
       "      <td>Phoenix Sky Harbor International</td>\n",
       "      <td>NaN</td>\n",
       "      <td>Personal Injury</td>\n",
       "      <td>Other</td>\n",
       "      <td>NaN</td>\n",
       "      <td>5.000000e+09</td>\n",
       "      <td>In litigation</td>\n",
       "      <td>NaN</td>\n",
       "      <td>Deny</td>\n",
       "    </tr>\n",
       "    <tr>\n",
       "      <th>86400</th>\n",
       "      <td>2006060907675</td>\n",
       "      <td>2006-06-06 00:00:00</td>\n",
       "      <td>2006-04-19 00:00:00</td>\n",
       "      <td>LAX</td>\n",
       "      <td>Los Angeles International Airport</td>\n",
       "      <td>America West</td>\n",
       "      <td>Personal Injury</td>\n",
       "      <td>Checked Baggage</td>\n",
       "      <td>Currency; Locks; Other</td>\n",
       "      <td>1.000000e+08</td>\n",
       "      <td>Denied</td>\n",
       "      <td>0.0</td>\n",
       "      <td>Deny</td>\n",
       "    </tr>\n",
       "  </tbody>\n",
       "</table>\n",
       "</div>"
      ],
      "text/plain": [
       "        Claim_Number        Date_Received        Incident_Date Airport_Code  \\\n",
       "35811  2004052653605  2004-05-26 00:00:00  2002-09-05 00:00:00          NaN   \n",
       "49122  2004110866757  2004-11-04 00:00:00                  NaN            C   \n",
       "50567  2004121669173  2004-11-23 00:00:00  2004-05-23 00:00:00          NaN   \n",
       "69190  2005080990257  2005-08-01 00:00:00  2005-06-13 00:00:00          PHX   \n",
       "82901  2006032803795  2006-03-27 00:00:00  2004-06-01 00:00:00          PHX   \n",
       "86400  2006060907675  2006-06-06 00:00:00  2006-04-19 00:00:00          LAX   \n",
       "\n",
       "                                 Airport_Name  \\\n",
       "35811                                     NaN   \n",
       "49122  Civil Aviation, Non TSA manned Airport   \n",
       "50567                                     NaN   \n",
       "69190        Phoenix Sky Harbor International   \n",
       "82901        Phoenix Sky Harbor International   \n",
       "86400       Los Angeles International Airport   \n",
       "\n",
       "                                  Airline_Name               Claim_Type  \\\n",
       "35811                                      NaN          Personal Injury   \n",
       "49122  Civil Aviation - Non-Commercial Carrier  Passenger Property Loss   \n",
       "50567                                      NaN  Passenger Property Loss   \n",
       "69190                 Sun Country Airlines Inc          Personal Injury   \n",
       "82901                                      NaN          Personal Injury   \n",
       "86400                             America West          Personal Injury   \n",
       "\n",
       "            Claim_Site                    Item  Claim_Amount         Status  \\\n",
       "35811            Other                     NaN  5.000000e+09       Canceled   \n",
       "49122            Other                   Other  2.500000e+09         Denied   \n",
       "50567            Other                   Other  2.500000e+09         Denied   \n",
       "69190       Checkpoint               Medicines  1.250000e+08         Denied   \n",
       "82901            Other                     NaN  5.000000e+09  In litigation   \n",
       "86400  Checked Baggage  Currency; Locks; Other  1.000000e+08         Denied   \n",
       "\n",
       "       Close_Amount Disposition  \n",
       "35811           0.0         NaN  \n",
       "49122           0.0        Deny  \n",
       "50567           0.0        Deny  \n",
       "69190           0.0        Deny  \n",
       "82901           NaN        Deny  \n",
       "86400           0.0        Deny  "
      ]
     },
     "execution_count": 51,
     "metadata": {},
     "output_type": "execute_result"
    }
   ],
   "source": [
    "df1[np.abs(df1.Claim_Amount-df1.Claim_Amount.mean()) > 3*df1.Claim_Amount.std()]"
   ]
  },
  {
   "cell_type": "code",
   "execution_count": 52,
   "metadata": {
    "collapsed": true
   },
   "outputs": [],
   "source": [
    "df1=df1[np.abs(df1.Claim_Amount-df1.Claim_Amount.mean())<=3*df1.Claim_Amount.std()]"
   ]
  },
  {
   "cell_type": "code",
   "execution_count": 73,
   "metadata": {
    "collapsed": false
   },
   "outputs": [
    {
     "data": {
      "text/plain": [
       "<seaborn.axisgrid.FacetGrid at 0x123219210>"
      ]
     },
     "execution_count": 73,
     "metadata": {},
     "output_type": "execute_result"
    },
    {
     "data": {
      "image/png": "[encoded data removed]",
      "text/plain": [
       "<matplotlib.figure.Figure at 0x123219410>"
      ]
     },
     "metadata": {},
     "output_type": "display_data"
    }
   ],
   "source": [
    "fig = sns.FacetGrid(df1[~df1.Disposition.isin(['Settle'])], hue='Disposition', aspect=4)\n",
    "fig.map(sns.kdeplot, 'Claim_Amount', shade=True)\n",
    "#oldest = df1['Claim_Amount'].max()\n",
    "fig.set(xlim=(0,1000))\n",
    "fig.set(title='Distribution of Claim_Amt Grouped by Disposition')\n",
    "fig.add_legend()"
   ]
  },
  {
   "cell_type": "code",
   "execution_count": 54,
   "metadata": {
    "collapsed": false
   },
   "outputs": [
    {
     "data": {
      "text/plain": [
       "Disposition\n",
       "Approve in Full    Axes(0.125,0.125;0.775x0.755)\n",
       "Deny               Axes(0.125,0.125;0.775x0.755)\n",
       "Settle             Axes(0.125,0.125;0.775x0.755)\n",
       "Name: Claim_Amount, dtype: object"
      ]
     },
     "execution_count": 54,
     "metadata": {},
     "output_type": "execute_result"
    },
    {
     "data": {
      "image/png": "[encoded data removed]",
      "text/plain": [
       "<matplotlib.figure.Figure at 0x118dfadd0>"
      ]
     },
     "metadata": {},
     "output_type": "display_data"
    }
   ],
   "source": [
    "df1.groupby('Disposition')['Claim_Amount'].hist(bins=np.linspace(0,500,20))"
   ]
  },
  {
   "cell_type": "code",
   "execution_count": 55,
   "metadata": {
    "collapsed": false
   },
   "outputs": [
    {
     "data": {
      "text/plain": [
       "<matplotlib.axes._subplots.AxesSubplot at 0x10cce6690>"
      ]
     },
     "execution_count": 55,
     "metadata": {},
     "output_type": "execute_result"
    },
    {
     "data": {
      "image/png": "[encoded data removed]",
      "text/plain": [
       "<matplotlib.figure.Figure at 0x117ea2350>"
      ]
     },
     "metadata": {},
     "output_type": "display_data"
    }
   ],
   "source": [
    "df1.Claim_Amount.plot.hist(by=df1.Disposition, bins=np.linspace(0,1000,10))"
   ]
  },
  {
   "cell_type": "code",
   "execution_count": 56,
   "metadata": {
    "collapsed": false
   },
   "outputs": [
    {
     "data": {
      "text/plain": [
       "<matplotlib.axes._subplots.AxesSubplot at 0x1187a8bd0>"
      ]
     },
     "execution_count": 56,
     "metadata": {},
     "output_type": "execute_result"
    },
    {
     "data": {
      "image/png": "[encoded data removed]",
      "text/plain": [
       "<matplotlib.figure.Figure at 0x11766ea90>"
      ]
     },
     "metadata": {},
     "output_type": "display_data"
    }
   ],
   "source": [
    "df1[df1.Disposition=='Approve in Full'].Claim_Amount.hist(bins=np.linspace(0,1000,50))"
   ]
  },
  {
   "cell_type": "code",
   "execution_count": 57,
   "metadata": {
    "collapsed": false
   },
   "outputs": [
    {
     "data": {
      "text/plain": [
       "<matplotlib.axes._subplots.AxesSubplot at 0x117473f90>"
      ]
     },
     "execution_count": 57,
     "metadata": {},
     "output_type": "execute_result"
    },
    {
     "data": {
      "image/png": "[encoded data removed]",
      "text/plain": [
       "<matplotlib.figure.Figure at 0x11766ef90>"
      ]
     },
     "metadata": {},
     "output_type": "display_data"
    }
   ],
   "source": [
    "df1[df1.Disposition=='Settle'].Claim_Amount.plot.hist(bins=np.linspace(0,1000,50))"
   ]
  },
  {
   "cell_type": "code",
   "execution_count": 58,
   "metadata": {
    "collapsed": false
   },
   "outputs": [
    {
     "data": {
      "text/plain": [
       "<matplotlib.axes._subplots.AxesSubplot at 0x116dc8450>"
      ]
     },
     "execution_count": 58,
     "metadata": {},
     "output_type": "execute_result"
    },
    {
     "data": {
      "image/png": "[encoded data removed]",
      "text/plain": [
       "<matplotlib.figure.Figure at 0x11757be10>"
      ]
     },
     "metadata": {},
     "output_type": "display_data"
    }
   ],
   "source": [
    "df1[df1.Disposition=='Deny'].Claim_Amount.plot.hist(bins=np.linspace(0,1000,50))"
   ]
  },
  {
   "cell_type": "code",
   "execution_count": 59,
   "metadata": {
    "collapsed": false
   },
   "outputs": [
    {
     "data": {
      "text/plain": [
       "(0, 200000)"
      ]
     },
     "execution_count": 59,
     "metadata": {},
     "output_type": "execute_result"
    },
    {
     "data": {
      "image/png": "[encoded data removed]",
      "text/plain": [
       "<matplotlib.figure.Figure at 0x1172cb690>"
      ]
     },
     "metadata": {},
     "output_type": "display_data"
    }
   ],
   "source": [
    "fig = sns.stripplot(x='Disposition',y='Claim_Amount',data=df1, jitter=True)\n",
    "fig.set_ylim(0,200000)"
   ]
  },
  {
   "cell_type": "code",
   "execution_count": 60,
   "metadata": {
    "collapsed": false
   },
   "outputs": [
    {
     "data": {
      "text/plain": [
       "<seaborn.axisgrid.FacetGrid at 0x11789c510>"
      ]
     },
     "execution_count": 60,
     "metadata": {},
     "output_type": "execute_result"
    },
    {
     "data": {
      "image/png": "[encoded data removed]",
      "text/plain": [
       "<matplotlib.figure.Figure at 0x117798090>"
      ]
     },
     "metadata": {},
     "output_type": "display_data"
    }
   ],
   "source": [
    "sns.factorplot(x='Disposition',y='Claim_Amount',data=df1, kind='bar')\n",
    "#fig.set_ylim(0,200000)"
   ]
  },
  {
   "cell_type": "code",
   "execution_count": 61,
   "metadata": {
    "collapsed": false
   },
   "outputs": [
    {
     "data": {
      "text/html": [
       "<div>\n",
       "<table border=\"1\" class=\"dataframe\">\n",
       "  <thead>\n",
       "    <tr style=\"text-align: right;\">\n",
       "      <th></th>\n",
       "      <th>Claim_Number</th>\n",
       "      <th>Date_Received</th>\n",
       "      <th>Incident_Date</th>\n",
       "      <th>Airport_Code</th>\n",
       "      <th>Airport_Name</th>\n",
       "      <th>Airline_Name</th>\n",
       "      <th>Claim_Type</th>\n",
       "      <th>Claim_Site</th>\n",
       "      <th>Item</th>\n",
       "      <th>Claim_Amount</th>\n",
       "      <th>Status</th>\n",
       "      <th>Close_Amount</th>\n",
       "      <th>Disposition</th>\n",
       "    </tr>\n",
       "  </thead>\n",
       "  <tbody>\n",
       "    <tr>\n",
       "      <th>2603</th>\n",
       "      <td>0702509M</td>\n",
       "      <td>2003-02-13 00:00:00</td>\n",
       "      <td>2002-12-31 00:00:00</td>\n",
       "      <td>MCO</td>\n",
       "      <td>Orlando International Airport</td>\n",
       "      <td>UAL</td>\n",
       "      <td>Property Damage</td>\n",
       "      <td>Checked Baggage</td>\n",
       "      <td>Locks</td>\n",
       "      <td>0.0</td>\n",
       "      <td>Denied</td>\n",
       "      <td>0.00</td>\n",
       "      <td>Deny</td>\n",
       "    </tr>\n",
       "    <tr>\n",
       "      <th>10289</th>\n",
       "      <td>0708149M</td>\n",
       "      <td>2003-07-08 00:00:00</td>\n",
       "      <td>2003-06-13 00:00:00</td>\n",
       "      <td>OAK</td>\n",
       "      <td>Metropolitan Oakland International</td>\n",
       "      <td>UAL</td>\n",
       "      <td>Passenger Property Loss</td>\n",
       "      <td>Checked Baggage</td>\n",
       "      <td>Jewelry - Fine</td>\n",
       "      <td>0.0</td>\n",
       "      <td>Denied</td>\n",
       "      <td>0.00</td>\n",
       "      <td>Deny</td>\n",
       "    </tr>\n",
       "    <tr>\n",
       "      <th>10933</th>\n",
       "      <td>0715177M</td>\n",
       "      <td>2003-07-15 00:00:00</td>\n",
       "      <td>2003-07-01 00:00:00</td>\n",
       "      <td>SEA</td>\n",
       "      <td>Seattle-Tacoma International</td>\n",
       "      <td>NaN</td>\n",
       "      <td>Passenger Property Loss</td>\n",
       "      <td>Checkpoint</td>\n",
       "      <td>Other</td>\n",
       "      <td>0.0</td>\n",
       "      <td>Denied</td>\n",
       "      <td>0.00</td>\n",
       "      <td>Deny</td>\n",
       "    </tr>\n",
       "    <tr>\n",
       "      <th>16885</th>\n",
       "      <td>0929001M</td>\n",
       "      <td>2003-09-29 00:00:00</td>\n",
       "      <td>2003-08-30 00:00:00</td>\n",
       "      <td>SAN</td>\n",
       "      <td>San Diego International</td>\n",
       "      <td>UAL</td>\n",
       "      <td>Passenger Property Loss</td>\n",
       "      <td>Checked Baggage</td>\n",
       "      <td>Other</td>\n",
       "      <td>0.0</td>\n",
       "      <td>Denied</td>\n",
       "      <td>0.00</td>\n",
       "      <td>Deny</td>\n",
       "    </tr>\n",
       "    <tr>\n",
       "      <th>17088</th>\n",
       "      <td>1002092M</td>\n",
       "      <td>2003-10-02 00:00:00</td>\n",
       "      <td>2003-09-24 00:00:00</td>\n",
       "      <td>MCO</td>\n",
       "      <td>Orlando International Airport</td>\n",
       "      <td>NaN</td>\n",
       "      <td>NaN</td>\n",
       "      <td>Checkpoint</td>\n",
       "      <td>Cell Phones</td>\n",
       "      <td>0.0</td>\n",
       "      <td>Denied</td>\n",
       "      <td>0.00</td>\n",
       "      <td>Deny</td>\n",
       "    </tr>\n",
       "    <tr>\n",
       "      <th>18740</th>\n",
       "      <td>1022232M</td>\n",
       "      <td>2003-10-22 00:00:00</td>\n",
       "      <td>2003-09-23 00:00:00</td>\n",
       "      <td>HOU</td>\n",
       "      <td>William P. Hobby</td>\n",
       "      <td>Continental Airlines</td>\n",
       "      <td>Property Damage</td>\n",
       "      <td>Checked Baggage</td>\n",
       "      <td>Computer - Laptop</td>\n",
       "      <td>0.0</td>\n",
       "      <td>Denied</td>\n",
       "      <td>0.00</td>\n",
       "      <td>Deny</td>\n",
       "    </tr>\n",
       "    <tr>\n",
       "      <th>21347</th>\n",
       "      <td>1204011M</td>\n",
       "      <td>2003-12-04 00:00:00</td>\n",
       "      <td>2003-10-08 00:00:00</td>\n",
       "      <td>PHL</td>\n",
       "      <td>Philadelphia International Airport</td>\n",
       "      <td>British Airways</td>\n",
       "      <td>NaN</td>\n",
       "      <td>Checked Baggage</td>\n",
       "      <td>Other</td>\n",
       "      <td>0.0</td>\n",
       "      <td>Denied</td>\n",
       "      <td>0.00</td>\n",
       "      <td>Deny</td>\n",
       "    </tr>\n",
       "    <tr>\n",
       "      <th>22896</th>\n",
       "      <td>1217613M</td>\n",
       "      <td>2003-12-17 00:00:00</td>\n",
       "      <td>2003-11-15 00:00:00</td>\n",
       "      <td>CLE</td>\n",
       "      <td>Cleveland Hopkins International</td>\n",
       "      <td>American Airlines</td>\n",
       "      <td>Passenger Property Loss</td>\n",
       "      <td>Checked Baggage</td>\n",
       "      <td>Jewelry - Fine</td>\n",
       "      <td>0.0</td>\n",
       "      <td>Denied</td>\n",
       "      <td>0.00</td>\n",
       "      <td>Deny</td>\n",
       "    </tr>\n",
       "    <tr>\n",
       "      <th>25343</th>\n",
       "      <td>0115228M</td>\n",
       "      <td>2004-01-15 00:00:00</td>\n",
       "      <td>2003-10-13 00:00:00</td>\n",
       "      <td>JFK</td>\n",
       "      <td>John F. Kennedy International</td>\n",
       "      <td>Virgin Atlantic</td>\n",
       "      <td>Passenger Property Loss</td>\n",
       "      <td>Checkpoint</td>\n",
       "      <td>Other</td>\n",
       "      <td>0.0</td>\n",
       "      <td>Denied</td>\n",
       "      <td>0.00</td>\n",
       "      <td>Deny</td>\n",
       "    </tr>\n",
       "    <tr>\n",
       "      <th>29820</th>\n",
       "      <td>2004051050796</td>\n",
       "      <td>2004-03-10 00:00:00</td>\n",
       "      <td>2004-01-07 00:00:00</td>\n",
       "      <td>STL</td>\n",
       "      <td>Lambert St. Louis International</td>\n",
       "      <td>American Airlines</td>\n",
       "      <td>Passenger Property Loss</td>\n",
       "      <td>Checkpoint</td>\n",
       "      <td>Jewelry - Fine</td>\n",
       "      <td>0.0</td>\n",
       "      <td>Denied</td>\n",
       "      <td>0.00</td>\n",
       "      <td>Deny</td>\n",
       "    </tr>\n",
       "    <tr>\n",
       "      <th>31246</th>\n",
       "      <td>2004043050268</td>\n",
       "      <td>2004-03-24 00:00:00</td>\n",
       "      <td>2004-03-14 00:00:00</td>\n",
       "      <td>IAD</td>\n",
       "      <td>Washington Dulles International</td>\n",
       "      <td>UAL</td>\n",
       "      <td>NaN</td>\n",
       "      <td>Checked Baggage</td>\n",
       "      <td>Locks</td>\n",
       "      <td>0.0</td>\n",
       "      <td>Denied</td>\n",
       "      <td>0.00</td>\n",
       "      <td>Deny</td>\n",
       "    </tr>\n",
       "    <tr>\n",
       "      <th>31303</th>\n",
       "      <td>2004051552298</td>\n",
       "      <td>2004-03-24 00:00:00</td>\n",
       "      <td>2004-03-17 00:00:00</td>\n",
       "      <td>MCO</td>\n",
       "      <td>Orlando International Airport</td>\n",
       "      <td>NaN</td>\n",
       "      <td>Passenger Property Loss</td>\n",
       "      <td>Checkpoint</td>\n",
       "      <td>Other</td>\n",
       "      <td>0.0</td>\n",
       "      <td>Denied</td>\n",
       "      <td>0.00</td>\n",
       "      <td>Deny</td>\n",
       "    </tr>\n",
       "    <tr>\n",
       "      <th>32484</th>\n",
       "      <td>2004050550512</td>\n",
       "      <td>2004-04-15 00:00:00</td>\n",
       "      <td>2004-03-18 00:00:00</td>\n",
       "      <td>SEA</td>\n",
       "      <td>Seattle-Tacoma International</td>\n",
       "      <td>Alaska Airlines</td>\n",
       "      <td>Passenger Property Loss</td>\n",
       "      <td>Checked Baggage</td>\n",
       "      <td>Other</td>\n",
       "      <td>0.0</td>\n",
       "      <td>Denied</td>\n",
       "      <td>0.00</td>\n",
       "      <td>Deny</td>\n",
       "    </tr>\n",
       "    <tr>\n",
       "      <th>33179</th>\n",
       "      <td>2004060354538</td>\n",
       "      <td>2004-04-21 00:00:00</td>\n",
       "      <td>2004-02-04 00:00:00</td>\n",
       "      <td>DFW</td>\n",
       "      <td>Dallas-Fort Worth International Airport</td>\n",
       "      <td>Qantus Airways</td>\n",
       "      <td>Passenger Property Loss</td>\n",
       "      <td>Checked Baggage</td>\n",
       "      <td>Luggage (all types including footlockers)</td>\n",
       "      <td>0.0</td>\n",
       "      <td>Denied</td>\n",
       "      <td>0.00</td>\n",
       "      <td>Deny</td>\n",
       "    </tr>\n",
       "    <tr>\n",
       "      <th>33560</th>\n",
       "      <td>2004060254180</td>\n",
       "      <td>2004-04-23 00:00:00</td>\n",
       "      <td>2004-03-13 00:00:00</td>\n",
       "      <td>PHL</td>\n",
       "      <td>Philadelphia International Airport</td>\n",
       "      <td>USAir</td>\n",
       "      <td>Property Damage</td>\n",
       "      <td>Checked Baggage</td>\n",
       "      <td>Locks</td>\n",
       "      <td>0.0</td>\n",
       "      <td>Denied</td>\n",
       "      <td>0.00</td>\n",
       "      <td>Deny</td>\n",
       "    </tr>\n",
       "    <tr>\n",
       "      <th>33569</th>\n",
       "      <td>2004060254270</td>\n",
       "      <td>2004-04-23 00:00:00</td>\n",
       "      <td>2004-04-13 00:00:00</td>\n",
       "      <td>DEN</td>\n",
       "      <td>Denver International Airport</td>\n",
       "      <td>Continental Airlines</td>\n",
       "      <td>Passenger Property Loss</td>\n",
       "      <td>Checked Baggage</td>\n",
       "      <td>Cameras - Digital</td>\n",
       "      <td>0.0</td>\n",
       "      <td>Denied</td>\n",
       "      <td>0.00</td>\n",
       "      <td>Deny</td>\n",
       "    </tr>\n",
       "    <tr>\n",
       "      <th>33575</th>\n",
       "      <td>2004060254365</td>\n",
       "      <td>2004-04-23 00:00:00</td>\n",
       "      <td>2004-03-31 00:00:00</td>\n",
       "      <td>PHX</td>\n",
       "      <td>Phoenix Sky Harbor International</td>\n",
       "      <td>USAir</td>\n",
       "      <td>Passenger Property Loss</td>\n",
       "      <td>Checked Baggage</td>\n",
       "      <td>Other</td>\n",
       "      <td>0.0</td>\n",
       "      <td>Denied</td>\n",
       "      <td>0.00</td>\n",
       "      <td>Deny</td>\n",
       "    </tr>\n",
       "    <tr>\n",
       "      <th>33577</th>\n",
       "      <td>2004060254369</td>\n",
       "      <td>2004-04-23 00:00:00</td>\n",
       "      <td>2004-03-15 00:00:00</td>\n",
       "      <td>TUS</td>\n",
       "      <td>Tucson International</td>\n",
       "      <td>NaN</td>\n",
       "      <td>Property Damage</td>\n",
       "      <td>Checked Baggage</td>\n",
       "      <td>Locks</td>\n",
       "      <td>0.0</td>\n",
       "      <td>Denied</td>\n",
       "      <td>0.00</td>\n",
       "      <td>Deny</td>\n",
       "    </tr>\n",
       "    <tr>\n",
       "      <th>33579</th>\n",
       "      <td>2004060254385</td>\n",
       "      <td>2004-04-23 00:00:00</td>\n",
       "      <td>2004-04-11 00:00:00</td>\n",
       "      <td>PHX</td>\n",
       "      <td>Phoenix Sky Harbor International</td>\n",
       "      <td>America West</td>\n",
       "      <td>Passenger Property Loss</td>\n",
       "      <td>Checked Baggage</td>\n",
       "      <td>Other</td>\n",
       "      <td>0.0</td>\n",
       "      <td>Denied</td>\n",
       "      <td>0.00</td>\n",
       "      <td>Deny</td>\n",
       "    </tr>\n",
       "    <tr>\n",
       "      <th>33941</th>\n",
       "      <td>2004052453252</td>\n",
       "      <td>2004-05-03 00:00:00</td>\n",
       "      <td>2004-04-17 00:00:00</td>\n",
       "      <td>LAX</td>\n",
       "      <td>Los Angeles International Airport</td>\n",
       "      <td>American Airlines</td>\n",
       "      <td>Property Damage</td>\n",
       "      <td>Checked Baggage</td>\n",
       "      <td>Other</td>\n",
       "      <td>0.0</td>\n",
       "      <td>Denied</td>\n",
       "      <td>0.00</td>\n",
       "      <td>Deny</td>\n",
       "    </tr>\n",
       "    <tr>\n",
       "      <th>34972</th>\n",
       "      <td>2004061455599</td>\n",
       "      <td>2004-05-10 00:00:00</td>\n",
       "      <td>2004-04-23 00:00:00</td>\n",
       "      <td>BWI</td>\n",
       "      <td>Baltimore/Washington Intl Thurgood Marshall</td>\n",
       "      <td>American Airlines</td>\n",
       "      <td>Passenger Property Loss</td>\n",
       "      <td>Checked Baggage</td>\n",
       "      <td>Cameras - Digital</td>\n",
       "      <td>0.0</td>\n",
       "      <td>Denied</td>\n",
       "      <td>0.00</td>\n",
       "      <td>Deny</td>\n",
       "    </tr>\n",
       "    <tr>\n",
       "      <th>35263</th>\n",
       "      <td>2004061655960</td>\n",
       "      <td>2004-05-13 00:00:00</td>\n",
       "      <td>2004-04-15 00:00:00</td>\n",
       "      <td>ATL</td>\n",
       "      <td>Hartsfield-Jackson Atlanta International Airport</td>\n",
       "      <td>Delta Air Lines</td>\n",
       "      <td>Passenger Property Loss</td>\n",
       "      <td>Checkpoint</td>\n",
       "      <td>Computer - Laptop</td>\n",
       "      <td>0.0</td>\n",
       "      <td>Denied</td>\n",
       "      <td>0.00</td>\n",
       "      <td>Deny</td>\n",
       "    </tr>\n",
       "    <tr>\n",
       "      <th>36540</th>\n",
       "      <td>2004062256941</td>\n",
       "      <td>2004-05-28 00:00:00</td>\n",
       "      <td>2004-02-17 00:00:00</td>\n",
       "      <td>IAD</td>\n",
       "      <td>Washington Dulles International</td>\n",
       "      <td>Virgin Atlantic</td>\n",
       "      <td>Property Damage</td>\n",
       "      <td>Checked Baggage</td>\n",
       "      <td>Luggage (all types including footlockers)</td>\n",
       "      <td>0.0</td>\n",
       "      <td>Approved</td>\n",
       "      <td>335.00</td>\n",
       "      <td>Approve in Full</td>\n",
       "    </tr>\n",
       "    <tr>\n",
       "      <th>36541</th>\n",
       "      <td>2004062256942</td>\n",
       "      <td>2004-05-28 00:00:00</td>\n",
       "      <td>2004-05-19 00:00:00</td>\n",
       "      <td>ONT</td>\n",
       "      <td>Ontario International</td>\n",
       "      <td>American Airlines</td>\n",
       "      <td>Passenger Property Loss</td>\n",
       "      <td>Checked Baggage</td>\n",
       "      <td>Other</td>\n",
       "      <td>0.0</td>\n",
       "      <td>Approved</td>\n",
       "      <td>179.95</td>\n",
       "      <td>Approve in Full</td>\n",
       "    </tr>\n",
       "    <tr>\n",
       "      <th>36924</th>\n",
       "      <td>2004062857559</td>\n",
       "      <td>2004-06-03 00:00:00</td>\n",
       "      <td>2004-04-05 00:00:00</td>\n",
       "      <td>MSP</td>\n",
       "      <td>Minneapolis/ St.Paul International Airport</td>\n",
       "      <td>Northwest Airlines</td>\n",
       "      <td>Property Damage</td>\n",
       "      <td>Checked Baggage</td>\n",
       "      <td>Cameras - Digital</td>\n",
       "      <td>0.0</td>\n",
       "      <td>Denied</td>\n",
       "      <td>0.00</td>\n",
       "      <td>Deny</td>\n",
       "    </tr>\n",
       "    <tr>\n",
       "      <th>37299</th>\n",
       "      <td>2004062957836</td>\n",
       "      <td>2004-06-07 00:00:00</td>\n",
       "      <td>2004-05-11 00:00:00</td>\n",
       "      <td>FAT</td>\n",
       "      <td>Fresno Yosemite International</td>\n",
       "      <td>American Airlines</td>\n",
       "      <td>Property Damage</td>\n",
       "      <td>Checked Baggage</td>\n",
       "      <td>Luggage (all types including footlockers)</td>\n",
       "      <td>0.0</td>\n",
       "      <td>Settled</td>\n",
       "      <td>50.00</td>\n",
       "      <td>Settle</td>\n",
       "    </tr>\n",
       "    <tr>\n",
       "      <th>37315</th>\n",
       "      <td>2004062857673</td>\n",
       "      <td>2004-06-08 00:00:00</td>\n",
       "      <td>2004-06-01 00:00:00</td>\n",
       "      <td>IAH</td>\n",
       "      <td>Houston - George Bush Intercontinental Airport</td>\n",
       "      <td>NaN</td>\n",
       "      <td>Property Damage</td>\n",
       "      <td>Checked Baggage</td>\n",
       "      <td>Computer - Laptop</td>\n",
       "      <td>0.0</td>\n",
       "      <td>Approved</td>\n",
       "      <td>299.00</td>\n",
       "      <td>Approve in Full</td>\n",
       "    </tr>\n",
       "    <tr>\n",
       "      <th>37704</th>\n",
       "      <td>2005080590120</td>\n",
       "      <td>2004-06-10 00:00:00</td>\n",
       "      <td>2003-11-17 00:00:00</td>\n",
       "      <td>DTW</td>\n",
       "      <td>Detroit Metropolitan Wayne County Airport</td>\n",
       "      <td>NaN</td>\n",
       "      <td>Passenger Property Loss</td>\n",
       "      <td>Checked Baggage</td>\n",
       "      <td>Cameras - Digital</td>\n",
       "      <td>0.0</td>\n",
       "      <td>Denied</td>\n",
       "      <td>0.00</td>\n",
       "      <td>Deny</td>\n",
       "    </tr>\n",
       "    <tr>\n",
       "      <th>38071</th>\n",
       "      <td>2004070658342</td>\n",
       "      <td>2004-06-16 00:00:00</td>\n",
       "      <td>2004-04-29 00:00:00</td>\n",
       "      <td>MSP</td>\n",
       "      <td>Minneapolis/ St.Paul International Airport</td>\n",
       "      <td>Northwest Airlines</td>\n",
       "      <td>Employee Loss (MPCECA)</td>\n",
       "      <td>Checked Baggage</td>\n",
       "      <td>Cameras - Digital</td>\n",
       "      <td>0.0</td>\n",
       "      <td>Settled</td>\n",
       "      <td>142.35</td>\n",
       "      <td>Settle</td>\n",
       "    </tr>\n",
       "    <tr>\n",
       "      <th>38568</th>\n",
       "      <td>2004071359195</td>\n",
       "      <td>2004-06-22 00:00:00</td>\n",
       "      <td>2004-05-14 00:00:00</td>\n",
       "      <td>ABQ</td>\n",
       "      <td>Albuquerque International Sunport Airport</td>\n",
       "      <td>Southwest Airlines</td>\n",
       "      <td>Passenger Property Loss</td>\n",
       "      <td>Checked Baggage</td>\n",
       "      <td>Clothing - Shoes, belts, accessories, etc.</td>\n",
       "      <td>0.0</td>\n",
       "      <td>Settled</td>\n",
       "      <td>64.75</td>\n",
       "      <td>Settle</td>\n",
       "    </tr>\n",
       "    <tr>\n",
       "      <th>39270</th>\n",
       "      <td>2004071959705</td>\n",
       "      <td>2004-07-06 00:00:00</td>\n",
       "      <td>2004-05-29 00:00:00</td>\n",
       "      <td>MCO</td>\n",
       "      <td>Orlando International Airport</td>\n",
       "      <td>Southwest Airlines</td>\n",
       "      <td>Passenger Property Loss</td>\n",
       "      <td>Checked Baggage</td>\n",
       "      <td>DVD/CD Players</td>\n",
       "      <td>0.0</td>\n",
       "      <td>Settled</td>\n",
       "      <td>165.00</td>\n",
       "      <td>Settle</td>\n",
       "    </tr>\n",
       "    <tr>\n",
       "      <th>39447</th>\n",
       "      <td>2004072059829</td>\n",
       "      <td>2004-07-07 00:00:00</td>\n",
       "      <td>2004-07-03 00:00:00</td>\n",
       "      <td>NaN</td>\n",
       "      <td>NaN</td>\n",
       "      <td>NaN</td>\n",
       "      <td>Property Damage</td>\n",
       "      <td>Checked Baggage</td>\n",
       "      <td>Clothing - Shoes, belts, accessories, etc.</td>\n",
       "      <td>0.0</td>\n",
       "      <td>Settled</td>\n",
       "      <td>75.00</td>\n",
       "      <td>Settle</td>\n",
       "    </tr>\n",
       "    <tr>\n",
       "      <th>40099</th>\n",
       "      <td>2004080460577</td>\n",
       "      <td>2004-07-13 00:00:00</td>\n",
       "      <td>2004-05-31 00:00:00</td>\n",
       "      <td>DAY</td>\n",
       "      <td>James M. Cox Dayton International</td>\n",
       "      <td>Delta Air Lines</td>\n",
       "      <td>Property Damage</td>\n",
       "      <td>Checked Baggage</td>\n",
       "      <td>Luggage (all types including footlockers)</td>\n",
       "      <td>0.0</td>\n",
       "      <td>Denied</td>\n",
       "      <td>0.00</td>\n",
       "      <td>Deny</td>\n",
       "    </tr>\n",
       "    <tr>\n",
       "      <th>40220</th>\n",
       "      <td>2004080960748</td>\n",
       "      <td>2004-07-15 00:00:00</td>\n",
       "      <td>2004-06-25 00:00:00</td>\n",
       "      <td>ALB</td>\n",
       "      <td>Albany International</td>\n",
       "      <td>Southwest Airlines</td>\n",
       "      <td>Passenger Property Loss</td>\n",
       "      <td>Checked Baggage</td>\n",
       "      <td>Cameras - Digital</td>\n",
       "      <td>0.0</td>\n",
       "      <td>Approved</td>\n",
       "      <td>427.95</td>\n",
       "      <td>Approve in Full</td>\n",
       "    </tr>\n",
       "    <tr>\n",
       "      <th>40495</th>\n",
       "      <td>2004072860149</td>\n",
       "      <td>2004-07-20 00:00:00</td>\n",
       "      <td>2004-07-06 00:00:00</td>\n",
       "      <td>IND</td>\n",
       "      <td>Indianapolis International</td>\n",
       "      <td>NaN</td>\n",
       "      <td>Passenger Property Loss</td>\n",
       "      <td>Checked Baggage</td>\n",
       "      <td>Other</td>\n",
       "      <td>0.0</td>\n",
       "      <td>Approved</td>\n",
       "      <td>100.00</td>\n",
       "      <td>Approve in Full</td>\n",
       "    </tr>\n",
       "    <tr>\n",
       "      <th>41325</th>\n",
       "      <td>2005022876825</td>\n",
       "      <td>2004-07-29 00:00:00</td>\n",
       "      <td>2004-03-21 00:00:00</td>\n",
       "      <td>I</td>\n",
       "      <td>Insurance Subrogation Claim</td>\n",
       "      <td>NaN</td>\n",
       "      <td>Passenger Property Loss</td>\n",
       "      <td>Checked Baggage</td>\n",
       "      <td>Jewelry - Fine</td>\n",
       "      <td>0.0</td>\n",
       "      <td>Denied</td>\n",
       "      <td>0.00</td>\n",
       "      <td>Deny</td>\n",
       "    </tr>\n",
       "    <tr>\n",
       "      <th>41524</th>\n",
       "      <td>2004090362146</td>\n",
       "      <td>2004-08-03 00:00:00</td>\n",
       "      <td>2004-07-24 00:00:00</td>\n",
       "      <td>LAX</td>\n",
       "      <td>Los Angeles International Airport</td>\n",
       "      <td>Alaska Airlines</td>\n",
       "      <td>Passenger Theft</td>\n",
       "      <td>Checked Baggage</td>\n",
       "      <td>Fish/Game</td>\n",
       "      <td>0.0</td>\n",
       "      <td>Denied</td>\n",
       "      <td>NaN</td>\n",
       "      <td>Deny</td>\n",
       "    </tr>\n",
       "    <tr>\n",
       "      <th>44537</th>\n",
       "      <td>2004102165480</td>\n",
       "      <td>2004-09-10 00:00:00</td>\n",
       "      <td>2004-04-29 00:00:00</td>\n",
       "      <td>PHX</td>\n",
       "      <td>Phoenix Sky Harbor International</td>\n",
       "      <td>Thai Airways</td>\n",
       "      <td>Passenger Property Loss</td>\n",
       "      <td>Checked Baggage</td>\n",
       "      <td>Stereo Items &amp; Accessories</td>\n",
       "      <td>0.0</td>\n",
       "      <td>Denied</td>\n",
       "      <td>431.10</td>\n",
       "      <td>Deny</td>\n",
       "    </tr>\n",
       "    <tr>\n",
       "      <th>48718</th>\n",
       "      <td>2004122069315</td>\n",
       "      <td>2004-10-29 00:00:00</td>\n",
       "      <td>2004-09-08 00:00:00</td>\n",
       "      <td>LAX</td>\n",
       "      <td>Los Angeles International Airport</td>\n",
       "      <td>UAL</td>\n",
       "      <td>Passenger Property Loss</td>\n",
       "      <td>Checked Baggage</td>\n",
       "      <td>Cameras - Digital</td>\n",
       "      <td>0.0</td>\n",
       "      <td>Denied</td>\n",
       "      <td>0.00</td>\n",
       "      <td>Deny</td>\n",
       "    </tr>\n",
       "    <tr>\n",
       "      <th>48878</th>\n",
       "      <td>2004122169839</td>\n",
       "      <td>2004-11-02 00:00:00</td>\n",
       "      <td>2004-08-11 00:00:00</td>\n",
       "      <td>NaN</td>\n",
       "      <td>NaN</td>\n",
       "      <td>NaN</td>\n",
       "      <td>Property Damage</td>\n",
       "      <td>Checked Baggage</td>\n",
       "      <td>Locks</td>\n",
       "      <td>0.0</td>\n",
       "      <td>Denied</td>\n",
       "      <td>NaN</td>\n",
       "      <td>Deny</td>\n",
       "    </tr>\n",
       "    <tr>\n",
       "      <th>49853</th>\n",
       "      <td>2004122170265</td>\n",
       "      <td>2004-11-15 00:00:00</td>\n",
       "      <td>2004-10-30 00:00:00</td>\n",
       "      <td>TUL</td>\n",
       "      <td>Tulsa International Airport</td>\n",
       "      <td>NaN</td>\n",
       "      <td>Property Damage</td>\n",
       "      <td>Checked Baggage</td>\n",
       "      <td>Other</td>\n",
       "      <td>0.0</td>\n",
       "      <td>Approved</td>\n",
       "      <td>30.00</td>\n",
       "      <td>Approve in Full</td>\n",
       "    </tr>\n",
       "    <tr>\n",
       "      <th>51572</th>\n",
       "      <td>2004123071904</td>\n",
       "      <td>2004-12-08 00:00:00</td>\n",
       "      <td>NaN</td>\n",
       "      <td>JFK</td>\n",
       "      <td>John F. Kennedy International</td>\n",
       "      <td>America West</td>\n",
       "      <td>Passenger Property Loss</td>\n",
       "      <td>Checked Baggage</td>\n",
       "      <td>Other</td>\n",
       "      <td>0.0</td>\n",
       "      <td>Denied</td>\n",
       "      <td>0.00</td>\n",
       "      <td>Deny</td>\n",
       "    </tr>\n",
       "    <tr>\n",
       "      <th>51575</th>\n",
       "      <td>2004123071936</td>\n",
       "      <td>2004-12-08 00:00:00</td>\n",
       "      <td>2003-12-03 00:00:00</td>\n",
       "      <td>HOU</td>\n",
       "      <td>William P. Hobby</td>\n",
       "      <td>Northwest Airlines</td>\n",
       "      <td>Passenger Property Loss</td>\n",
       "      <td>Checked Baggage</td>\n",
       "      <td>Other</td>\n",
       "      <td>0.0</td>\n",
       "      <td>Denied</td>\n",
       "      <td>0.00</td>\n",
       "      <td>Deny</td>\n",
       "    </tr>\n",
       "    <tr>\n",
       "      <th>51869</th>\n",
       "      <td>2005010372347</td>\n",
       "      <td>2004-12-13 00:00:00</td>\n",
       "      <td>2004-12-05 00:00:00</td>\n",
       "      <td>ATL</td>\n",
       "      <td>Hartsfield-Jackson Atlanta International Airport</td>\n",
       "      <td>Delta Air Lines</td>\n",
       "      <td>Passenger Property Loss</td>\n",
       "      <td>Checked Baggage</td>\n",
       "      <td>Other</td>\n",
       "      <td>0.0</td>\n",
       "      <td>Denied</td>\n",
       "      <td>0.00</td>\n",
       "      <td>Deny</td>\n",
       "    </tr>\n",
       "    <tr>\n",
       "      <th>52682</th>\n",
       "      <td>2005011073289</td>\n",
       "      <td>2004-12-21 00:00:00</td>\n",
       "      <td>2004-12-13 00:00:00</td>\n",
       "      <td>STL</td>\n",
       "      <td>Lambert St. Louis International</td>\n",
       "      <td>American West</td>\n",
       "      <td>Passenger Property Loss</td>\n",
       "      <td>Checked Baggage</td>\n",
       "      <td>Other</td>\n",
       "      <td>0.0</td>\n",
       "      <td>Denied</td>\n",
       "      <td>NaN</td>\n",
       "      <td>Deny</td>\n",
       "    </tr>\n",
       "    <tr>\n",
       "      <th>53580</th>\n",
       "      <td>2005020275375</td>\n",
       "      <td>2005-01-04 00:00:00</td>\n",
       "      <td>2004-12-19 00:00:00</td>\n",
       "      <td>ABY</td>\n",
       "      <td>Southwest Georgia Regional Airport ,Albany</td>\n",
       "      <td>Delta Air Lines</td>\n",
       "      <td>Passenger Property Loss</td>\n",
       "      <td>Checked Baggage</td>\n",
       "      <td>Other</td>\n",
       "      <td>0.0</td>\n",
       "      <td>Denied</td>\n",
       "      <td>0.00</td>\n",
       "      <td>Deny</td>\n",
       "    </tr>\n",
       "    <tr>\n",
       "      <th>54591</th>\n",
       "      <td>2005013175062</td>\n",
       "      <td>2005-01-14 00:00:00</td>\n",
       "      <td>2004-12-11 00:00:00</td>\n",
       "      <td>JFK</td>\n",
       "      <td>John F. Kennedy International</td>\n",
       "      <td>NaN</td>\n",
       "      <td>Passenger Property Loss</td>\n",
       "      <td>Checked Baggage</td>\n",
       "      <td>Cameras - Digital</td>\n",
       "      <td>0.0</td>\n",
       "      <td>Denied</td>\n",
       "      <td>0.00</td>\n",
       "      <td>Deny</td>\n",
       "    </tr>\n",
       "    <tr>\n",
       "      <th>57962</th>\n",
       "      <td>2005031778627</td>\n",
       "      <td>2005-02-24 00:00:00</td>\n",
       "      <td>2005-01-28 00:00:00</td>\n",
       "      <td>DEN</td>\n",
       "      <td>Denver International Airport</td>\n",
       "      <td>UAL</td>\n",
       "      <td>Passenger Property Loss</td>\n",
       "      <td>Checked Baggage</td>\n",
       "      <td>Clothing - Shoes, belts, accessories, etc.</td>\n",
       "      <td>0.0</td>\n",
       "      <td>Settled</td>\n",
       "      <td>135.00</td>\n",
       "      <td>Settle</td>\n",
       "    </tr>\n",
       "    <tr>\n",
       "      <th>59663</th>\n",
       "      <td>2005033180795</td>\n",
       "      <td>2005-03-18 00:00:00</td>\n",
       "      <td>2005-02-24 00:00:00</td>\n",
       "      <td>SGF</td>\n",
       "      <td>Springfield-Branson National Airport</td>\n",
       "      <td>Northwest International Airways Ltd</td>\n",
       "      <td>Property Damage</td>\n",
       "      <td>Checked Baggage</td>\n",
       "      <td>Locks</td>\n",
       "      <td>0.0</td>\n",
       "      <td>Denied</td>\n",
       "      <td>NaN</td>\n",
       "      <td>Deny</td>\n",
       "    </tr>\n",
       "    <tr>\n",
       "      <th>86119</th>\n",
       "      <td>2006060507348</td>\n",
       "      <td>2006-06-01 00:00:00</td>\n",
       "      <td>2006-05-21 00:00:00</td>\n",
       "      <td>FNT</td>\n",
       "      <td>Bishop International, Flint</td>\n",
       "      <td>American Airlines</td>\n",
       "      <td>Passenger Property Loss</td>\n",
       "      <td>Checked Baggage</td>\n",
       "      <td>Bags - Fabric, plastic, etc. (not purses); Clo...</td>\n",
       "      <td>0.0</td>\n",
       "      <td>Denied</td>\n",
       "      <td>0.00</td>\n",
       "      <td>Deny</td>\n",
       "    </tr>\n",
       "  </tbody>\n",
       "</table>\n",
       "</div>"
      ],
      "text/plain": [
       "        Claim_Number        Date_Received        Incident_Date Airport_Code  \\\n",
       "2603        0702509M  2003-02-13 00:00:00  2002-12-31 00:00:00          MCO   \n",
       "10289       0708149M  2003-07-08 00:00:00  2003-06-13 00:00:00          OAK   \n",
       "10933       0715177M  2003-07-15 00:00:00  2003-07-01 00:00:00          SEA   \n",
       "16885       0929001M  2003-09-29 00:00:00  2003-08-30 00:00:00          SAN   \n",
       "17088       1002092M  2003-10-02 00:00:00  2003-09-24 00:00:00          MCO   \n",
       "18740       1022232M  2003-10-22 00:00:00  2003-09-23 00:00:00          HOU   \n",
       "21347       1204011M  2003-12-04 00:00:00  2003-10-08 00:00:00          PHL   \n",
       "22896       1217613M  2003-12-17 00:00:00  2003-11-15 00:00:00          CLE   \n",
       "25343       0115228M  2004-01-15 00:00:00  2003-10-13 00:00:00          JFK   \n",
       "29820  2004051050796  2004-03-10 00:00:00  2004-01-07 00:00:00          STL   \n",
       "31246  2004043050268  2004-03-24 00:00:00  2004-03-14 00:00:00          IAD   \n",
       "31303  2004051552298  2004-03-24 00:00:00  2004-03-17 00:00:00          MCO   \n",
       "32484  2004050550512  2004-04-15 00:00:00  2004-03-18 00:00:00          SEA   \n",
       "33179  2004060354538  2004-04-21 00:00:00  2004-02-04 00:00:00          DFW   \n",
       "33560  2004060254180  2004-04-23 00:00:00  2004-03-13 00:00:00          PHL   \n",
       "33569  2004060254270  2004-04-23 00:00:00  2004-04-13 00:00:00          DEN   \n",
       "33575  2004060254365  2004-04-23 00:00:00  2004-03-31 00:00:00          PHX   \n",
       "33577  2004060254369  2004-04-23 00:00:00  2004-03-15 00:00:00          TUS   \n",
       "33579  2004060254385  2004-04-23 00:00:00  2004-04-11 00:00:00          PHX   \n",
       "33941  2004052453252  2004-05-03 00:00:00  2004-04-17 00:00:00          LAX   \n",
       "34972  2004061455599  2004-05-10 00:00:00  2004-04-23 00:00:00          BWI   \n",
       "35263  2004061655960  2004-05-13 00:00:00  2004-04-15 00:00:00          ATL   \n",
       "36540  2004062256941  2004-05-28 00:00:00  2004-02-17 00:00:00          IAD   \n",
       "36541  2004062256942  2004-05-28 00:00:00  2004-05-19 00:00:00          ONT   \n",
       "36924  2004062857559  2004-06-03 00:00:00  2004-04-05 00:00:00          MSP   \n",
       "37299  2004062957836  2004-06-07 00:00:00  2004-05-11 00:00:00          FAT   \n",
       "37315  2004062857673  2004-06-08 00:00:00  2004-06-01 00:00:00          IAH   \n",
       "37704  2005080590120  2004-06-10 00:00:00  2003-11-17 00:00:00          DTW   \n",
       "38071  2004070658342  2004-06-16 00:00:00  2004-04-29 00:00:00          MSP   \n",
       "38568  2004071359195  2004-06-22 00:00:00  2004-05-14 00:00:00          ABQ   \n",
       "39270  2004071959705  2004-07-06 00:00:00  2004-05-29 00:00:00          MCO   \n",
       "39447  2004072059829  2004-07-07 00:00:00  2004-07-03 00:00:00          NaN   \n",
       "40099  2004080460577  2004-07-13 00:00:00  2004-05-31 00:00:00          DAY   \n",
       "40220  2004080960748  2004-07-15 00:00:00  2004-06-25 00:00:00          ALB   \n",
       "40495  2004072860149  2004-07-20 00:00:00  2004-07-06 00:00:00          IND   \n",
       "41325  2005022876825  2004-07-29 00:00:00  2004-03-21 00:00:00            I   \n",
       "41524  2004090362146  2004-08-03 00:00:00  2004-07-24 00:00:00          LAX   \n",
       "44537  2004102165480  2004-09-10 00:00:00  2004-04-29 00:00:00          PHX   \n",
       "48718  2004122069315  2004-10-29 00:00:00  2004-09-08 00:00:00          LAX   \n",
       "48878  2004122169839  2004-11-02 00:00:00  2004-08-11 00:00:00          NaN   \n",
       "49853  2004122170265  2004-11-15 00:00:00  2004-10-30 00:00:00          TUL   \n",
       "51572  2004123071904  2004-12-08 00:00:00                  NaN          JFK   \n",
       "51575  2004123071936  2004-12-08 00:00:00  2003-12-03 00:00:00          HOU   \n",
       "51869  2005010372347  2004-12-13 00:00:00  2004-12-05 00:00:00          ATL   \n",
       "52682  2005011073289  2004-12-21 00:00:00  2004-12-13 00:00:00          STL   \n",
       "53580  2005020275375  2005-01-04 00:00:00  2004-12-19 00:00:00          ABY   \n",
       "54591  2005013175062  2005-01-14 00:00:00  2004-12-11 00:00:00          JFK   \n",
       "57962  2005031778627  2005-02-24 00:00:00  2005-01-28 00:00:00          DEN   \n",
       "59663  2005033180795  2005-03-18 00:00:00  2005-02-24 00:00:00          SGF   \n",
       "86119  2006060507348  2006-06-01 00:00:00  2006-05-21 00:00:00          FNT   \n",
       "\n",
       "                                           Airport_Name  \\\n",
       "2603                      Orlando International Airport   \n",
       "10289                Metropolitan Oakland International   \n",
       "10933                      Seattle-Tacoma International   \n",
       "16885                           San Diego International   \n",
       "17088                     Orlando International Airport   \n",
       "18740                                  William P. Hobby   \n",
       "21347                Philadelphia International Airport   \n",
       "22896                   Cleveland Hopkins International   \n",
       "25343                     John F. Kennedy International   \n",
       "29820                   Lambert St. Louis International   \n",
       "31246                   Washington Dulles International   \n",
       "31303                     Orlando International Airport   \n",
       "32484                      Seattle-Tacoma International   \n",
       "33179           Dallas-Fort Worth International Airport   \n",
       "33560                Philadelphia International Airport   \n",
       "33569                      Denver International Airport   \n",
       "33575                  Phoenix Sky Harbor International   \n",
       "33577                              Tucson International   \n",
       "33579                  Phoenix Sky Harbor International   \n",
       "33941                 Los Angeles International Airport   \n",
       "34972       Baltimore/Washington Intl Thurgood Marshall   \n",
       "35263  Hartsfield-Jackson Atlanta International Airport   \n",
       "36540                   Washington Dulles International   \n",
       "36541                             Ontario International   \n",
       "36924        Minneapolis/ St.Paul International Airport   \n",
       "37299                     Fresno Yosemite International   \n",
       "37315    Houston - George Bush Intercontinental Airport   \n",
       "37704         Detroit Metropolitan Wayne County Airport   \n",
       "38071        Minneapolis/ St.Paul International Airport   \n",
       "38568         Albuquerque International Sunport Airport   \n",
       "39270                     Orlando International Airport   \n",
       "39447                                               NaN   \n",
       "40099                 James M. Cox Dayton International   \n",
       "40220                              Albany International   \n",
       "40495                        Indianapolis International   \n",
       "41325                       Insurance Subrogation Claim   \n",
       "41524                 Los Angeles International Airport   \n",
       "44537                  Phoenix Sky Harbor International   \n",
       "48718                 Los Angeles International Airport   \n",
       "48878                                               NaN   \n",
       "49853                       Tulsa International Airport   \n",
       "51572                     John F. Kennedy International   \n",
       "51575                                  William P. Hobby   \n",
       "51869  Hartsfield-Jackson Atlanta International Airport   \n",
       "52682                   Lambert St. Louis International   \n",
       "53580        Southwest Georgia Regional Airport ,Albany   \n",
       "54591                     John F. Kennedy International   \n",
       "57962                      Denver International Airport   \n",
       "59663              Springfield-Branson National Airport   \n",
       "86119                       Bishop International, Flint   \n",
       "\n",
       "                              Airline_Name               Claim_Type  \\\n",
       "2603                                   UAL          Property Damage   \n",
       "10289                                  UAL  Passenger Property Loss   \n",
       "10933                                  NaN  Passenger Property Loss   \n",
       "16885                                  UAL  Passenger Property Loss   \n",
       "17088                                  NaN                      NaN   \n",
       "18740                 Continental Airlines          Property Damage   \n",
       "21347                      British Airways                      NaN   \n",
       "22896                    American Airlines  Passenger Property Loss   \n",
       "25343                      Virgin Atlantic  Passenger Property Loss   \n",
       "29820                    American Airlines  Passenger Property Loss   \n",
       "31246                                  UAL                      NaN   \n",
       "31303                                  NaN  Passenger Property Loss   \n",
       "32484                      Alaska Airlines  Passenger Property Loss   \n",
       "33179                       Qantus Airways  Passenger Property Loss   \n",
       "33560                                USAir          Property Damage   \n",
       "33569                 Continental Airlines  Passenger Property Loss   \n",
       "33575                                USAir  Passenger Property Loss   \n",
       "33577                                  NaN          Property Damage   \n",
       "33579                         America West  Passenger Property Loss   \n",
       "33941                    American Airlines          Property Damage   \n",
       "34972                    American Airlines  Passenger Property Loss   \n",
       "35263                      Delta Air Lines  Passenger Property Loss   \n",
       "36540                      Virgin Atlantic          Property Damage   \n",
       "36541                    American Airlines  Passenger Property Loss   \n",
       "36924                   Northwest Airlines          Property Damage   \n",
       "37299                    American Airlines          Property Damage   \n",
       "37315                                  NaN          Property Damage   \n",
       "37704                                  NaN  Passenger Property Loss   \n",
       "38071                   Northwest Airlines   Employee Loss (MPCECA)   \n",
       "38568                   Southwest Airlines  Passenger Property Loss   \n",
       "39270                   Southwest Airlines  Passenger Property Loss   \n",
       "39447                                  NaN          Property Damage   \n",
       "40099                      Delta Air Lines          Property Damage   \n",
       "40220                   Southwest Airlines  Passenger Property Loss   \n",
       "40495                                  NaN  Passenger Property Loss   \n",
       "41325                                  NaN  Passenger Property Loss   \n",
       "41524                      Alaska Airlines          Passenger Theft   \n",
       "44537                         Thai Airways  Passenger Property Loss   \n",
       "48718                                  UAL  Passenger Property Loss   \n",
       "48878                                  NaN          Property Damage   \n",
       "49853                                  NaN          Property Damage   \n",
       "51572                         America West  Passenger Property Loss   \n",
       "51575                   Northwest Airlines  Passenger Property Loss   \n",
       "51869                      Delta Air Lines  Passenger Property Loss   \n",
       "52682                        American West  Passenger Property Loss   \n",
       "53580                      Delta Air Lines  Passenger Property Loss   \n",
       "54591                                  NaN  Passenger Property Loss   \n",
       "57962                                  UAL  Passenger Property Loss   \n",
       "59663  Northwest International Airways Ltd          Property Damage   \n",
       "86119                    American Airlines  Passenger Property Loss   \n",
       "\n",
       "            Claim_Site                                               Item  \\\n",
       "2603   Checked Baggage                                              Locks   \n",
       "10289  Checked Baggage                                     Jewelry - Fine   \n",
       "10933       Checkpoint                                              Other   \n",
       "16885  Checked Baggage                                              Other   \n",
       "17088       Checkpoint                                        Cell Phones   \n",
       "18740  Checked Baggage                                  Computer - Laptop   \n",
       "21347  Checked Baggage                                              Other   \n",
       "22896  Checked Baggage                                     Jewelry - Fine   \n",
       "25343       Checkpoint                                              Other   \n",
       "29820       Checkpoint                                     Jewelry - Fine   \n",
       "31246  Checked Baggage                                              Locks   \n",
       "31303       Checkpoint                                              Other   \n",
       "32484  Checked Baggage                                              Other   \n",
       "33179  Checked Baggage          Luggage (all types including footlockers)   \n",
       "33560  Checked Baggage                                              Locks   \n",
       "33569  Checked Baggage                                  Cameras - Digital   \n",
       "33575  Checked Baggage                                              Other   \n",
       "33577  Checked Baggage                                              Locks   \n",
       "33579  Checked Baggage                                              Other   \n",
       "33941  Checked Baggage                                              Other   \n",
       "34972  Checked Baggage                                  Cameras - Digital   \n",
       "35263       Checkpoint                                  Computer - Laptop   \n",
       "36540  Checked Baggage          Luggage (all types including footlockers)   \n",
       "36541  Checked Baggage                                              Other   \n",
       "36924  Checked Baggage                                  Cameras - Digital   \n",
       "37299  Checked Baggage          Luggage (all types including footlockers)   \n",
       "37315  Checked Baggage                                  Computer - Laptop   \n",
       "37704  Checked Baggage                                  Cameras - Digital   \n",
       "38071  Checked Baggage                                  Cameras - Digital   \n",
       "38568  Checked Baggage         Clothing - Shoes, belts, accessories, etc.   \n",
       "39270  Checked Baggage                                     DVD/CD Players   \n",
       "39447  Checked Baggage         Clothing - Shoes, belts, accessories, etc.   \n",
       "40099  Checked Baggage          Luggage (all types including footlockers)   \n",
       "40220  Checked Baggage                                  Cameras - Digital   \n",
       "40495  Checked Baggage                                              Other   \n",
       "41325  Checked Baggage                                     Jewelry - Fine   \n",
       "41524  Checked Baggage                                          Fish/Game   \n",
       "44537  Checked Baggage                         Stereo Items & Accessories   \n",
       "48718  Checked Baggage                                  Cameras - Digital   \n",
       "48878  Checked Baggage                                              Locks   \n",
       "49853  Checked Baggage                                              Other   \n",
       "51572  Checked Baggage                                              Other   \n",
       "51575  Checked Baggage                                              Other   \n",
       "51869  Checked Baggage                                              Other   \n",
       "52682  Checked Baggage                                              Other   \n",
       "53580  Checked Baggage                                              Other   \n",
       "54591  Checked Baggage                                  Cameras - Digital   \n",
       "57962  Checked Baggage         Clothing - Shoes, belts, accessories, etc.   \n",
       "59663  Checked Baggage                                              Locks   \n",
       "86119  Checked Baggage  Bags - Fabric, plastic, etc. (not purses); Clo...   \n",
       "\n",
       "       Claim_Amount    Status  Close_Amount      Disposition  \n",
       "2603            0.0    Denied          0.00             Deny  \n",
       "10289           0.0    Denied          0.00             Deny  \n",
       "10933           0.0    Denied          0.00             Deny  \n",
       "16885           0.0    Denied          0.00             Deny  \n",
       "17088           0.0    Denied          0.00             Deny  \n",
       "18740           0.0    Denied          0.00             Deny  \n",
       "21347           0.0    Denied          0.00             Deny  \n",
       "22896           0.0    Denied          0.00             Deny  \n",
       "25343           0.0    Denied          0.00             Deny  \n",
       "29820           0.0    Denied          0.00             Deny  \n",
       "31246           0.0    Denied          0.00             Deny  \n",
       "31303           0.0    Denied          0.00             Deny  \n",
       "32484           0.0    Denied          0.00             Deny  \n",
       "33179           0.0    Denied          0.00             Deny  \n",
       "33560           0.0    Denied          0.00             Deny  \n",
       "33569           0.0    Denied          0.00             Deny  \n",
       "33575           0.0    Denied          0.00             Deny  \n",
       "33577           0.0    Denied          0.00             Deny  \n",
       "33579           0.0    Denied          0.00             Deny  \n",
       "33941           0.0    Denied          0.00             Deny  \n",
       "34972           0.0    Denied          0.00             Deny  \n",
       "35263           0.0    Denied          0.00             Deny  \n",
       "36540           0.0  Approved        335.00  Approve in Full  \n",
       "36541           0.0  Approved        179.95  Approve in Full  \n",
       "36924           0.0    Denied          0.00             Deny  \n",
       "37299           0.0   Settled         50.00           Settle  \n",
       "37315           0.0  Approved        299.00  Approve in Full  \n",
       "37704           0.0    Denied          0.00             Deny  \n",
       "38071           0.0   Settled        142.35           Settle  \n",
       "38568           0.0   Settled         64.75           Settle  \n",
       "39270           0.0   Settled        165.00           Settle  \n",
       "39447           0.0   Settled         75.00           Settle  \n",
       "40099           0.0    Denied          0.00             Deny  \n",
       "40220           0.0  Approved        427.95  Approve in Full  \n",
       "40495           0.0  Approved        100.00  Approve in Full  \n",
       "41325           0.0    Denied          0.00             Deny  \n",
       "41524           0.0    Denied           NaN             Deny  \n",
       "44537           0.0    Denied        431.10             Deny  \n",
       "48718           0.0    Denied          0.00             Deny  \n",
       "48878           0.0    Denied           NaN             Deny  \n",
       "49853           0.0  Approved         30.00  Approve in Full  \n",
       "51572           0.0    Denied          0.00             Deny  \n",
       "51575           0.0    Denied          0.00             Deny  \n",
       "51869           0.0    Denied          0.00             Deny  \n",
       "52682           0.0    Denied           NaN             Deny  \n",
       "53580           0.0    Denied          0.00             Deny  \n",
       "54591           0.0    Denied          0.00             Deny  \n",
       "57962           0.0   Settled        135.00           Settle  \n",
       "59663           0.0    Denied           NaN             Deny  \n",
       "86119           0.0    Denied          0.00             Deny  "
      ]
     },
     "execution_count": 61,
     "metadata": {},
     "output_type": "execute_result"
    }
   ],
   "source": [
    "df1[(df1.Disposition.notnull()) & (df1.Claim_Amount == 0)]#.Disposition.value_counts()"
   ]
  },
  {
   "cell_type": "code",
   "execution_count": 62,
   "metadata": {
    "collapsed": false
   },
   "outputs": [
    {
     "data": {
      "text/plain": [
       "Denied                                                                                                                           35152\n",
       "Approved                                                                                                                         28218\n",
       "Settled                                                                                                                          22939\n",
       "Canceled                                                                                                                          4322\n",
       "Insufficient, one of the following items required: sum certain, statement of fact, signature, location of incident, and date.     2303\n",
       "Closed as a contractor claim                                                                                                       927\n",
       "In litigation                                                                                                                       72\n",
       "In review                                                                                                                            6\n",
       "Name: Status, dtype: int64"
      ]
     },
     "execution_count": 62,
     "metadata": {},
     "output_type": "execute_result"
    }
   ],
   "source": [
    "df1.Status.value_counts()"
   ]
  },
  {
   "cell_type": "markdown",
   "metadata": {},
   "source": [
    "## Claim Type to Disposition"
   ]
  },
  {
   "cell_type": "code",
   "execution_count": 63,
   "metadata": {
    "collapsed": false
   },
   "outputs": [
    {
     "name": "stdout",
     "output_type": "stream",
     "text": [
      "Passenger Property Loss    49177\n",
      "Property Damage            37398\n",
      "Passenger Theft              439\n",
      "Personal Injury              429\n",
      "Employee Loss (MPCECA)       413\n",
      "Motor Vehicle                 62\n",
      "Name: Claim_Type, dtype: int64\n"
     ]
    },
    {
     "data": {
      "text/plain": [
       "<matplotlib.axes._subplots.AxesSubplot at 0x117438510>"
      ]
     },
     "execution_count": 63,
     "metadata": {},
     "output_type": "execute_result"
    },
    {
     "data": {
      "image/png": "[encoded data removed]",
      "text/plain": [
       "<matplotlib.figure.Figure at 0x11703dc90>"
      ]
     },
     "metadata": {},
     "output_type": "display_data"
    }
   ],
   "source": [
    "print(df1.Claim_Type.value_counts())\n",
    "df1.Claim_Type.value_counts().plot(kind='bar')"
   ]
  },
  {
   "cell_type": "code",
   "execution_count": 64,
   "metadata": {
    "collapsed": false
   },
   "outputs": [
    {
     "data": {
      "text/plain": [
       "<matplotlib.axes._subplots.AxesSubplot at 0x117ef25d0>"
      ]
     },
     "execution_count": 64,
     "metadata": {},
     "output_type": "execute_result"
    },
    {
     "data": {
      "image/png": "[encoded data removed]",
      "text/plain": [
       "<matplotlib.figure.Figure at 0x117ef2610>"
      ]
     },
     "metadata": {},
     "output_type": "display_data"
    }
   ],
   "source": [
    "plt.figure(figsize=(7,7))\n",
    "sns.countplot(y='Claim_Type',hue='Disposition',data=df1)"
   ]
  },
  {
   "cell_type": "code",
   "execution_count": 65,
   "metadata": {
    "collapsed": false
   },
   "outputs": [
    {
     "data": {
      "text/plain": [
       "<matplotlib.axes._subplots.AxesSubplot at 0x117a10d50>"
      ]
     },
     "execution_count": 65,
     "metadata": {},
     "output_type": "execute_result"
    },
    {
     "data": {
      "image/png": "[encoded data removed]",
      "text/plain": [
       "<matplotlib.figure.Figure at 0x117bba210>"
      ]
     },
     "metadata": {},
     "output_type": "display_data"
    }
   ],
   "source": [
    "df1.groupby('Claim_Type')['Disposition'].agg('value_counts','count').unstack().plot(kind='bar',\\\n",
    "                                                                                   figsize=(10,6))"
   ]
  },
  {
   "cell_type": "markdown",
   "metadata": {},
   "source": [
    "## Airport Code to Dispostion"
   ]
  },
  {
   "cell_type": "code",
   "execution_count": 66,
   "metadata": {
    "collapsed": false
   },
   "outputs": [
    {
     "data": {
      "text/plain": [
       "<matplotlib.axes._subplots.AxesSubplot at 0x1173cd850>"
      ]
     },
     "execution_count": 66,
     "metadata": {},
     "output_type": "execute_result"
    },
    {
     "data": {
      "image/png": "[encoded data removed]",
      "text/plain": [
       "<matplotlib.figure.Figure at 0x117ad0b50>"
      ]
     },
     "metadata": {},
     "output_type": "display_data"
    }
   ],
   "source": [
    "df1.Airport_Code.value_counts().head(20).plot(kind='barh', figsize=(6,5))"
   ]
  },
  {
   "cell_type": "code",
   "execution_count": 67,
   "metadata": {
    "collapsed": false
   },
   "outputs": [
    {
     "name": "stdout",
     "output_type": "stream",
     "text": [
      "[u'LAX', u'ORD', u'EWR', u'MIA', u'JFK', u'SEA', u'PHX', u'MCO', u'ATL', u'PHL', u'LGA', u'DFW', u'LAS', u'FLL', u'MSP', u'DTW', u'DEN', u'TPA', u'IAD', u'BOS']\n"
     ]
    },
    {
     "data": {
      "text/plain": [
       "<matplotlib.axes._subplots.AxesSubplot at 0x1178e6490>"
      ]
     },
     "execution_count": 67,
     "metadata": {},
     "output_type": "execute_result"
    },
    {
     "data": {
      "image/png": "[encoded data removed]",
      "text/plain": [
       "<matplotlib.figure.Figure at 0x1178e6dd0>"
      ]
     },
     "metadata": {},
     "output_type": "display_data"
    }
   ],
   "source": [
    "top20_airports = df1.Airport_Code.value_counts().head(20).index.tolist()\n",
    "print top20_airports\n",
    "plt.figure(figsize=(8,14))\n",
    "sns.countplot(y='Airport_Code',hue='Disposition',data=df1[df1.Airport_Code.isin(top20_airports)])"
   ]
  },
  {
   "cell_type": "code",
   "execution_count": null,
   "metadata": {
    "collapsed": false
   },
   "outputs": [],
   "source": [
    "df1[df1.Airport_Code.isin(top20_airports)].groupby('Airport_Code')['Disposition']\\\n",
    "                                        .agg('value_counts','count')\\\n",
    "                                        .unstack()\\\n",
    "                                        .sort_values(by='Deny')\\\n",
    "                                        .plot(kind='barh', figsize=(8,14))"
   ]
  },
  {
   "cell_type": "code",
   "execution_count": null,
   "metadata": {
    "collapsed": false
   },
   "outputs": [],
   "source": [
    "# df1[df1.Airport_Code.isin(top20_airports)].groupby('Airport_Code')['Disposition']\\\n",
    "#                                         .agg('value_counts','count')\\\n",
    "#                                         .unstack()\\\n",
    "#                                         .plot(kind='barh',figsize=(8,14))"
   ]
  },
  {
   "cell_type": "code",
   "execution_count": null,
   "metadata": {
    "collapsed": false
   },
   "outputs": [],
   "source": [
    "print(df1.Claim_Site.value_counts())\n",
    "df1.Claim_Site.value_counts().plot(kind='bar')"
   ]
  },
  {
   "cell_type": "code",
   "execution_count": null,
   "metadata": {
    "collapsed": false
   },
   "outputs": [],
   "source": [
    "fig, ax = plt.subplots()\n",
    "\n",
    "ax.set_color_cycle(['green', 'blue', 'red'])\n",
    "\n",
    "df1.groupby('Claim_Site')['Disposition'].agg('value_counts','count').unstack()\\\n",
    "                                        .sort_values('Approve in Full')\\\n",
    "                                        .plot(ax=ax, kind='bar', color=['#2ca02c','#1f77b4','#d62728'])"
   ]
  },
  {
   "cell_type": "code",
   "execution_count": null,
   "metadata": {
    "collapsed": false
   },
   "outputs": [],
   "source": []
  },
  {
   "cell_type": "code",
   "execution_count": null,
   "metadata": {
    "collapsed": true
   },
   "outputs": [],
   "source": []
  }
 ],
 "metadata": {
  "anaconda-cloud": {},
  "kernelspec": {
   "display_name": "Python [py27_ds_dt_13]",
   "language": "python",
   "name": "Python [py27_ds_dt_13]"
  },
  "language_info": {
   "codemirror_mode": {
    "name": "ipython",
    "version": 2
   },
   "file_extension": ".py",
   "mimetype": "text/x-python",
   "name": "python",
   "nbconvert_exporter": "python",
   "pygments_lexer": "ipython2",
   "version": "2.7.13"
  }
 },
 "nbformat": 4,
 "nbformat_minor": 0
}
